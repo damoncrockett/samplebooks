{
 "cells": [
  {
   "cell_type": "code",
   "execution_count": null,
   "id": "1afb3ad0-6b3b-4978-8ae4-55c6569a433a",
   "metadata": {},
   "outputs": [],
   "source": [
    "import pandas as pd\n",
    "import json,os\n",
    "from tqdm import tqdm\n",
    "import numpy as np\n",
    "from scipy.optimize import minimize"
   ]
  },
  {
   "cell_type": "code",
   "execution_count": null,
   "id": "c71d12a4-d6b9-454f-91a0-bc18c0c06b2e",
   "metadata": {},
   "outputs": [],
   "source": [
    "df = pd.read_csv(\"matchups.csv\")"
   ]
  },
  {
   "cell_type": "code",
   "execution_count": null,
   "id": "55d601c9-b536-4832-9148-1985483a1fd9",
   "metadata": {},
   "outputs": [],
   "source": [
    "df['image_group'] = df.groupby('image_path').ngroup() \n",
    "image_groups = df.groupby('image_group')"
   ]
  },
  {
   "cell_type": "code",
   "execution_count": null,
   "id": "659ee5d2-0d0f-48d2-a018-bba9cebea929",
   "metadata": {},
   "outputs": [],
   "source": [
    "all_models = pd.concat([df['selected_model'], df['other_model']]).unique()\n",
    "model_to_idx = {model: idx for idx, model in enumerate(all_models)}\n",
    "n_models = len(all_models)"
   ]
  },
  {
   "cell_type": "code",
   "execution_count": null,
   "id": "7c9ccd1e-879c-44c8-b823-276d6afbc84e",
   "metadata": {},
   "outputs": [],
   "source": [
    "def fit_bradley_terry(df, all_models, model_to_idx, n_models):\n",
    "    \n",
    "    wins = np.zeros((n_models, n_models))\n",
    "    \n",
    "    for _, row in df.iterrows():\n",
    "        winner_idx = model_to_idx[row['selected_model']]\n",
    "        loser_idx = model_to_idx[row['other_model']]\n",
    "        wins[winner_idx, loser_idx] += 1\n",
    "    \n",
    "    # Initialize strengths equally\n",
    "    initial_strengths = np.ones(n_models) / n_models\n",
    "\n",
    "    def neg_log_likelihood(strengths):\n",
    "        strengths = np.exp(strengths)  # Ensure positive strengths\n",
    "        strengths = strengths / sum(strengths)  # Normalize\n",
    "        ll = 0\n",
    "        for i in range(n_models):\n",
    "            for j in range(n_models):\n",
    "                if wins[i, j] > 0:\n",
    "                    p_ij = strengths[i] / (strengths[i] + strengths[j])\n",
    "                    ll += wins[i, j] * np.log(p_ij)\n",
    "        return -ll\n",
    "\n",
    "    result = minimize(neg_log_likelihood, np.log(initial_strengths), method='BFGS')\n",
    "    strengths = np.exp(result.x)\n",
    "    strengths = strengths / sum(strengths)\n",
    "    \n",
    "    return strengths"
   ]
  },
  {
   "cell_type": "code",
   "execution_count": null,
   "id": "2c754c95-5a35-4e22-b0b0-f0dbeeed5da3",
   "metadata": {},
   "outputs": [],
   "source": [
    "np.random.seed(42)\n",
    "\n",
    "n_bootstrap = 1000\n",
    "bootstrap_strengths = []\n",
    "\n",
    "for _ in tqdm(range(n_bootstrap)):\n",
    "    \n",
    "    sampled_images = np.random.choice(list(image_groups.groups.keys()), size=len(image_groups), replace=True)\n",
    "    sampled_data = pd.concat([image_groups.get_group(img) for img in sampled_images])\n",
    "    \n",
    "    results = fit_bradley_terry(sampled_data, all_models, model_to_idx, n_models)\n",
    "    assert(len(results)) == 10\n",
    "    bootstrap_strengths.append(results)"
   ]
  },
  {
   "cell_type": "code",
   "execution_count": null,
   "id": "560d716d-498a-4037-bc21-8cc2fd59b933",
   "metadata": {},
   "outputs": [],
   "source": [
    "bootstrap_strengths = np.array(bootstrap_strengths)\n",
    "strengths_mean = bootstrap_strengths.mean(axis=0)\n",
    "confidence_intervals = np.percentile(bootstrap_strengths, [2.5, 97.5], axis=0)"
   ]
  },
  {
   "cell_type": "code",
   "execution_count": null,
   "id": "2f92d1d3-7116-4d88-85ec-dcf5fcd15e27",
   "metadata": {},
   "outputs": [],
   "source": [
    "final_results = pd.DataFrame({\n",
    "    'model': all_models,\n",
    "    'mean_strength': strengths_mean,\n",
    "    'ci_lower': confidence_intervals[0],\n",
    "    'ci_upper': confidence_intervals[1]\n",
    "})"
   ]
  },
  {
   "cell_type": "code",
   "execution_count": null,
   "id": "c1c4200e-8e1d-4b8f-b785-47657146d0a2",
   "metadata": {},
   "outputs": [],
   "source": [
    "final_results = final_results.sort_values('mean_strength', ascending=False).reset_index(drop=True)"
   ]
  },
  {
   "cell_type": "code",
   "execution_count": null,
   "id": "c8ec2433-fd1b-4389-ae58-b7dfc8dd6817",
   "metadata": {},
   "outputs": [],
   "source": [
    "final_results.to_csv(\"final_results.csv\",index=False)"
   ]
  },
  {
   "cell_type": "markdown",
   "id": "0eb8af81",
   "metadata": {},
   "source": [
    "# Rank by image"
   ]
  },
  {
   "cell_type": "code",
   "execution_count": null,
   "id": "bf64d161",
   "metadata": {},
   "outputs": [],
   "source": [
    "with open(\"captions_for_web.json\",\"r\") as f:\n",
    "    caption_data = json.load(f)"
   ]
  },
  {
   "cell_type": "code",
   "execution_count": null,
   "id": "e79674d1",
   "metadata": {
    "scrolled": true
   },
   "outputs": [],
   "source": [
    "for i,datum in enumerate(caption_data):\n",
    "    \n",
    "    url = os.path.basename(datum['url'])\n",
    "    tmp = df.loc[df.image_path==url]\n",
    "    \n",
    "    all_models = pd.concat([tmp['selected_model'], tmp['other_model']]).unique()\n",
    "    model_to_idx = {model: idx for idx, model in enumerate(all_models)}\n",
    "    n_models = len(all_models)\n",
    "    wins = np.zeros((n_models, n_models))\n",
    "    \n",
    "    for _, row in tmp.iterrows():\n",
    "        winner_idx = model_to_idx[row['selected_model']]\n",
    "        loser_idx = model_to_idx[row['other_model']]\n",
    "        wins[winner_idx, loser_idx] += 1\n",
    "    \n",
    "    n_models = len(wins)\n",
    "\n",
    "    # Initialize strengths equally\n",
    "    initial_strengths = np.ones(n_models) / n_models\n",
    "\n",
    "    result = minimize(neg_log_likelihood, np.log(initial_strengths), method='BFGS')\n",
    "    strengths = np.exp(result.x)\n",
    "    strengths = strengths / sum(strengths)\n",
    "\n",
    "    results = pd.DataFrame({'model': all_models,'strength': strengths})\n",
    "    results['total_wins'] = wins.sum(axis=1)\n",
    "    results['total_matches'] = wins.sum(axis=1) + wins.sum(axis=0)\n",
    "    results['win_rate'] = results['total_wins'] / results['total_matches']\n",
    "\n",
    "    results = results.sort_values('strength', ascending=False).reset_index(drop=True)\n",
    "        \n",
    "    for j,caption in enumerate(datum[\"captions\"]):\n",
    "        model = caption[\"model\"]\n",
    "        strength = results.strength.loc[results.model==model].iloc[0]\n",
    "        \n",
    "        caption_data[i][\"captions\"][j][\"strength\"] = strength"
   ]
  },
  {
   "cell_type": "code",
   "execution_count": null,
   "id": "26d18edb",
   "metadata": {},
   "outputs": [],
   "source": [
    "with open(\"captions_for_web.json\",\"w\") as f:\n",
    "    json.dump(caption_data,f,indent=4)"
   ]
  },
  {
   "cell_type": "markdown",
   "id": "14d09b70",
   "metadata": {},
   "source": [
    "# Stabilization"
   ]
  },
  {
   "cell_type": "code",
   "execution_count": null,
   "id": "962ec269",
   "metadata": {},
   "outputs": [],
   "source": [
    "all_models = pd.concat([df['selected_model'], df['other_model']]).unique()"
   ]
  },
  {
   "cell_type": "code",
   "execution_count": null,
   "id": "d7b4b53d",
   "metadata": {},
   "outputs": [],
   "source": [
    "model_to_idx = {model: idx for idx, model in enumerate(all_models)}"
   ]
  },
  {
   "cell_type": "code",
   "execution_count": null,
   "id": "cc668148",
   "metadata": {},
   "outputs": [],
   "source": [
    "n_models = len(all_models)"
   ]
  },
  {
   "cell_type": "code",
   "execution_count": null,
   "id": "8eea0528",
   "metadata": {},
   "outputs": [],
   "source": [
    "rankstrings = []\n",
    "for i in range(1350):\n",
    "    \n",
    "    tmp = df.loc[:i]\n",
    "    wins = np.zeros((n_models, n_models))\n",
    "    \n",
    "    for _, row in tmp.iterrows():\n",
    "        winner_idx = model_to_idx[row['selected_model']]\n",
    "        loser_idx = model_to_idx[row['other_model']]\n",
    "        wins[winner_idx, loser_idx] += 1\n",
    "    \n",
    "    n_models = len(wins)\n",
    "\n",
    "    # Initialize strengths equally\n",
    "    initial_strengths = np.ones(n_models) / n_models\n",
    "\n",
    "    result = minimize(neg_log_likelihood, np.log(initial_strengths), method='BFGS')\n",
    "    strengths = np.exp(result.x)\n",
    "    strengths = strengths / sum(strengths)\n",
    "\n",
    "    results = pd.DataFrame({'model': all_models,'strength': strengths})\n",
    "    results['total_wins'] = wins.sum(axis=1)\n",
    "    results['total_matches'] = wins.sum(axis=1) + wins.sum(axis=0)\n",
    "    results['win_rate'] = results['total_wins'] / results['total_matches']\n",
    "\n",
    "    results = results.sort_values('strength', ascending=False).reset_index(drop=True)\n",
    "    \n",
    "    rankstring = \"\".join([str(model_to_idx[item]) for item in results.model])\n",
    "    rankstrings.append((i,rankstring))"
   ]
  }
 ],
 "metadata": {
  "kernelspec": {
   "display_name": "Python 3 (ipykernel)",
   "language": "python",
   "name": "python3"
  },
  "language_info": {
   "codemirror_mode": {
    "name": "ipython",
    "version": 3
   },
   "file_extension": ".py",
   "mimetype": "text/x-python",
   "name": "python",
   "nbconvert_exporter": "python",
   "pygments_lexer": "ipython3",
   "version": "3.10.4"
  }
 },
 "nbformat": 4,
 "nbformat_minor": 5
}
