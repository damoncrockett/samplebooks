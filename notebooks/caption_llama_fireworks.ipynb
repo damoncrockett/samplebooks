{
 "cells": [
  {
   "cell_type": "code",
   "execution_count": null,
   "id": "28f69add-57e6-42cb-96c0-0a212ff4f814",
   "metadata": {},
   "outputs": [],
   "source": [
    "import fireworks.client\n",
    "import os\n",
    "import pickle\n",
    "from dotenv import load_dotenv"
   ]
  },
  {
   "cell_type": "code",
   "execution_count": null,
   "id": "4641f403-c0be-49ac-82bf-9252692aef10",
   "metadata": {},
   "outputs": [],
   "source": [
    "load_dotenv()\n",
    "fireworks.client.api_key = os.getenv(\"FIREWORKS_API_KEY\")"
   ]
  },
  {
   "cell_type": "code",
   "execution_count": null,
   "id": "2c888a87-7a84-40aa-a37d-203a18d96f1b",
   "metadata": {},
   "outputs": [],
   "source": [
    "with open(\"responses_openai.pkl\", \"rb\") as file:\n",
    "    responses = pickle.load(file)"
   ]
  },
  {
   "cell_type": "code",
   "execution_count": null,
   "id": "1d37bb16-9be4-44ce-9bf4-bd3d64a60c9a",
   "metadata": {},
   "outputs": [],
   "source": [
    "urls = list(responses.keys())"
   ]
  },
  {
   "cell_type": "code",
   "execution_count": null,
   "id": "23b95164-d631-44e5-aa72-cc13037eb2c1",
   "metadata": {},
   "outputs": [],
   "source": [
    "urls"
   ]
  },
  {
   "cell_type": "code",
   "execution_count": null,
   "id": "66f6487f-bc31-40c6-8a41-5190ac475d12",
   "metadata": {},
   "outputs": [],
   "source": [
    "with open(\"/Users/damoncrockett/samplebooks/src/assets/txt/modelrank_prompt.txt\", 'r') as f:\n",
    "    prompt = f.read()"
   ]
  },
  {
   "cell_type": "code",
   "execution_count": null,
   "id": "1dc5a1f0-4bf1-404a-a38e-08331c8436f1",
   "metadata": {},
   "outputs": [],
   "source": [
    "prompt"
   ]
  },
  {
   "cell_type": "code",
   "execution_count": null,
   "id": "4932ce7b-a04e-4825-b831-500943c00ab4",
   "metadata": {},
   "outputs": [],
   "source": [
    "def get_response(url):\n",
    "\n",
    "    response = fireworks.client.ChatCompletion.create(\n",
    "      model = \"accounts/fireworks/models/llama-v3p2-90b-vision-instruct\",\n",
    "      messages = [{\n",
    "        \"role\": \"user\",\n",
    "        \"content\": [{\n",
    "          \"type\": \"text\",\n",
    "          \"text\": prompt,\n",
    "        }, {\n",
    "          \"type\": \"image_url\",\n",
    "          \"image_url\": {\n",
    "            \"url\": url\n",
    "          },\n",
    "        }, ],\n",
    "      }],\n",
    "    )\n",
    "    \n",
    "    return response.choices[0].message.content.replace(\"\\n\",\"\")"
   ]
  },
  {
   "cell_type": "code",
   "execution_count": null,
   "id": "e6ee7584-8619-4bbb-bab8-25012cd12008",
   "metadata": {},
   "outputs": [],
   "source": [
    "responses_llama = {}\n",
    "\n",
    "for url in urls:\n",
    "    response = get_response(url)\n",
    "    responses_llama[url] = {'llama-v3p2-90b-vision-instruct':response}"
   ]
  },
  {
   "cell_type": "code",
   "execution_count": null,
   "id": "f17f4d5f-5287-47d7-920b-4972088f50a2",
   "metadata": {},
   "outputs": [],
   "source": [
    "with open(\"responses_llama.pkl\", \"wb\") as f:\n",
    "    pickle.dump(responses_llama, f)"
   ]
  }
 ],
 "metadata": {
  "kernelspec": {
   "display_name": "Python 3 (ipykernel)",
   "language": "python",
   "name": "python3"
  },
  "language_info": {
   "codemirror_mode": {
    "name": "ipython",
    "version": 3
   },
   "file_extension": ".py",
   "mimetype": "text/x-python",
   "name": "python",
   "nbconvert_exporter": "python",
   "pygments_lexer": "ipython3",
   "version": "3.10.4"
  }
 },
 "nbformat": 4,
 "nbformat_minor": 5
}
