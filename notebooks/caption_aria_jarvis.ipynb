{
 "cells": [
  {
   "cell_type": "code",
   "execution_count": 2,
   "id": "a7f6082a-e816-461c-a220-47d65cd4c51d",
   "metadata": {},
   "outputs": [],
   "source": [
    "#!pip install transformers==4.45.0 accelerate==0.34.1 sentencepiece==0.2.0 torchvision requests torch Pillow"
   ]
  },
  {
   "cell_type": "code",
   "execution_count": 4,
   "id": "cec534f3-2eda-487d-851b-f7e6552d30cb",
   "metadata": {},
   "outputs": [],
   "source": [
    "#!pip install flash-attn --no-build-isolation"
   ]
  },
  {
   "cell_type": "code",
   "execution_count": 6,
   "id": "d1d01dde-5df2-433a-b212-dc58e43f843a",
   "metadata": {},
   "outputs": [],
   "source": [
    "#!pip install grouped_gemm==0.1.6"
   ]
  },
  {
   "cell_type": "code",
   "execution_count": 7,
   "id": "43303d54-f880-4aab-a088-192e92df4c76",
   "metadata": {},
   "outputs": [],
   "source": [
    "import requests\n",
    "import torch\n",
    "from PIL import Image\n",
    "from transformers import AutoModelForCausalLM, AutoProcessor"
   ]
  },
  {
   "cell_type": "code",
   "execution_count": 8,
   "id": "ba5495ef-7adb-401c-9758-0b083b415f93",
   "metadata": {},
   "outputs": [],
   "source": [
    "model_id_or_path = \"rhymes-ai/Aria\""
   ]
  },
  {
   "cell_type": "code",
   "execution_count": 9,
   "id": "cd81d6d0-4867-4594-989e-d411a1b84a12",
   "metadata": {},
   "outputs": [
    {
     "data": {
      "application/vnd.jupyter.widget-view+json": {
       "model_id": "6ea98214415e4c4c8896687f42285e74",
       "version_major": 2,
       "version_minor": 0
      },
      "text/plain": [
       "config.json:   0%|          | 0.00/1.26k [00:00<?, ?B/s]"
      ]
     },
     "metadata": {},
     "output_type": "display_data"
    },
    {
     "data": {
      "application/vnd.jupyter.widget-view+json": {
       "model_id": "9db2f3c29bbd4a69aec23c4fc4c2b0a8",
       "version_major": 2,
       "version_minor": 0
      },
      "text/plain": [
       "modeling_aria.py:   0%|          | 0.00/25.2k [00:00<?, ?B/s]"
      ]
     },
     "metadata": {},
     "output_type": "display_data"
    },
    {
     "data": {
      "application/vnd.jupyter.widget-view+json": {
       "model_id": "e977fe8ce845430cad41130d8697ddc7",
       "version_major": 2,
       "version_minor": 0
      },
      "text/plain": [
       "moe_lm.py:   0%|          | 0.00/24.1k [00:00<?, ?B/s]"
      ]
     },
     "metadata": {},
     "output_type": "display_data"
    },
    {
     "name": "stderr",
     "output_type": "stream",
     "text": [
      "A new version of the following files was downloaded from https://huggingface.co/rhymes-ai/Aria:\n",
      "- moe_lm.py\n",
      ". Make sure to double-check they do not contain any added malicious code. To avoid downloading new versions of the code file, you can pin a revision.\n"
     ]
    },
    {
     "data": {
      "application/vnd.jupyter.widget-view+json": {
       "model_id": "354724b6898f4ab08bbcfa56fcfc3784",
       "version_major": 2,
       "version_minor": 0
      },
      "text/plain": [
       "projector.py:   0%|          | 0.00/6.62k [00:00<?, ?B/s]"
      ]
     },
     "metadata": {},
     "output_type": "display_data"
    },
    {
     "name": "stderr",
     "output_type": "stream",
     "text": [
      "A new version of the following files was downloaded from https://huggingface.co/rhymes-ai/Aria:\n",
      "- projector.py\n",
      ". Make sure to double-check they do not contain any added malicious code. To avoid downloading new versions of the code file, you can pin a revision.\n"
     ]
    },
    {
     "data": {
      "application/vnd.jupyter.widget-view+json": {
       "model_id": "8dfeaf6b10c1453e8b33af77fd3bae03",
       "version_major": 2,
       "version_minor": 0
      },
      "text/plain": [
       "configuration_aria.py:   0%|          | 0.00/4.03k [00:00<?, ?B/s]"
      ]
     },
     "metadata": {},
     "output_type": "display_data"
    },
    {
     "data": {
      "application/vnd.jupyter.widget-view+json": {
       "model_id": "c4a17294d7584c67a5fef51478d9f681",
       "version_major": 2,
       "version_minor": 0
      },
      "text/plain": [
       "vision_encoder.py:   0%|          | 0.00/5.25k [00:00<?, ?B/s]"
      ]
     },
     "metadata": {},
     "output_type": "display_data"
    },
    {
     "name": "stderr",
     "output_type": "stream",
     "text": [
      "A new version of the following files was downloaded from https://huggingface.co/rhymes-ai/Aria:\n",
      "- vision_encoder.py\n",
      ". Make sure to double-check they do not contain any added malicious code. To avoid downloading new versions of the code file, you can pin a revision.\n",
      "A new version of the following files was downloaded from https://huggingface.co/rhymes-ai/Aria:\n",
      "- configuration_aria.py\n",
      "- vision_encoder.py\n",
      ". Make sure to double-check they do not contain any added malicious code. To avoid downloading new versions of the code file, you can pin a revision.\n",
      "A new version of the following files was downloaded from https://huggingface.co/rhymes-ai/Aria:\n",
      "- modeling_aria.py\n",
      "- moe_lm.py\n",
      "- projector.py\n",
      "- configuration_aria.py\n",
      ". Make sure to double-check they do not contain any added malicious code. To avoid downloading new versions of the code file, you can pin a revision.\n"
     ]
    },
    {
     "data": {
      "application/vnd.jupyter.widget-view+json": {
       "model_id": "6a2904fae69f4f1f80dc0826f131d44b",
       "version_major": 2,
       "version_minor": 0
      },
      "text/plain": [
       "model.safetensors.index.json:   0%|          | 0.00/81.9k [00:00<?, ?B/s]"
      ]
     },
     "metadata": {},
     "output_type": "display_data"
    },
    {
     "data": {
      "application/vnd.jupyter.widget-view+json": {
       "model_id": "8ffcd4915a264257a220f31780eb9474",
       "version_major": 2,
       "version_minor": 0
      },
      "text/plain": [
       "Downloading shards:   0%|          | 0/12 [00:00<?, ?it/s]"
      ]
     },
     "metadata": {},
     "output_type": "display_data"
    },
    {
     "data": {
      "application/vnd.jupyter.widget-view+json": {
       "model_id": "6f98ed1c526a43a1be57d98c5356a170",
       "version_major": 2,
       "version_minor": 0
      },
      "text/plain": [
       "model-00001-of-00012.safetensors:   0%|          | 0.00/4.92G [00:00<?, ?B/s]"
      ]
     },
     "metadata": {},
     "output_type": "display_data"
    },
    {
     "data": {
      "application/vnd.jupyter.widget-view+json": {
       "model_id": "f77ecce95a20466d9ac6a0a1a60a37cf",
       "version_major": 2,
       "version_minor": 0
      },
      "text/plain": [
       "model-00002-of-00012.safetensors:   0%|          | 0.00/4.57G [00:00<?, ?B/s]"
      ]
     },
     "metadata": {},
     "output_type": "display_data"
    },
    {
     "data": {
      "application/vnd.jupyter.widget-view+json": {
       "model_id": "d51b384069bf463891785911c02237df",
       "version_major": 2,
       "version_minor": 0
      },
      "text/plain": [
       "model-00003-of-00012.safetensors:   0%|          | 0.00/4.13G [00:00<?, ?B/s]"
      ]
     },
     "metadata": {},
     "output_type": "display_data"
    },
    {
     "data": {
      "application/vnd.jupyter.widget-view+json": {
       "model_id": "2cc8056564af420991b01dedd9786d1a",
       "version_major": 2,
       "version_minor": 0
      },
      "text/plain": [
       "model-00004-of-00012.safetensors:   0%|          | 0.00/4.57G [00:00<?, ?B/s]"
      ]
     },
     "metadata": {},
     "output_type": "display_data"
    },
    {
     "data": {
      "application/vnd.jupyter.widget-view+json": {
       "model_id": "1960fc3a8902452289507a441cf51c0c",
       "version_major": 2,
       "version_minor": 0
      },
      "text/plain": [
       "model-00005-of-00012.safetensors:   0%|          | 0.00/4.13G [00:00<?, ?B/s]"
      ]
     },
     "metadata": {},
     "output_type": "display_data"
    },
    {
     "data": {
      "application/vnd.jupyter.widget-view+json": {
       "model_id": "bad8041bd254404f988d0412f9a7384e",
       "version_major": 2,
       "version_minor": 0
      },
      "text/plain": [
       "model-00006-of-00012.safetensors:   0%|          | 0.00/4.57G [00:00<?, ?B/s]"
      ]
     },
     "metadata": {},
     "output_type": "display_data"
    },
    {
     "data": {
      "application/vnd.jupyter.widget-view+json": {
       "model_id": "73d88b213e2541b5b3fcf2f8c6e2ba88",
       "version_major": 2,
       "version_minor": 0
      },
      "text/plain": [
       "model-00007-of-00012.safetensors:   0%|          | 0.00/4.13G [00:00<?, ?B/s]"
      ]
     },
     "metadata": {},
     "output_type": "display_data"
    },
    {
     "data": {
      "application/vnd.jupyter.widget-view+json": {
       "model_id": "a548db3bdaa345459024f13f900639f5",
       "version_major": 2,
       "version_minor": 0
      },
      "text/plain": [
       "model-00008-of-00012.safetensors:   0%|          | 0.00/4.57G [00:00<?, ?B/s]"
      ]
     },
     "metadata": {},
     "output_type": "display_data"
    },
    {
     "data": {
      "application/vnd.jupyter.widget-view+json": {
       "model_id": "1079d6fbb31c4e7f95944f5246b8b3db",
       "version_major": 2,
       "version_minor": 0
      },
      "text/plain": [
       "model-00009-of-00012.safetensors:   0%|          | 0.00/4.13G [00:00<?, ?B/s]"
      ]
     },
     "metadata": {},
     "output_type": "display_data"
    },
    {
     "data": {
      "application/vnd.jupyter.widget-view+json": {
       "model_id": "1bb56f9ffdee435fa35c3c62a1815bb3",
       "version_major": 2,
       "version_minor": 0
      },
      "text/plain": [
       "model-00010-of-00012.safetensors:   0%|          | 0.00/4.57G [00:00<?, ?B/s]"
      ]
     },
     "metadata": {},
     "output_type": "display_data"
    },
    {
     "data": {
      "application/vnd.jupyter.widget-view+json": {
       "model_id": "14557664a47d4008b20be76cda0be537",
       "version_major": 2,
       "version_minor": 0
      },
      "text/plain": [
       "model-00011-of-00012.safetensors:   0%|          | 0.00/4.13G [00:00<?, ?B/s]"
      ]
     },
     "metadata": {},
     "output_type": "display_data"
    },
    {
     "data": {
      "application/vnd.jupyter.widget-view+json": {
       "model_id": "2feba8e1720142a3b2a46abe265399e4",
       "version_major": 2,
       "version_minor": 0
      },
      "text/plain": [
       "model-00012-of-00012.safetensors:   0%|          | 0.00/2.20G [00:00<?, ?B/s]"
      ]
     },
     "metadata": {},
     "output_type": "display_data"
    },
    {
     "name": "stderr",
     "output_type": "stream",
     "text": [
      "AriaMoELMForCausalLM has generative capabilities, as `prepare_inputs_for_generation` is explicitly overwritten. However, it doesn't directly inherit from `GenerationMixin`. From 👉v4.50👈 onwards, `PreTrainedModel` will NOT inherit from `GenerationMixin`, and this model will lose the ability to call `generate` and other related functions.\n",
      "  - If you're using `trust_remote_code=True`, you can get rid of this warning by loading the model with an auto class. See https://huggingface.co/docs/transformers/en/model_doc/auto#auto-classes\n",
      "  - If you are the owner of the model architecture code, please modify your model class such that it inherits from `GenerationMixin` (after `PreTrainedModel`, otherwise you'll get an exception).\n",
      "  - If you are not the owner of the model architecture class, please contact the model code owner to update it.\n"
     ]
    },
    {
     "data": {
      "application/vnd.jupyter.widget-view+json": {
       "model_id": "3bbe20ae46c54aef960e5412c38f3313",
       "version_major": 2,
       "version_minor": 0
      },
      "text/plain": [
       "Loading checkpoint shards:   0%|          | 0/12 [00:00<?, ?it/s]"
      ]
     },
     "metadata": {},
     "output_type": "display_data"
    },
    {
     "data": {
      "application/vnd.jupyter.widget-view+json": {
       "model_id": "8d32d20f2b9f4fac9db6b0860b221a91",
       "version_major": 2,
       "version_minor": 0
      },
      "text/plain": [
       "generation_config.json:   0%|          | 0.00/132 [00:00<?, ?B/s]"
      ]
     },
     "metadata": {},
     "output_type": "display_data"
    }
   ],
   "source": [
    "model = AutoModelForCausalLM.from_pretrained(model_id_or_path, device_map=\"auto\", torch_dtype=torch.bfloat16, trust_remote_code=True)"
   ]
  },
  {
   "cell_type": "code",
   "execution_count": 10,
   "id": "db1cfa5f-2716-4dda-b510-f9122a7d0027",
   "metadata": {},
   "outputs": [
    {
     "data": {
      "application/vnd.jupyter.widget-view+json": {
       "model_id": "87a590439b564e96ac4fca08dcc12510",
       "version_major": 2,
       "version_minor": 0
      },
      "text/plain": [
       "preprocessor_config.json:   0%|          | 0.00/399 [00:00<?, ?B/s]"
      ]
     },
     "metadata": {},
     "output_type": "display_data"
    },
    {
     "data": {
      "application/vnd.jupyter.widget-view+json": {
       "model_id": "d510abaf48324964b3aa715a6660db03",
       "version_major": 2,
       "version_minor": 0
      },
      "text/plain": [
       "processing_aria.py:   0%|          | 0.00/12.2k [00:00<?, ?B/s]"
      ]
     },
     "metadata": {},
     "output_type": "display_data"
    },
    {
     "data": {
      "application/vnd.jupyter.widget-view+json": {
       "model_id": "56a88b0dc755483492e8a125a98e058d",
       "version_major": 2,
       "version_minor": 0
      },
      "text/plain": [
       "vision_processor.py:   0%|          | 0.00/11.5k [00:00<?, ?B/s]"
      ]
     },
     "metadata": {},
     "output_type": "display_data"
    },
    {
     "name": "stderr",
     "output_type": "stream",
     "text": [
      "A new version of the following files was downloaded from https://huggingface.co/rhymes-ai/Aria:\n",
      "- vision_processor.py\n",
      ". Make sure to double-check they do not contain any added malicious code. To avoid downloading new versions of the code file, you can pin a revision.\n",
      "A new version of the following files was downloaded from https://huggingface.co/rhymes-ai/Aria:\n",
      "- processing_aria.py\n",
      "- vision_processor.py\n",
      ". Make sure to double-check they do not contain any added malicious code. To avoid downloading new versions of the code file, you can pin a revision.\n"
     ]
    },
    {
     "data": {
      "application/vnd.jupyter.widget-view+json": {
       "model_id": "4fff7872fd9c4db7844f0f67bbd07e9b",
       "version_major": 2,
       "version_minor": 0
      },
      "text/plain": [
       "tokenizer_config.json:   0%|          | 0.00/1.18k [00:00<?, ?B/s]"
      ]
     },
     "metadata": {},
     "output_type": "display_data"
    },
    {
     "data": {
      "application/vnd.jupyter.widget-view+json": {
       "model_id": "840b5c5c5c9248daba5bcd938477c8cb",
       "version_major": 2,
       "version_minor": 0
      },
      "text/plain": [
       "tokenizer.model:   0%|          | 0.00/1.70M [00:00<?, ?B/s]"
      ]
     },
     "metadata": {},
     "output_type": "display_data"
    },
    {
     "data": {
      "application/vnd.jupyter.widget-view+json": {
       "model_id": "48c5aa0aae6742ba82f8448bb7c3b1d3",
       "version_major": 2,
       "version_minor": 0
      },
      "text/plain": [
       "special_tokens_map.json:   0%|          | 0.00/141 [00:00<?, ?B/s]"
      ]
     },
     "metadata": {},
     "output_type": "display_data"
    }
   ],
   "source": [
    "processor = AutoProcessor.from_pretrained(model_id_or_path, trust_remote_code=True)"
   ]
  },
  {
   "cell_type": "code",
   "execution_count": 11,
   "id": "e2f3c9f6-4a45-48bd-a584-bac9fdee0aa3",
   "metadata": {},
   "outputs": [],
   "source": [
    "urls = [\n",
    " 'https://samplebook.photos/img/4786a.jpg',\n",
    " 'https://samplebook.photos/img/284v.jpg',\n",
    " 'https://samplebook.photos/img/3193c.jpg',\n",
    " 'https://samplebook.photos/img/948d.jpg',\n",
    " 'https://samplebook.photos/img/3191i.jpg',\n",
    " 'https://samplebook.photos/img/4788oo.jpg',\n",
    " 'https://samplebook.photos/img/2086d.jpg',\n",
    " 'https://samplebook.photos/img/4781r.jpg',\n",
    " 'https://samplebook.photos/img/5521n.jpg',\n",
    " 'https://samplebook.photos/img/2073cc.jpg',\n",
    " 'https://samplebook.photos/img/2085b.jpg',\n",
    " 'https://samplebook.photos/img/4782c.jpg',\n",
    " 'https://samplebook.photos/img/4783v.jpg',\n",
    " 'https://samplebook.photos/img/4912gg.jpg',\n",
    " 'https://samplebook.photos/img/304h.jpg',\n",
    " 'https://samplebook.photos/img/2078i.jpg',\n",
    " 'https://samplebook.photos/img/2077q.jpg',\n",
    " 'https://samplebook.photos/img/3192h.jpg',\n",
    " 'https://samplebook.photos/img/904x.jpg',\n",
    " 'https://samplebook.photos/img/4792b.jpg',\n",
    " 'https://samplebook.photos/img/5301p.jpg',\n",
    " 'https://samplebook.photos/img/5207j.jpg',\n",
    " 'https://samplebook.photos/img/1007p.jpg',\n",
    " 'https://samplebook.photos/img/17l.jpg',\n",
    " 'https://samplebook.photos/img/286t.jpg',\n",
    " 'https://samplebook.photos/img/287g.jpg',\n",
    " 'https://samplebook.photos/img/3189j.jpg',\n",
    " 'https://samplebook.photos/img/4911d.jpg',\n",
    " 'https://samplebook.photos/img/4785a.jpg',\n",
    " 'https://samplebook.photos/img/4793a.jpg'\n",
    "]"
   ]
  },
  {
   "cell_type": "code",
   "execution_count": 12,
   "id": "f54064ee-50b6-4f73-9420-400d29bf74d6",
   "metadata": {},
   "outputs": [],
   "source": [
    "prompt = 'There are two objects in this image. One is a color checker, and the other is a photographic sample book, open to a page containing a photograph. Give a detailed description of the photograph.'"
   ]
  },
  {
   "cell_type": "code",
   "execution_count": 13,
   "id": "18a4838d-3e0e-41fa-b4c7-233b574e34c0",
   "metadata": {},
   "outputs": [],
   "source": [
    "def get_response(url):\n",
    "    \n",
    "    image = Image.open(requests.get(url, stream=True).raw)\n",
    "    \n",
    "    messages = [\n",
    "        {\n",
    "            \"role\": \"user\",\n",
    "            \"content\": [\n",
    "                {\"text\": None, \"type\": \"image\"},\n",
    "                {\"text\": prompt, \"type\": \"text\"},\n",
    "            ],\n",
    "        }\n",
    "    ]\n",
    "    \n",
    "    text = processor.apply_chat_template(messages, add_generation_prompt=True)\n",
    "    inputs = processor(text=text, images=image, return_tensors=\"pt\")\n",
    "    inputs[\"pixel_values\"] = inputs[\"pixel_values\"].to(model.dtype)\n",
    "    inputs = {k: v.to(model.device) for k, v in inputs.items()}\n",
    "    \n",
    "    with torch.inference_mode(), torch.cuda.amp.autocast(dtype=torch.bfloat16):\n",
    "        output = model.generate(\n",
    "            **inputs,\n",
    "            max_new_tokens=1024,\n",
    "            stop_strings=[\"<|im_end|>\"],\n",
    "            tokenizer=processor.tokenizer,\n",
    "            do_sample=True,\n",
    "            temperature=0.9,\n",
    "        )\n",
    "        output_ids = output[0][inputs[\"input_ids\"].shape[1]:]\n",
    "        result = processor.decode(output_ids, skip_special_tokens=True)\n",
    "\n",
    "    return result"
   ]
  },
  {
   "cell_type": "code",
   "execution_count": 14,
   "id": "56ea326e-8e17-4bbd-8665-1f53b6e0084c",
   "metadata": {},
   "outputs": [
    {
     "name": "stderr",
     "output_type": "stream",
     "text": [
      "/tmp/ipykernel_89/1589659609.py:20: FutureWarning: `torch.cuda.amp.autocast(args...)` is deprecated. Please use `torch.amp.autocast('cuda', args...)` instead.\n",
      "  with torch.inference_mode(), torch.cuda.amp.autocast(dtype=torch.bfloat16):\n",
      "The `seen_tokens` attribute is deprecated and will be removed in v4.41. Use the `cache_position` model input instead.\n",
      "Starting from v4.46, the `logits` model output will have the same type as the model (except at train time, where it will always be FP32)\n"
     ]
    },
    {
     "name": "stdout",
     "output_type": "stream",
     "text": [
      "https://samplebook.photos/img/4786a.jpg \n",
      " The photograph in the sample book shows a black and white image of a rocky landscape or cliffside. The photograph captures a dramatic scene with sharp contrasts, emphasizing the textures of the rock formations. Some vegetation can be seen scattered across the rocky surface, adding to the image's natural beauty and complexity. The photograph is bordered by a small white margin, and there is text on the right side of the image indicating \"GEVAERT\" and “RIDAX 5”.<|im_end|> \n",
      "\n",
      "\n",
      "https://samplebook.photos/img/284v.jpg \n",
      " The photograph in the sample book appears to depict an industrial scene, most likely a power plant. It features several tall, cylindrical structures, possibly cooling towers, with narrow black and white patterns extending from the top. In the background, there are intricate metal frameworks and crisscrossing cables or pipelines, indicative of a large-scale power generation or distribution facility. The composition is striking, with the contrast between the light and shadow drawing attention to the intricate engineering elements. The overall tone is monochromatic, with the photographic paper showcasing a high level of detail and sharp contrast.<|im_end|> \n",
      "\n",
      "\n",
      "https://samplebook.photos/img/3193c.jpg \n",
      " The photograph in the sample book displays a well-decorated room with a luxurious and elegant interior. The central focus of the image is a chandelier with intricate crystal designs hanging from the ceiling. Below the chandelier is a beautifully set table surrounded by ornate chairs with intricate designs. The room features various items such as artwork on the walls, a standing lamp, and some additional decorative pieces that enhance the sophisticated ambiance. The overall mood of the photograph reflects luxury and refined aesthetics.<|im_end|> \n",
      "\n",
      "\n",
      "https://samplebook.photos/img/948d.jpg \n",
      " The photograph in the open photographic sample book shows a dense tree canopy with numerous branches and leaves. The image is in black and white, creating a stark contrast with the bright foliage and trunks. Through the gaps in the foliage, you can see a few faint structures in the background, which appear to be buildings or other man-made constructions partially obscured by the trees. The composition is intricate, capturing the complex texture and patterns created by the tree branches and the light filtering through them. The photograph is on cream-colored paper, and there is printed text on the top right corner indicating the type of paper used.<|im_end|> \n",
      "\n",
      "\n",
      "https://samplebook.photos/img/3191i.jpg \n",
      " The photograph in the sample book shows an architectural scene featuring a large, classical building with multiple columns and arches. The building appears to be an entrance or gateway. In front of it is a paved square with a large fountain in the center, spouting water. Stone steps lead up to the structure, and the water from the fountain is cascading down these steps. The scene is detailed and seems to evoke a historical or ancient setting, with intricate architectural elements and a serene atmosphere. The photograph is monochromatic, providing a rich, textural representation of the architectural and natural elements in the scene.<|im_end|> \n",
      "\n",
      "\n",
      "https://samplebook.photos/img/4788oo.jpg \n",
      " The photograph in the sample book shows a man who appears to be in his elder years with a full beard, wearing a cap and a collared shirt. He is holding something with his left hand, possibly a pipe or cigarette. The background is dark, which makes the subject stand out more prominently. The lighting is focused on the subject, giving the photograph a dramatic and focused visual quality. There is a label at the bottom of the image that includes the text \"ADLUX\" along with some additional details, indicating it is likely a sample from a photography lab or company.<|im_end|> \n",
      "\n",
      "\n",
      "https://samplebook.photos/img/2086d.jpg \n",
      " The photographic sample book in the image is open to a page containing a black and white photograph. The image features a bridal bouquet with white flowers, likely roses, which are in focus towards the right side of the photograph. In the background, there is a blurred view of what appears to be a bridal dress or formal outfit. The overall composition highlights the texture and details of the flowers in the foreground, while the background provides a soft, contrasting backdrop, emphasizing the bouquet. The photograph carries a classic, timeless feel with its monochromatic tones.<|im_end|> \n",
      "\n",
      "\n",
      "https://samplebook.photos/img/4781r.jpg \n",
      " The photographic sample book is open to a page containing a sepia-toned photograph. The image depicts a person sitting casually, wearing a light-colored shirt with the sleeves rolled up. The individual has short hair and appears relaxed, possibly smiling, although the specific facial expression is not clear. The overall tone of the photograph is warm, with a gentle contrast and a soft focus, giving it a vintage or classic feel, consistent with the sepia effect. This style of photography and toning suggests an emphasis on creating a nostalgic or timeless aesthetic.<|im_end|> \n",
      "\n",
      "\n",
      "https://samplebook.photos/img/5521n.jpg \n",
      " The photograph in the sample book appears to be a black-and-white image featuring a close-up of an industrial or mechanical object, possibly a type of machinery or equipment. The object in the photograph is composed of several cylindrical rings stacked on top of each other, which may be part of a larger mechanical or pneumatic system. The photograph has a caption that reads, \"KODAK MEDALIST Paper F,\" indicating it may be demonstrating the effect of the paper on the image's tone and contrast. The photographic sample book is identified as Kodak Medalist Paper F, and it is noted as being available in both SW (soft white) and DW (deep white) versions. The image is on a page with a yellow border and is placed next to a color checker, likely used to calibrate color reproduction.<|im_end|> \n",
      "\n",
      "\n",
      "https://samplebook.photos/img/2073cc.jpg \n",
      " The photograph in the photographic sample book is an aerial view of an industrial area, showcasing a detailed layout of factories, roads, and surrounding structures. The image displays various buildings arranged in a grid-like pattern with rectangular shapes, indicative of industrial facilities. Numerous buildings and structures are tightly packed, and roads and paths connect these facilities. The photograph is monochromatic, emphasizing contrasts and clarity, typical of the historical period from which it seems to originate. The image captures the intricate details of the industrial landscape from an overhead perspective, providing a comprehensive view of the area.<|im_end|> \n",
      "\n",
      "\n",
      "https://samplebook.photos/img/2085b.jpg \n",
      " In the photographic sample book, the page displays a black and white photograph of a person lying on rocky terrain. The person's face is obscured, facing away from the camera, and appears to be resting or reclining on their side. The background consists of a rugged, gravelly surface, adding texture to the image. There's also a notable dark shadow cast on the ground, possibly reflecting the figure or surrounding objects. The photograph exudes a contemplative and naturalistic mood, capturing a moment of calm or stillness in a seemingly remote, outdoor setting.<|im_end|> \n",
      "\n",
      "\n",
      "https://samplebook.photos/img/4782c.jpg \n",
      " The photograph in the sample book captures a maritime scene. It shows a person, dressed in traditional sailors' attire, sitting on the deck of a sailing ship. The individual is wearing a white outfit and a headscarf. The background prominently features the ship's rigging, including ropes, sails, and wooden structures, all indicative of an old-fashioned sailing vessel. The photograph has a vintage feel, likely taken several decades ago, and is monochromatic, predominantly in black and white tones. The bottom of the page includes text that reads \"CHOJNACKI, PLASTIARA 36, 8505 N.C.\" and the page itself is from a spiral notebook. The image is set against a grey background, with a color checker displayed at the top to possibly calibrate or assess the image's color accuracy.<|im_end|> \n",
      "\n",
      "\n",
      "https://samplebook.photos/img/4783v.jpg \n",
      " The photograph in the sample book features a still life composition with two main objects. On the left, there is a decorative ceramic vase with an intricate design. It has a bulbous body, a narrow neck, and two handles. To the right of the vase stands a small, metal elephant figurine. The elephant is depicted in a side profile with its trunk extended forward and tusks visible. The photograph is monochromatic, suggesting it is either black and white or a grayscale sample.\n",
      "\n",
      "In the top left corner of the image, there is a color checker, which contains various colored squares used to calibrate the colors in photography. This setup is likely used to assess the accuracy of the photographic sample. The text \"AUTO GRADE F\" is visible at the bottom of the photograph. The sample book has a black ribbon used to keep the pages securely closed.<|im_end|> \n",
      "\n",
      "\n",
      "https://samplebook.photos/img/4912gg.jpg \n",
      " Sure! The image contains two objects: a color checker and an open photographic sample book. On the page of the sample book, there is a black and white photograph of a building, possibly a bridge. The photo shows the structure from a side angle, capturing significant details such as its length and architectural form. The building spans across the frame horizontally. Below the photograph, text indicates it is a sample from Kodak N.C.C. (National Creative Center).<|im_end|> \n",
      "\n",
      "\n",
      "https://samplebook.photos/img/304h.jpg \n",
      " The photograph in the sample book depicts a large, complex industrial facility with numerous buildings and structures. The scene prominently features a large, round structure topped with multiple levels, likely a processing unit or plant. Below, a network of pipes and conveyor belts leads into the building, indicating the movement of materials, possibly for mining or manufacturing purposes. The surrounding area is dotted with smaller structures, storage units, and possibly storage tanks. The sky is clear, and the lighting suggests it's daytime. The photograph captures an intricate and organized industrial environment, reflecting advanced engineering and infrastructure.<|im_end|> \n",
      "\n",
      "\n",
      "https://samplebook.photos/img/2078i.jpg \n",
      " The image shows a color checker and a photographic sample book. The photograph in the sample book displays two Ilford 220 cameras with their backs open. The photo is monochrome, highlighting the details and textures of the cameras. The text beneath the image reads \"ILFORD Plastika Classic,\" indicating the branding and the type of photographic material used. The lighting in the photograph is stark, casting strong shadows and emphasizing the reflective surfaces of the cameras.<|im_end|> \n",
      "\n",
      "\n",
      "https://samplebook.photos/img/2077q.jpg \n",
      " The photograph in the sample book is a black and white image depicting a landscape scene. It shows a person from a side view, standing outdoors with a mountainous background. The individual appears to be looking towards the horizon, which includes a range of mountains with mist or clouds partially covering them, adding to the dramatic effect of the landscape. There is also a small water body, possibly a lake or a river, reflecting part of the scene. This creates a serene and picturesque setting, emphasizing the natural beauty of the environment.<|im_end|> \n",
      "\n",
      "\n",
      "https://samplebook.photos/img/3192h.jpg \n",
      " The photograph in the sample book depicts an architectural structure with tall, narrow windows or pillars leading to the sky. These structures create a framed view of two tall, historical spires in the distance, standing prominently against a partly cloudy sky. The perspective is from ground level looking upwards through the archway, giving a sense of grandeur and depth. The sky and horizon line are visible through the top opening of the archway, with some clouds scattered across. The image has a monochromatic, sepia-toned appearance, indicating it might be an older photograph or intentionally styled to appear vintage. The photograph is labeled \"ILFORD Bromide B. 2. 84K.\"<|im_end|> \n",
      "\n",
      "\n",
      "https://samplebook.photos/img/904x.jpg \n",
      " The photograph in the photographic sample book shows a snowy landscape, likely a winter scene. There are several bare trees with intricate branches reaching into the sky, standing against a backdrop of what appears to be a pale blue sky. The ground is covered with snow, and the overall scene conveys a sense of calm and serenity, typical of winter settings. The scene is framed well within the sample book page, and the image quality appears to be high, providing clear details and a balanced composition. The bottom left corner of the photograph contains the title “Canon View” and the bottom right corner notes “No. 35 Autochrome Color Picture.”<|im_end|> \n",
      "\n",
      "\n",
      "https://samplebook.photos/img/4792b.jpg \n",
      " The photographic sample book shows a black and white image. The photograph depicts a wooden surface with several circular objects stacked on top of each other. These objects appear to be circular wooden pieces or parts of a mechanical device, possibly gears or spools. The image has a textured appearance and appears to be part of a series or collection, as indicated by the title \"BROVIRA 1\" on the page. The background is dark, which contrasts with the lighter tones of the wooden surface and circles. The overall composition focuses on the repetition and arrangement of the circular objects.<|im_end|> \n",
      "\n",
      "\n",
      "https://samplebook.photos/img/5301p.jpg \n",
      " The photograph in the sample book shows a person with an intricate makeup design covering their face. The makeup includes bold, black lines and patterns that appear to create a graphic or abstract art aesthetic. The person is wearing a mask with an additional element, incorporating a checker-like pattern. The background is blurred, focusing the attention on the detailed face makeup and the mask. The overall composition emphasizes a fusion of artistic elements, making it a striking and visually engaging image.<|im_end|> \n",
      "\n",
      "\n",
      "https://samplebook.photos/img/5207j.jpg \n",
      " The photograph in the sample book features two hands, one clad in a white glove and the other bare. The gloved hand appears to be performing an action with a small object. The surface they rest on is rough and textured, possibly a piece of stone or concrete. The image has been printed in black and white, with high contrast and sharp details, making the textures and expressions of the materials very evident. The background is relatively dark, with only the immediate area around the hands and the glove illuminated. Additionally, there are printed texts alongside the photograph, indicating the type of paper and coating used for the print.<|im_end|> \n",
      "\n",
      "\n",
      "https://samplebook.photos/img/1007p.jpg \n",
      " The photograph in the sample book shows a young child standing and smiling. The child is wearing a short-sleeved button-up shirt, shorts, and large shoes that appear to be oversized for them. The child's posture and expression convey a sense of playfulness and joy. The photograph is located in the lower-right corner of the page, with information printed below it indicating the photographic paper type as \"KALOBRONZE (STAINSHOT) GRADE 8\" and \"Single Weight.\" The layout of the photograph and accompanying text ensures easy identification and description of the photographic sample.<|im_end|> \n",
      "\n",
      "\n",
      "https://samplebook.photos/img/17l.jpg \n",
      " The photograph in the image shows a woman dressed in a sleeveless athletic outfit, standing outdoors, possibly in a garden or park. She appears to be holding a tennis racket, suggesting she is either about to play or just finished playing tennis. The photograph is in black and white, and the background is slightly blurred, bringing focus to the subject in the foreground. The image has a nostalgic, vintage feel, likely taken in the mid-20th century given the style of the clothing and the monochrome print. The photo is a part of a sample book, which appears to be related to photography or film, as indicated by the branding on the book visible in the image.<|im_end|> \n",
      "\n",
      "\n",
      "https://samplebook.photos/img/286t.jpg \n",
      " The photograph depicts two young girls standing in front of a brick wall with some greenery behind them. The girl on the left is wearing a light-colored dress and is making a peace sign with her hand, while the girl on the right, also in a light-colored dress, has her hands clasped together. Both girls appear to be smiling and are positioned close to each other. The setting suggests a casual outdoor environment, possibly in a garden or backyard, given the lush green background. The contrast and composition of the photograph indicate good use of lighting and focus.<|im_end|> \n",
      "\n",
      "\n",
      "https://samplebook.photos/img/287g.jpg \n",
      " The photograph in the sample book depicts two individuals in a seated position next to a window. One person is lying down with their head resting on their arm, while the other is sitting upright with one leg crossed over the other. Both are wearing casual outfits, and the setting appears relaxed and intimate.<|im_end|> \n",
      "\n",
      "\n",
      "https://samplebook.photos/img/3189j.jpg \n",
      " The photograph appears to be a historical black and white image of an open rural landscape. It shows a dirt road that stretches into the distance, bordered by fields and a line of trees on one side. There are hills or mountains in the background under a clear sky. A few scattered buildings can be seen on the right side of the photograph near the road. The image is framed within the sample book, with some text at the bottom of the photograph that appears to identify the location as the \"Rio Colorado Cotton Fields.\"<|im_end|> \n",
      "\n",
      "\n",
      "https://samplebook.photos/img/4911d.jpg \n",
      " The photograph in the opened page of the sample book depicts a rural scene. It shows a large tree on the right side, with its branches and leaves extending outward. There are several small structures or huts beneath the tree, giving a sense of a small settlement or farmstead. In the background, there are additional trees and a clear sky. In the foreground, closer to the tree and the huts, there are a few animals, possibly cows or oxen, grazing or standing. The overall setting appears to be serene and natural, highlighting a peaceful countryside environment.<|im_end|> \n",
      "\n",
      "\n",
      "https://samplebook.photos/img/4785a.jpg \n",
      " The photograph in the sample book shows a person standing in a natural setting, possibly on a beach or near a shore. The individual is wearing a light-colored outfit and appears to be holding or interacting with something, although the specifics are not entirely clear due to the image's quality and angle. The surrounding environment is predominantly white and beige, with some blue hues, suggesting a setting with sand and water. The overall tone of the photograph is soft and somewhat muted, giving it a dreamlike or ethereal quality. The edges of the photograph display slight wear, consistent with the aged appearance of the sample book itself.<|im_end|> \n",
      "\n",
      "\n",
      "https://samplebook.photos/img/4793a.jpg \n",
      " The photograph in the sample book shows a man lying on his back indoors, with his head propped up by his right hand. He is wearing a white hat, possibly a chef's cap, and a vertically striped shirt. The man appears relaxed and is smiling at the camera. The setting appears to be a dark room, and the image itself has a vintage feel, possibly dating back to the mid-20th century.<|im_end|> \n",
      "\n",
      "\n"
     ]
    }
   ],
   "source": [
    "responses_aria = {}\n",
    "\n",
    "for url in urls:\n",
    "    response = get_response(url)\n",
    "    print(url,\"\\n\",response,\"\\n\\n\")\n",
    "    responses_aria[url] = {'rhymes-ai/Aria':response}"
   ]
  },
  {
   "cell_type": "code",
   "execution_count": 15,
   "id": "85af824d-2934-45ef-bb5e-5c8ee275b020",
   "metadata": {},
   "outputs": [],
   "source": [
    "import pickle"
   ]
  },
  {
   "cell_type": "code",
   "execution_count": 16,
   "id": "ea666719-c3b7-443a-9777-48f407a26f2c",
   "metadata": {},
   "outputs": [],
   "source": [
    "with open(\"responses_aria.pkl\", \"wb\") as f:\n",
    "    pickle.dump(responses_aria, f)"
   ]
  }
 ],
 "metadata": {
  "kernelspec": {
   "display_name": "Python 3 (ipykernel)",
   "language": "python",
   "name": "python3"
  },
  "language_info": {
   "codemirror_mode": {
    "name": "ipython",
    "version": 3
   },
   "file_extension": ".py",
   "mimetype": "text/x-python",
   "name": "python",
   "nbconvert_exporter": "python",
   "pygments_lexer": "ipython3",
   "version": "3.10.4"
  }
 },
 "nbformat": 4,
 "nbformat_minor": 5
}
