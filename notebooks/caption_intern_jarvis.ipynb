{
 "cells": [
  {
   "cell_type": "code",
   "execution_count": 1,
   "id": "aec7b855-3d99-4b34-8d12-7dc3ae3ab118",
   "metadata": {},
   "outputs": [],
   "source": [
    "#!pip install --upgrade transformers==4.37.2"
   ]
  },
  {
   "cell_type": "code",
   "execution_count": 2,
   "id": "8f216ce1-0d3b-4fb0-a70a-b5a36ee1ac40",
   "metadata": {},
   "outputs": [],
   "source": [
    "# Don't even know if these are necessary, but most models have required them\n",
    "#!pip install einops accelerate"
   ]
  },
  {
   "cell_type": "code",
   "execution_count": 3,
   "id": "84e1ed9a-74f6-42ec-a64b-e2c4eff0ded3",
   "metadata": {},
   "outputs": [],
   "source": [
    "#!pip install flash-attn --no-build-isolation"
   ]
  },
  {
   "cell_type": "code",
   "execution_count": 4,
   "id": "2f804b48-601b-415e-9f59-7fb8b9990948",
   "metadata": {},
   "outputs": [],
   "source": [
    "#!pip install timm"
   ]
  },
  {
   "cell_type": "code",
   "execution_count": 5,
   "id": "d30b881a-2757-4f89-81cf-7c599860cf1e",
   "metadata": {},
   "outputs": [],
   "source": [
    "import math\n",
    "import torch\n",
    "from transformers import AutoTokenizer, AutoModel"
   ]
  },
  {
   "cell_type": "code",
   "execution_count": 6,
   "id": "f43e0b18-0497-4311-a427-7bac859b4655",
   "metadata": {},
   "outputs": [],
   "source": [
    "def split_model(model_name):\n",
    "    device_map = {}\n",
    "    world_size = torch.cuda.device_count()\n",
    "    num_layers = {\n",
    "        'InternVL2-1B': 24, 'InternVL2-2B': 24, 'InternVL2-4B': 32, 'InternVL2-8B': 32,\n",
    "        'InternVL2-26B': 48, 'InternVL2-40B': 60, 'InternVL2-Llama3-76B': 80}[model_name]\n",
    "    # Since the first GPU will be used for ViT, treat it as half a GPU.\n",
    "    num_layers_per_gpu = math.ceil(num_layers / (world_size - 0.5))\n",
    "    num_layers_per_gpu = [num_layers_per_gpu] * world_size\n",
    "    num_layers_per_gpu[0] = math.ceil(num_layers_per_gpu[0] * 0.5)\n",
    "    layer_cnt = 0\n",
    "    for i, num_layer in enumerate(num_layers_per_gpu):\n",
    "        for j in range(num_layer):\n",
    "            device_map[f'language_model.model.layers.{layer_cnt}'] = i\n",
    "            layer_cnt += 1\n",
    "    device_map['vision_model'] = 0\n",
    "    device_map['mlp1'] = 0\n",
    "    device_map['language_model.model.tok_embeddings'] = 0\n",
    "    device_map['language_model.model.embed_tokens'] = 0\n",
    "    device_map['language_model.output'] = 0\n",
    "    device_map['language_model.model.norm'] = 0\n",
    "    device_map['language_model.lm_head'] = 0\n",
    "    device_map[f'language_model.model.layers.{num_layers - 1}'] = 0\n",
    "\n",
    "    return device_map"
   ]
  },
  {
   "cell_type": "code",
   "execution_count": 7,
   "id": "009eb840-347f-4d6b-ac50-2976053ff283",
   "metadata": {},
   "outputs": [
    {
     "name": "stderr",
     "output_type": "stream",
     "text": [
      "/root/miniconda3/envs/py3.10/lib/python3.10/site-packages/huggingface_hub/file_download.py:1150: FutureWarning: `resume_download` is deprecated and will be removed in version 1.0.0. Downloads always resume when possible. If you want to force a new download, use `force_download=True`.\n",
      "  warnings.warn(\n",
      "A new version of the following files was downloaded from https://huggingface.co/OpenGVLab/InternVL2-Llama3-76B:\n",
      "- modeling_intern_vit.py\n",
      ". Make sure to double-check they do not contain any added malicious code. To avoid downloading new versions of the code file, you can pin a revision.\n",
      "/root/miniconda3/envs/py3.10/lib/python3.10/site-packages/timm/models/layers/__init__.py:48: FutureWarning: Importing from timm.models.layers is deprecated, please import via timm.layers\n",
      "  warnings.warn(f\"Importing from {__name__} is deprecated, please import via timm.layers\", FutureWarning)\n",
      "/root/miniconda3/envs/py3.10/lib/python3.10/site-packages/huggingface_hub/file_download.py:1150: FutureWarning: `resume_download` is deprecated and will be removed in version 1.0.0. Downloads always resume when possible. If you want to force a new download, use `force_download=True`.\n",
      "  warnings.warn(\n"
     ]
    },
    {
     "data": {
      "application/vnd.jupyter.widget-view+json": {
       "model_id": "376d808606824aea94263078343139ad",
       "version_major": 2,
       "version_minor": 0
      },
      "text/plain": [
       "model.safetensors.index.json:   0%|          | 0.00/122k [00:00<?, ?B/s]"
      ]
     },
     "metadata": {},
     "output_type": "display_data"
    },
    {
     "data": {
      "application/vnd.jupyter.widget-view+json": {
       "model_id": "1688e84dbd8d41cdbb0b00c6571ae14c",
       "version_major": 2,
       "version_minor": 0
      },
      "text/plain": [
       "Downloading shards:   0%|          | 0/32 [00:00<?, ?it/s]"
      ]
     },
     "metadata": {},
     "output_type": "display_data"
    },
    {
     "data": {
      "application/vnd.jupyter.widget-view+json": {
       "model_id": "3f63fe86365f400fb1a8dca1e1f2dac0",
       "version_major": 2,
       "version_minor": 0
      },
      "text/plain": [
       "model-00001-of-00032.safetensors:   0%|          | 0.00/4.99G [00:00<?, ?B/s]"
      ]
     },
     "metadata": {},
     "output_type": "display_data"
    },
    {
     "data": {
      "application/vnd.jupyter.widget-view+json": {
       "model_id": "c3b4bef0df684cebbb979b18066df874",
       "version_major": 2,
       "version_minor": 0
      },
      "text/plain": [
       "model-00002-of-00032.safetensors:   0%|          | 0.00/4.94G [00:00<?, ?B/s]"
      ]
     },
     "metadata": {},
     "output_type": "display_data"
    },
    {
     "data": {
      "application/vnd.jupyter.widget-view+json": {
       "model_id": "48688ada79c74383ae1077ba748457ff",
       "version_major": 2,
       "version_minor": 0
      },
      "text/plain": [
       "model-00003-of-00032.safetensors:   0%|          | 0.00/4.96G [00:00<?, ?B/s]"
      ]
     },
     "metadata": {},
     "output_type": "display_data"
    },
    {
     "data": {
      "application/vnd.jupyter.widget-view+json": {
       "model_id": "7b62ba4e1e814fcc90eaff2664bee921",
       "version_major": 2,
       "version_minor": 0
      },
      "text/plain": [
       "model-00004-of-00032.safetensors:   0%|          | 0.00/4.66G [00:00<?, ?B/s]"
      ]
     },
     "metadata": {},
     "output_type": "display_data"
    },
    {
     "data": {
      "application/vnd.jupyter.widget-view+json": {
       "model_id": "990bad68177f4227b1ce45246612edf5",
       "version_major": 2,
       "version_minor": 0
      },
      "text/plain": [
       "model-00005-of-00032.safetensors:   0%|          | 0.00/4.66G [00:00<?, ?B/s]"
      ]
     },
     "metadata": {},
     "output_type": "display_data"
    },
    {
     "data": {
      "application/vnd.jupyter.widget-view+json": {
       "model_id": "69502b0d8f9f4735a51d64199f361a02",
       "version_major": 2,
       "version_minor": 0
      },
      "text/plain": [
       "model-00006-of-00032.safetensors:   0%|          | 0.00/4.66G [00:00<?, ?B/s]"
      ]
     },
     "metadata": {},
     "output_type": "display_data"
    },
    {
     "data": {
      "application/vnd.jupyter.widget-view+json": {
       "model_id": "2ba34449dac941b880cc10e9c42be818",
       "version_major": 2,
       "version_minor": 0
      },
      "text/plain": [
       "model-00007-of-00032.safetensors:   0%|          | 0.00/5.00G [00:00<?, ?B/s]"
      ]
     },
     "metadata": {},
     "output_type": "display_data"
    },
    {
     "data": {
      "application/vnd.jupyter.widget-view+json": {
       "model_id": "54374e64f7e541b7a58d2c9d841e137c",
       "version_major": 2,
       "version_minor": 0
      },
      "text/plain": [
       "model-00008-of-00032.safetensors:   0%|          | 0.00/4.97G [00:00<?, ?B/s]"
      ]
     },
     "metadata": {},
     "output_type": "display_data"
    },
    {
     "data": {
      "application/vnd.jupyter.widget-view+json": {
       "model_id": "e13a880253ea4e4a9018810410a0762d",
       "version_major": 2,
       "version_minor": 0
      },
      "text/plain": [
       "model-00009-of-00032.safetensors:   0%|          | 0.00/4.66G [00:00<?, ?B/s]"
      ]
     },
     "metadata": {},
     "output_type": "display_data"
    },
    {
     "data": {
      "application/vnd.jupyter.widget-view+json": {
       "model_id": "af90eb59ba6646369da8852f503bb7e2",
       "version_major": 2,
       "version_minor": 0
      },
      "text/plain": [
       "model-00010-of-00032.safetensors:   0%|          | 0.00/4.66G [00:00<?, ?B/s]"
      ]
     },
     "metadata": {},
     "output_type": "display_data"
    },
    {
     "data": {
      "application/vnd.jupyter.widget-view+json": {
       "model_id": "e474d95f4ddb4dac8a0072c99b66e78a",
       "version_major": 2,
       "version_minor": 0
      },
      "text/plain": [
       "model-00011-of-00032.safetensors:   0%|          | 0.00/4.66G [00:00<?, ?B/s]"
      ]
     },
     "metadata": {},
     "output_type": "display_data"
    },
    {
     "data": {
      "application/vnd.jupyter.widget-view+json": {
       "model_id": "ea86f89f36004c0999c534c48a4cd9b1",
       "version_major": 2,
       "version_minor": 0
      },
      "text/plain": [
       "model-00012-of-00032.safetensors:   0%|          | 0.00/5.00G [00:00<?, ?B/s]"
      ]
     },
     "metadata": {},
     "output_type": "display_data"
    },
    {
     "data": {
      "application/vnd.jupyter.widget-view+json": {
       "model_id": "aa77badf75bc499ca28bb0b0b9688c55",
       "version_major": 2,
       "version_minor": 0
      },
      "text/plain": [
       "model-00013-of-00032.safetensors:   0%|          | 0.00/4.97G [00:00<?, ?B/s]"
      ]
     },
     "metadata": {},
     "output_type": "display_data"
    },
    {
     "data": {
      "application/vnd.jupyter.widget-view+json": {
       "model_id": "f55859fb62c84675be5928e09b0fb23f",
       "version_major": 2,
       "version_minor": 0
      },
      "text/plain": [
       "model-00014-of-00032.safetensors:   0%|          | 0.00/4.66G [00:00<?, ?B/s]"
      ]
     },
     "metadata": {},
     "output_type": "display_data"
    },
    {
     "data": {
      "application/vnd.jupyter.widget-view+json": {
       "model_id": "d8f5f287e6d24b459188a769f8b9804c",
       "version_major": 2,
       "version_minor": 0
      },
      "text/plain": [
       "model-00015-of-00032.safetensors:   0%|          | 0.00/4.66G [00:00<?, ?B/s]"
      ]
     },
     "metadata": {},
     "output_type": "display_data"
    },
    {
     "data": {
      "application/vnd.jupyter.widget-view+json": {
       "model_id": "1658cd83e22a43528a9a712172756ae7",
       "version_major": 2,
       "version_minor": 0
      },
      "text/plain": [
       "model-00016-of-00032.safetensors:   0%|          | 0.00/4.66G [00:00<?, ?B/s]"
      ]
     },
     "metadata": {},
     "output_type": "display_data"
    },
    {
     "data": {
      "application/vnd.jupyter.widget-view+json": {
       "model_id": "fd5794bde63e4986b891d91e338e4758",
       "version_major": 2,
       "version_minor": 0
      },
      "text/plain": [
       "model-00017-of-00032.safetensors:   0%|          | 0.00/5.00G [00:00<?, ?B/s]"
      ]
     },
     "metadata": {},
     "output_type": "display_data"
    },
    {
     "data": {
      "application/vnd.jupyter.widget-view+json": {
       "model_id": "be4d0ae39e714ea3b262c80cd483e281",
       "version_major": 2,
       "version_minor": 0
      },
      "text/plain": [
       "model-00018-of-00032.safetensors:   0%|          | 0.00/4.97G [00:00<?, ?B/s]"
      ]
     },
     "metadata": {},
     "output_type": "display_data"
    },
    {
     "data": {
      "application/vnd.jupyter.widget-view+json": {
       "model_id": "2ddeae19407144e5b81f6afa9969cd0f",
       "version_major": 2,
       "version_minor": 0
      },
      "text/plain": [
       "model-00019-of-00032.safetensors:   0%|          | 0.00/4.66G [00:00<?, ?B/s]"
      ]
     },
     "metadata": {},
     "output_type": "display_data"
    },
    {
     "data": {
      "application/vnd.jupyter.widget-view+json": {
       "model_id": "9ff28b474dc14734a07a6e76ec183698",
       "version_major": 2,
       "version_minor": 0
      },
      "text/plain": [
       "model-00020-of-00032.safetensors:   0%|          | 0.00/4.66G [00:00<?, ?B/s]"
      ]
     },
     "metadata": {},
     "output_type": "display_data"
    },
    {
     "data": {
      "application/vnd.jupyter.widget-view+json": {
       "model_id": "80ed299e1ab441bf9446347264f90857",
       "version_major": 2,
       "version_minor": 0
      },
      "text/plain": [
       "model-00021-of-00032.safetensors:   0%|          | 0.00/4.66G [00:00<?, ?B/s]"
      ]
     },
     "metadata": {},
     "output_type": "display_data"
    },
    {
     "data": {
      "application/vnd.jupyter.widget-view+json": {
       "model_id": "032fffeb2aca4c0aa39fac3bf2ae1bb9",
       "version_major": 2,
       "version_minor": 0
      },
      "text/plain": [
       "model-00022-of-00032.safetensors:   0%|          | 0.00/5.00G [00:00<?, ?B/s]"
      ]
     },
     "metadata": {},
     "output_type": "display_data"
    },
    {
     "data": {
      "application/vnd.jupyter.widget-view+json": {
       "model_id": "3cfd623186764041b42c1aad405324a2",
       "version_major": 2,
       "version_minor": 0
      },
      "text/plain": [
       "model-00023-of-00032.safetensors:   0%|          | 0.00/4.97G [00:00<?, ?B/s]"
      ]
     },
     "metadata": {},
     "output_type": "display_data"
    },
    {
     "data": {
      "application/vnd.jupyter.widget-view+json": {
       "model_id": "8c0b876eb1e346c989defb5c72948db0",
       "version_major": 2,
       "version_minor": 0
      },
      "text/plain": [
       "model-00024-of-00032.safetensors:   0%|          | 0.00/4.66G [00:00<?, ?B/s]"
      ]
     },
     "metadata": {},
     "output_type": "display_data"
    },
    {
     "data": {
      "application/vnd.jupyter.widget-view+json": {
       "model_id": "f97e6d2fb5a34411bd2b77314e7891c8",
       "version_major": 2,
       "version_minor": 0
      },
      "text/plain": [
       "model-00025-of-00032.safetensors:   0%|          | 0.00/4.66G [00:00<?, ?B/s]"
      ]
     },
     "metadata": {},
     "output_type": "display_data"
    },
    {
     "data": {
      "application/vnd.jupyter.widget-view+json": {
       "model_id": "65d2468dd0094f189b210a0753cc0a79",
       "version_major": 2,
       "version_minor": 0
      },
      "text/plain": [
       "model-00026-of-00032.safetensors:   0%|          | 0.00/4.66G [00:00<?, ?B/s]"
      ]
     },
     "metadata": {},
     "output_type": "display_data"
    },
    {
     "data": {
      "application/vnd.jupyter.widget-view+json": {
       "model_id": "f97667da19da413a918d08b928e9e5ff",
       "version_major": 2,
       "version_minor": 0
      },
      "text/plain": [
       "model-00027-of-00032.safetensors:   0%|          | 0.00/5.00G [00:00<?, ?B/s]"
      ]
     },
     "metadata": {},
     "output_type": "display_data"
    },
    {
     "data": {
      "application/vnd.jupyter.widget-view+json": {
       "model_id": "d8369356aafc42b4b2a75fe6a5c62f7e",
       "version_major": 2,
       "version_minor": 0
      },
      "text/plain": [
       "model-00028-of-00032.safetensors:   0%|          | 0.00/4.97G [00:00<?, ?B/s]"
      ]
     },
     "metadata": {},
     "output_type": "display_data"
    },
    {
     "data": {
      "application/vnd.jupyter.widget-view+json": {
       "model_id": "018fb6e6a6564a34a1a538fb82c5dffd",
       "version_major": 2,
       "version_minor": 0
      },
      "text/plain": [
       "model-00029-of-00032.safetensors:   0%|          | 0.00/4.66G [00:00<?, ?B/s]"
      ]
     },
     "metadata": {},
     "output_type": "display_data"
    },
    {
     "data": {
      "application/vnd.jupyter.widget-view+json": {
       "model_id": "46bb69f035fb4d499bc485db51bdb845",
       "version_major": 2,
       "version_minor": 0
      },
      "text/plain": [
       "model-00030-of-00032.safetensors:   0%|          | 0.00/4.66G [00:00<?, ?B/s]"
      ]
     },
     "metadata": {},
     "output_type": "display_data"
    },
    {
     "data": {
      "application/vnd.jupyter.widget-view+json": {
       "model_id": "99de7ba8c7394a9092de271db1295f6d",
       "version_major": 2,
       "version_minor": 0
      },
      "text/plain": [
       "model-00031-of-00032.safetensors:   0%|          | 0.00/4.66G [00:00<?, ?B/s]"
      ]
     },
     "metadata": {},
     "output_type": "display_data"
    },
    {
     "data": {
      "application/vnd.jupyter.widget-view+json": {
       "model_id": "313f93d3317945ab8a6fbc5186a98669",
       "version_major": 2,
       "version_minor": 0
      },
      "text/plain": [
       "model-00032-of-00032.safetensors:   0%|          | 0.00/3.85G [00:00<?, ?B/s]"
      ]
     },
     "metadata": {},
     "output_type": "display_data"
    },
    {
     "data": {
      "application/vnd.jupyter.widget-view+json": {
       "model_id": "e934e84e61a24fe19a420e6efc62eea1",
       "version_major": 2,
       "version_minor": 0
      },
      "text/plain": [
       "Loading checkpoint shards:   0%|          | 0/32 [00:00<?, ?it/s]"
      ]
     },
     "metadata": {},
     "output_type": "display_data"
    },
    {
     "data": {
      "application/vnd.jupyter.widget-view+json": {
       "model_id": "d32d9b9382fa434995708ebfa34d9286",
       "version_major": 2,
       "version_minor": 0
      },
      "text/plain": [
       "generation_config.json:   0%|          | 0.00/129 [00:00<?, ?B/s]"
      ]
     },
     "metadata": {},
     "output_type": "display_data"
    }
   ],
   "source": [
    "path = \"OpenGVLab/InternVL2-Llama3-76B\"\n",
    "device_map = split_model('InternVL2-Llama3-76B')\n",
    "model = AutoModel.from_pretrained(\n",
    "    path,\n",
    "    torch_dtype=torch.bfloat16,\n",
    "    low_cpu_mem_usage=True,\n",
    "    use_flash_attn=True,\n",
    "    trust_remote_code=True,\n",
    "    device_map=device_map).eval()"
   ]
  },
  {
   "cell_type": "code",
   "execution_count": 8,
   "id": "c8006f92-a415-4e9b-8f66-8b56b0ebef85",
   "metadata": {},
   "outputs": [],
   "source": [
    "import numpy as np\n",
    "import torchvision.transforms as T\n",
    "from PIL import Image\n",
    "from torchvision.transforms.functional import InterpolationMode"
   ]
  },
  {
   "cell_type": "code",
   "execution_count": 9,
   "id": "4df3ecb5-7cf5-4da1-b4b1-692c8bf5b5e0",
   "metadata": {},
   "outputs": [
    {
     "name": "stderr",
     "output_type": "stream",
     "text": [
      "/root/miniconda3/envs/py3.10/lib/python3.10/site-packages/huggingface_hub/file_download.py:1150: FutureWarning: `resume_download` is deprecated and will be removed in version 1.0.0. Downloads always resume when possible. If you want to force a new download, use `force_download=True`.\n",
      "  warnings.warn(\n"
     ]
    },
    {
     "data": {
      "application/vnd.jupyter.widget-view+json": {
       "model_id": "4ab85714565a41c790db12c9dbc72ad7",
       "version_major": 2,
       "version_minor": 0
      },
      "text/plain": [
       "tokenizer_config.json:   0%|          | 0.00/57.4k [00:00<?, ?B/s]"
      ]
     },
     "metadata": {},
     "output_type": "display_data"
    },
    {
     "data": {
      "application/vnd.jupyter.widget-view+json": {
       "model_id": "3cd438e83f6b47c3b1f33adea8953a45",
       "version_major": 2,
       "version_minor": 0
      },
      "text/plain": [
       "tokenizer.json:   0%|          | 0.00/9.09M [00:00<?, ?B/s]"
      ]
     },
     "metadata": {},
     "output_type": "display_data"
    },
    {
     "data": {
      "application/vnd.jupyter.widget-view+json": {
       "model_id": "f61aec2df8bd487180c880937b82b0da",
       "version_major": 2,
       "version_minor": 0
      },
      "text/plain": [
       "special_tokens_map.json:   0%|          | 0.00/443 [00:00<?, ?B/s]"
      ]
     },
     "metadata": {},
     "output_type": "display_data"
    },
    {
     "name": "stderr",
     "output_type": "stream",
     "text": [
      "Special tokens have been added in the vocabulary, make sure the associated word embeddings are fine-tuned or trained.\n"
     ]
    }
   ],
   "source": [
    "tokenizer = AutoTokenizer.from_pretrained(path, trust_remote_code=True, use_fast=False)"
   ]
  },
  {
   "cell_type": "code",
   "execution_count": 10,
   "id": "adf3c14c-a163-43e7-a2fd-4b32f5fcbeae",
   "metadata": {},
   "outputs": [],
   "source": [
    "IMAGENET_MEAN = (0.485, 0.456, 0.406)\n",
    "IMAGENET_STD = (0.229, 0.224, 0.225)\n",
    "\n",
    "def build_transform(input_size):\n",
    "    MEAN, STD = IMAGENET_MEAN, IMAGENET_STD\n",
    "    transform = T.Compose([\n",
    "        T.Lambda(lambda img: img.convert('RGB') if img.mode != 'RGB' else img),\n",
    "        T.Resize((input_size, input_size), interpolation=InterpolationMode.BICUBIC),\n",
    "        T.ToTensor(),\n",
    "        T.Normalize(mean=MEAN, std=STD)\n",
    "    ])\n",
    "    return transform"
   ]
  },
  {
   "cell_type": "code",
   "execution_count": 11,
   "id": "16e5d2a9-a2a7-4360-a0cc-0fb3faaccd54",
   "metadata": {},
   "outputs": [],
   "source": [
    "def find_closest_aspect_ratio(aspect_ratio, target_ratios, width, height, image_size):\n",
    "    best_ratio_diff = float('inf')\n",
    "    best_ratio = (1, 1)\n",
    "    area = width * height\n",
    "    for ratio in target_ratios:\n",
    "        target_aspect_ratio = ratio[0] / ratio[1]\n",
    "        ratio_diff = abs(aspect_ratio - target_aspect_ratio)\n",
    "        if ratio_diff < best_ratio_diff:\n",
    "            best_ratio_diff = ratio_diff\n",
    "            best_ratio = ratio\n",
    "        elif ratio_diff == best_ratio_diff:\n",
    "            if area > 0.5 * image_size * image_size * ratio[0] * ratio[1]:\n",
    "                best_ratio = ratio\n",
    "    return best_ratio"
   ]
  },
  {
   "cell_type": "code",
   "execution_count": 12,
   "id": "e58c2e8e-8df9-46fe-b5a8-752436c92b4a",
   "metadata": {},
   "outputs": [],
   "source": [
    "def dynamic_preprocess(image, min_num=1, max_num=12, image_size=448, use_thumbnail=False):\n",
    "    orig_width, orig_height = image.size\n",
    "    aspect_ratio = orig_width / orig_height\n",
    "\n",
    "    # calculate the existing image aspect ratio\n",
    "    target_ratios = set(\n",
    "        (i, j) for n in range(min_num, max_num + 1) for i in range(1, n + 1) for j in range(1, n + 1) if\n",
    "        i * j <= max_num and i * j >= min_num)\n",
    "    target_ratios = sorted(target_ratios, key=lambda x: x[0] * x[1])\n",
    "\n",
    "    # find the closest aspect ratio to the target\n",
    "    target_aspect_ratio = find_closest_aspect_ratio(\n",
    "        aspect_ratio, target_ratios, orig_width, orig_height, image_size)\n",
    "\n",
    "    # calculate the target width and height\n",
    "    target_width = image_size * target_aspect_ratio[0]\n",
    "    target_height = image_size * target_aspect_ratio[1]\n",
    "    blocks = target_aspect_ratio[0] * target_aspect_ratio[1]\n",
    "\n",
    "    # resize the image\n",
    "    resized_img = image.resize((target_width, target_height))\n",
    "    processed_images = []\n",
    "    for i in range(blocks):\n",
    "        box = (\n",
    "            (i % (target_width // image_size)) * image_size,\n",
    "            (i // (target_width // image_size)) * image_size,\n",
    "            ((i % (target_width // image_size)) + 1) * image_size,\n",
    "            ((i // (target_width // image_size)) + 1) * image_size\n",
    "        )\n",
    "        # split the image\n",
    "        split_img = resized_img.crop(box)\n",
    "        processed_images.append(split_img)\n",
    "    assert len(processed_images) == blocks\n",
    "    if use_thumbnail and len(processed_images) != 1:\n",
    "        thumbnail_img = image.resize((image_size, image_size))\n",
    "        processed_images.append(thumbnail_img)\n",
    "    return processed_images"
   ]
  },
  {
   "cell_type": "code",
   "execution_count": 13,
   "id": "2866575d-27fd-4698-80ee-b6b5dc7f9b25",
   "metadata": {},
   "outputs": [],
   "source": [
    "import requests\n",
    "from io import BytesIO\n",
    "\n",
    "def load_image(image_file, input_size=448, max_num=12):\n",
    "    # Check if the input is a URL\n",
    "    if isinstance(image_file, str) and image_file.startswith(\"http\"):\n",
    "        response = requests.get(image_file)\n",
    "        image = Image.open(BytesIO(response.content)).convert('RGB')\n",
    "    else:\n",
    "        image = Image.open(image_file).convert('RGB')\n",
    "    \n",
    "    transform = build_transform(input_size=input_size)\n",
    "    images = dynamic_preprocess(image, image_size=input_size, use_thumbnail=True, max_num=max_num)\n",
    "    pixel_values = [transform(img) for img in images]\n",
    "    pixel_values = torch.stack(pixel_values)\n",
    "    \n",
    "    return pixel_values"
   ]
  },
  {
   "cell_type": "code",
   "execution_count": 14,
   "id": "73b03897-04f3-4749-9c11-766936c7830b",
   "metadata": {},
   "outputs": [],
   "source": [
    "urls = [\n",
    " 'https://samplebook.photos/img/4786a.jpg',\n",
    " 'https://samplebook.photos/img/284v.jpg',\n",
    " 'https://samplebook.photos/img/3193c.jpg',\n",
    " 'https://samplebook.photos/img/948d.jpg',\n",
    " 'https://samplebook.photos/img/3191i.jpg',\n",
    " 'https://samplebook.photos/img/4788oo.jpg',\n",
    " 'https://samplebook.photos/img/2086d.jpg',\n",
    " 'https://samplebook.photos/img/4781r.jpg',\n",
    " 'https://samplebook.photos/img/5521n.jpg',\n",
    " 'https://samplebook.photos/img/2073cc.jpg',\n",
    " 'https://samplebook.photos/img/2085b.jpg',\n",
    " 'https://samplebook.photos/img/4782c.jpg',\n",
    " 'https://samplebook.photos/img/4783v.jpg',\n",
    " 'https://samplebook.photos/img/4912gg.jpg',\n",
    " 'https://samplebook.photos/img/304h.jpg',\n",
    " 'https://samplebook.photos/img/2078i.jpg',\n",
    " 'https://samplebook.photos/img/2077q.jpg',\n",
    " 'https://samplebook.photos/img/3192h.jpg',\n",
    " 'https://samplebook.photos/img/904x.jpg',\n",
    " 'https://samplebook.photos/img/4792b.jpg',\n",
    " 'https://samplebook.photos/img/5301p.jpg',\n",
    " 'https://samplebook.photos/img/5207j.jpg',\n",
    " 'https://samplebook.photos/img/1007p.jpg',\n",
    " 'https://samplebook.photos/img/17l.jpg',\n",
    " 'https://samplebook.photos/img/286t.jpg',\n",
    " 'https://samplebook.photos/img/287g.jpg',\n",
    " 'https://samplebook.photos/img/3189j.jpg',\n",
    " 'https://samplebook.photos/img/4911d.jpg',\n",
    " 'https://samplebook.photos/img/4785a.jpg',\n",
    " 'https://samplebook.photos/img/4793a.jpg'\n",
    "]"
   ]
  },
  {
   "cell_type": "code",
   "execution_count": 15,
   "id": "e76a8d3a-e6d2-4a80-bfc5-582a3964e644",
   "metadata": {},
   "outputs": [],
   "source": [
    "prompt = 'There are two objects in this image. One is a color checker, and the other is a photographic sample book, open to a page containing a photograph. Give a detailed description of the photograph.'"
   ]
  },
  {
   "cell_type": "code",
   "execution_count": 16,
   "id": "1afc7646-bcd4-4178-8e59-661fb7d704df",
   "metadata": {},
   "outputs": [],
   "source": [
    "def get_response(url):\n",
    "    # set the max number of tiles in `max_num`\n",
    "    pixel_values = load_image(url, max_num=12).to(torch.bfloat16).cuda()\n",
    "    generation_config = dict(max_new_tokens=1024, do_sample=True)\n",
    "\n",
    "    question = f'<image>\\n{prompt}'\n",
    "    response = model.chat(tokenizer, pixel_values, question, generation_config)\n",
    "\n",
    "    return response"
   ]
  },
  {
   "cell_type": "code",
   "execution_count": 17,
   "id": "ceab7b64-95e8-4fce-ab5e-5e4cb50e96e6",
   "metadata": {},
   "outputs": [
    {
     "name": "stderr",
     "output_type": "stream",
     "text": [
      "Setting `pad_token_id` to `eos_token_id`:128003 for open-end generation.\n"
     ]
    },
    {
     "name": "stdout",
     "output_type": "stream",
     "text": [
      "https://samplebook.photos/img/4786a.jpg \n",
      " The photograph presented in the open sample book depicts a rugged, rocky terrain that appears harsh and inhospitable. The image is black and white, enhancing the contrast between the shadows and the brightly illuminated areas. On the right side of the picture, a steep, uneven incline is visible, showcasing layered rock formations with sharp, jagged edges. The textures of the rocks are highly pronounced, revealing intricate details of their surfaces. Small, indistinct figures, likely humans, can be seen climbing or engaged in some activity on the rock face, though their specific actions are difficult to discern due to the distance. The scene conveys a sense of adventure and the challenges of navigating such terrain, suggesting a possible historical or exploratory context. The overall impression is one of strength and resilience, both in the natural landscape and, by implication, in the human figures interacting with it. \n",
      "\n",
      "\n"
     ]
    },
    {
     "name": "stderr",
     "output_type": "stream",
     "text": [
      "Setting `pad_token_id` to `eos_token_id`:128003 for open-end generation.\n"
     ]
    },
    {
     "name": "stdout",
     "output_type": "stream",
     "text": [
      "https://samplebook.photos/img/284v.jpg \n",
      " The photograph in the sample book is a black-and-white image depicting a high-voltage electrical substation. The focus is on two tall, cylindrical insulators that stand vertically on the substation floor. Each insulator has a top part featuring a cluster of bushings and lines that ascend and connect to the overhead lattice of power lines and structures. The metallic connectors at the top of the insulators suggest that they are part of the transmission network, facilitating the flow of electricity. In the background, a dense network of metal trusses and support structures is visible, forming a complex web that typifies the architecture of electrical substations.\n",
      "\n",
      "The word \"VARILOUR\" is printed at the bottom left of the page, followed by the statement \"WHITE GLOSSY.\" Additionally, there is a small logo of \"KOPION\" in the bottom center area of the page. This information likely indicates that the photograph is an example of how images appear when printed using a specific paper type called \"White Glossy,\" which is characterized by its high gloss finish and ability to enhance the contrast and sharpness of the printed image. \n",
      "\n",
      "\n"
     ]
    },
    {
     "name": "stderr",
     "output_type": "stream",
     "text": [
      "Setting `pad_token_id` to `eos_token_id`:128003 for open-end generation.\n"
     ]
    },
    {
     "name": "stdout",
     "output_type": "stream",
     "text": [
      "https://samplebook.photos/img/3193c.jpg \n",
      " The photograph displayed on the right side of the open publication reveals a well-decorated room. The photograph is black and white, adding a timeless quality to the scene.\n",
      "\n",
      "### Description of the Photograph:\n",
      "\n",
      "1. **Lighting and Decor:**\n",
      "    - **Chandelier:** Central to the image is a large, ornate chandelier hanging from the ceiling. The chandelier is decorated with elaborate crystal pendants, which would add a sense of grandeur and sparkle when lit, reflecting a refined aesthetic. The photo captures the chandelier's intricate design clearly.\n",
      "\n",
      "2. **Furniture:**\n",
      "    - **Chairs and Sofa:** There are several chairs and a sofa around what appears to be a central table or coffee table. The furniture has a classic style, with wooden frames and upholstered seating surfaces. The patterns on the upholstery are subtly visible, suggesting a traditional design.\n",
      "    - **Table:** There is a table at the center of the room, potentially used as a coffee table. Additional smaller tables are strategically placed around the seating area.\n",
      "    - **Mirror:** A large framed mirror is prominently positioned on the wall behind the chandelier. Its reflective surface likely enhances the luminosity of the room, particularly when the chandelier is turned on.\n",
      "\n",
      "3. **Decorative Elements:**\n",
      "    - **Rug:** The floor features a detailed area rug, which adds texture and warmth to the composition of the room. The rug's pattern complements the rest of the décor.\n",
      "    - **Plants and Vases:** Several plants are positioned around the room, adding greenery and life to the interior. Vases and other decorative items are also perceptible on tables and shelves, contributing to the room's elegant ambiance.\n",
      "    - **Wall Art:** The walls are adorned with framed pieces of art and photographs, arranged in a gallery-style layout. This adds a personalized touch and a cultural or historical depth to the room.\n",
      "    - **Lamps:** Floor lamps and table lamps punctuate the room, providing additional lighting sources. These lamps are designed to blend with the style of the furniture and enhance the vintage feel of the ambiance.\n",
      "\n",
      "4. **Color Palette:**\n",
      "    - Though the photograph is in black and white, it clearly showcases the contrast and depth provided by the grayscale tones. It allows for an appreciation of the architectural details and the arrangement of objects within the room.\n",
      "\n",
      "5. **Atmosphere:**\n",
      "    - The room emanates a cozy and classic atmosphere. The combination of lighting fixtures, well-placed furniture, and decorative artifacts suggests a setting that is both relaxing and sophisticated. It's a space that likely enjoys both daily use and serves as a place for entertaining guests.\n",
      "\n",
      "The photograph captures these elements in a manner that draws one into the scene, evoking a sense of nostalgia and appreciation for traditional interior design. The room exemplifies a balanced blend of functionality and aesthetics, creating a welcoming and stately environment. \n",
      "\n",
      "\n"
     ]
    },
    {
     "name": "stderr",
     "output_type": "stream",
     "text": [
      "Setting `pad_token_id` to `eos_token_id`:128003 for open-end generation.\n"
     ]
    },
    {
     "name": "stdout",
     "output_type": "stream",
     "text": [
      "https://samplebook.photos/img/948d.jpg \n",
      " The photograph in the sample book appears to be an old, black-and-white image showcasing a scene from a forest or wooded area. \n",
      "\n",
      "Here are the details:\n",
      "\n",
      "1. **Foreground**: Several trees dominate the foreground. These trees have thin trunks and are likely birch trees, given their characteristic white bark with horizontal markings. The branches spread out and appear to create a network of intricate patterns against the sky.\n",
      "\n",
      "2. **Middle Ground**: Behind the trees, the forest continues with more foliage. The greenery and density of the middle ground give a sense of depth to the image, hinting at a well-wooded area.\n",
      "\n",
      "3. **Background**: In the background, there appears to be a waterfall or a stream of some sort, partially obscured by the trees. The water cascades down, adding a dynamic element to the otherwise still scene of the forest. The presence of the water makes the setting more picturesque and serene.\n",
      "\n",
      "4. **Lighting and Texture**: The lighting seems to be diffuse, suggesting that the photograph could have been taken on an overcast day. The textures are fine, particularly evident in the details of the trees and their bark, highlighting the skill in capturing this natural scene.\n",
      "\n",
      "Overall, this photograph is a classic representation of a woodland setting, with elements of tranquility and natural beauty. The careful arrangement of the trees and the inclusion of the waterfall add layers of depth to the scene, making it visually engaging.\n",
      "\n",
      "The color checker above the photograph is a useful tool, providing a reference for accurately reproducing colors in prints and other visual media. The checker includes a variety of colored squares (representing primary colors and different shades of gray), which can help in calibrating and adjusting color balances for precise imaging. \n",
      "\n",
      "\n"
     ]
    },
    {
     "name": "stderr",
     "output_type": "stream",
     "text": [
      "Setting `pad_token_id` to `eos_token_id`:128003 for open-end generation.\n"
     ]
    },
    {
     "name": "stdout",
     "output_type": "stream",
     "text": [
      "https://samplebook.photos/img/3191i.jpg \n",
      " The photograph in the sample book features the iconic Trevi Fountain, a famous baroque fountain located in Rome, Italy. Here’s a detailed description of the photograph based on the given image:\n",
      "\n",
      "1. **Subject - Trevi Fountain**: The main subject of the photograph is the Trevi Fountain, a famous landmark. The fountain is characterized by its ornate sculptures and dramatic cascading water.\n",
      "\n",
      "2. **Architecture**: The fountain is set in a classical architectural structure. The backdrop of the image shows a building with several large windows and ornamental detailing typical of Baroque architecture.\n",
      "\n",
      "3. **Foreground and Steps**: Steps leading up to the fountain are prominently featured in the foreground. The steps appear to be made of stone and are broad and sturdy.\n",
      "\n",
      "4. **Water Feature**: The fountain’s water cascades down the steps in dramatic fashion, creating a dynamic visual effect. At the top of the fountain, there is a statue that appears to be of a figure possibly derived from Roman mythology or history.\n",
      "\n",
      "5. **Overall Monochrome Tones**: The photograph is in black and white, which emphasizes the texture and form of the fountain, the buildings surrounding it, and the play of light and shadow.\n",
      "\n",
      "6. **Photography Style**: The style of the photograph suggests it could be from the late 19th or early 20th century, given the quality and type of print. The composition focuses on capturing both the grandeur and detail of the fountain.\n",
      "\n",
      "7. **Artistic Elements**: The photograph balances the architectural details of the building with the natural flow and movement of the water, creating a harmonious and aesthetically pleasing image.\n",
      "\n",
      "The combination of architectural elements with the natural movement of the water highlights the enduring beauty and historical significance of the Trevi Fountain. \n",
      "\n",
      "\n"
     ]
    },
    {
     "name": "stderr",
     "output_type": "stream",
     "text": [
      "Setting `pad_token_id` to `eos_token_id`:128003 for open-end generation.\n"
     ]
    },
    {
     "name": "stdout",
     "output_type": "stream",
     "text": [
      "https://samplebook.photos/img/4788oo.jpg \n",
      " In this image, there are two main objects: a color checker and an open sample book with a photograph. Here is a detailed description of the photograph:\n",
      "\n",
      "1. **Photograph Composition:**\n",
      "   - **Subject:** The photograph features a portrait of a man with a serious or contemplative expression. \n",
      "   - **Attire:** The man is wearing a hat and a jacket, suggesting an outdoor or rugged context. \n",
      "   - **Pose:** He is sitting and holding what appears to be a clay pipe in his right hand. His facial expression seems to be thoughtful or somber. \n",
      "   - **Background:** The background of the photograph is indistinct, providing a focus on the subject’s face and upper body. It is monochromatic, which emphasizes the subject more intensely.\n",
      "\n",
      "2. **Technical Aspects:**\n",
      "   - **Monochrome:** The photograph is monochromatic, with a grayscale palette. The absence of color directs all visual interest towards the subject’s expression, attire, and the texture of his features.\n",
      "   - **Lighting:** The lighting appears to be soft but directional, highlighting the contours of his face, the texture of his hat, and his beard, adding depth and character to the portrait. Shadows are present but not overwhelming, which helps to maintain a balanced contrast.\n",
      "\n",
      "3. **Frame and Presentation:**\n",
      "   - **Sample Book:** The photograph is showcased within an open sample book. The book appears to be used for displaying high-quality print samples, evident by the labeling inside the photograph.\n",
      "   - **Annotations:** Below the photograph, there are text annotations: \"ADLUX\" which might refer to the printing technology or brand used to produce this image. There is also additional information: \"MADE IN GREAT BRITAIN\" which hints at the origin of the photographic process or the book itself.\n",
      "\n",
      "4. **Color Range:**\n",
      "   - **Color Checker:** Although the photograph itself is monochromatic, the presence of a color checker nearby indicates the necessity for color accuracy and reproduction quality, even for grayscale images. This suggests that the sample book may contain various photographic samples, potentially demonstrating a range of printing capabilities.\n",
      "\n",
      "5. **Condition and Setting:**\n",
      "   - **Sample Book Condition:** The sample book seems well-maintained, indicating that it is either seldom used or carefully handled. The photograph edges show no significant wear, and the page remains intact, preserving the quality of the image. \n",
      "   - **Overall Setting:** The setting appears to be a controlled environment, likely in a professional photography studio or an archival storage, where color accuracy and reproduction quality are paramount.\n",
      "\n",
      "In summary, the photograph is a monochromatic portrait of a man with a thoughtful expression, holding a clay pipe. The image is placed within an open sample book, with annotations and a color checker indicating a focus on print quality and color accuracy. The overall presentation emphasizes precision and care in displaying the photographic sample. \n",
      "\n",
      "\n"
     ]
    },
    {
     "name": "stderr",
     "output_type": "stream",
     "text": [
      "Setting `pad_token_id` to `eos_token_id`:128003 for open-end generation.\n"
     ]
    },
    {
     "name": "stdout",
     "output_type": "stream",
     "text": [
      "https://samplebook.photos/img/2086d.jpg \n",
      " The photograph depicted in the image is a black and white portrait of a middle-aged man lifting a child above his head. Both the man and the child are dressed in light-colored clothing. The man has a beard and is looking up at the child, whom he is supporting by the child's legs. The child appears to be wearing a bib or light smock and looks content and safe in the man's grasp. \n",
      "\n",
      "The photograph is part of a sample book showcasing Kodak Ektalure Paper X, which likely refers to the type of photographic paper used to print this image. The image's clarity and contrast are well-preserved, illustrating the high quality of Kodak's photographic paper. The color checker above the sample book is likely used to ensure accurate color calibration and reproduction of the photographs in the book. \n",
      "\n",
      "\n"
     ]
    },
    {
     "name": "stderr",
     "output_type": "stream",
     "text": [
      "Setting `pad_token_id` to `eos_token_id`:128003 for open-end generation.\n"
     ]
    },
    {
     "name": "stdout",
     "output_type": "stream",
     "text": [
      "https://samplebook.photos/img/4781r.jpg \n",
      " The photograph presents a black-and-white image of a smiling man, positioned on a two-page spread in what appears to be a photographic sample book. The man is seated, likely at a desk or table, with his arms gently resting on the surface. He wears a light-colored, long-sleeved shirt and maintains a relaxed yet confident posture. His expression is friendly and approachable, enhanced by his direct gaze and the warmth conveyed through his smile. \n",
      "\n",
      "The photograph occupies the right page of the open book, with the man centered on the right-hand side. He has short, neatly styled hair and a clean-shaven face. His attire and overall demeanor suggest a casual, yet professional or formal setting, possibly from a mid-20th century context given the stylistic elements of the image and the attire.\n",
      "\n",
      "Adjacent to the photograph, on the left page of the book, is a detailed \"Print Toning Table.\" The contents of the table list various types of photographic paper brands, print image appearances, and corresponding toning specifications using different toners (e.g., Ansco D.76, Anteo Vividol, Cyanotone, etc.) and processes (e.g., Albumin brown, warm, cool, etc.). This page offers a meticulous guide to achieving specific tonal qualities in photographic prints, showcasing an array of options for printers or photo enthusiasts looking to modify and enhance the aesthetic feel of their photographs.\n",
      "\n",
      "Lastly, above the open book on the gray background surface rests a small, rectangular color checker card. This card contains multiple squares of various standardized colors, including primary and secondary colors, as well as shades of gray. It is likely there to ensure accurate color reproduction in the printed material or for reference during photographic processing.\n",
      "\n",
      "In summary, the photograph in the image portrays a well-dressed, smiling man in a relaxed setting, accompanied by a Print Toning Table providing detailed toning instructions for various paper types and processes, juxtaposed with a color checker card for color accuracy verification. \n",
      "\n",
      "\n"
     ]
    },
    {
     "name": "stderr",
     "output_type": "stream",
     "text": [
      "Setting `pad_token_id` to `eos_token_id`:128003 for open-end generation.\n"
     ]
    },
    {
     "name": "stdout",
     "output_type": "stream",
     "text": [
      "https://samplebook.photos/img/5521n.jpg \n",
      " In the photograph, there is an object that appears to be a stack of medals. The medals are organized in a circular, tiered structure, with each medal seemingly looped together with a white ribbon that has a metallic buckle or clasp. The circular array presents a detailed and methodical arrangement, emphasizing the organized display of the medals. The background of the photograph is intentionally dark, which helps in highlighting the medals and their shiny, reflective surfaces against the contrasting backdrop. The lighting and composition of the photograph effectively bring out the textural details and the metallic sheen of the medals, emphasizing their significance and value.\n",
      "\n",
      "Additionally, there is a caption beneath the photograph that reads: \"Kodak Medalist Paper F Available in SW & DW.\" This suggests that the photograph is likely a sample image from a Kodak Medalist Paper type, used to showcase the quality and features of this particular photographic paper. The inclusion of this information in the image indicates that the image is from a promotional or specification brochure. \n",
      "\n",
      "\n"
     ]
    },
    {
     "name": "stderr",
     "output_type": "stream",
     "text": [
      "Setting `pad_token_id` to `eos_token_id`:128003 for open-end generation.\n"
     ]
    },
    {
     "name": "stdout",
     "output_type": "stream",
     "text": [
      "https://samplebook.photos/img/2073cc.jpg \n",
      " The image exhibits a spiral-bound sample book titled \"KODAK BROMIDE,\" specifically a waterproof, white matte, glossy A4 paper type (KODAK BROVIRA WAT. GL. F.A.). The left page features a black-and-white aerial photograph of a city area with many buildings and streets. The streets seem organized in a grid pattern, characteristic of many urban layouts. Major buildings form a larger, squared perimeter, indicating it might be an important compound or facility. There are open areas surrounding these buildings, suggesting this complex might be situated near water or open land. The right page includes detailed text descriptions about the photographic paper's specifications, usage, and handling instructions, which help in interpreting the photographic quality. The image includes a small text, \"Printed by Kodak Ltd. at Kodak Ltd., Harrow, England,\" adding to the authenticity and quality assurance of the photo paper.\n",
      "\n",
      "Above the sample book is a \"Macbeth Color Checker,\" utilized for color correction and calibration when capturing or reproducing images. The Color Checker offers a range of colored patches, including primary colors, skin tones, and various grays, aiding in ensuring that colors in the photograph are accurately represented. This is particularly important in photographic processes to maintain consistency and accuracy across different reproductions.\n",
      "\n",
      "This well-detailed set of elements provides a robust example of high-quality photographic samples and the tools required for achieving professional-grade image reproduction. \n",
      "\n",
      "\n"
     ]
    },
    {
     "name": "stderr",
     "output_type": "stream",
     "text": [
      "Setting `pad_token_id` to `eos_token_id`:128003 for open-end generation.\n"
     ]
    },
    {
     "name": "stdout",
     "output_type": "stream",
     "text": [
      "https://samplebook.photos/img/2085b.jpg \n",
      " The photograph in the sample book captures a moment of leisure by a body of water. Here are the details:\n",
      "\n",
      "1. **Setting**: The scene appears to be outdoors near a body of water.\n",
      "2. **Ground**: The ground surface is textured, suggesting it might be a pebbled or sandy beach.\n",
      "3. **Subject**: The photograph depicts two figures.\n",
      "   - One figure, closer to the water, seems to be throwing a stone or pebble into the water.\n",
      "   - The other figure is seated on the ground, slightly behind the first figure.\n",
      "4. **Activity**: The primary activity appears to be stone-throwing, a common recreational activity near lakes or rivers.\n",
      "5. **Attire**: Both individuals are dressed in casual attire suitable for a day out.\n",
      "6. **Lighting and Shadows**: The image appears to be in black and white, which affects the perception of color and tone. Shadows and lighting indicate the photograph was taken on a sunny day.\n",
      "\n",
      "In conclusion, the photograph captures a candid and relatable moment of people enjoying a simple outdoor activity by the water. \n",
      "\n",
      "\n"
     ]
    },
    {
     "name": "stderr",
     "output_type": "stream",
     "text": [
      "Setting `pad_token_id` to `eos_token_id`:128003 for open-end generation.\n"
     ]
    },
    {
     "name": "stdout",
     "output_type": "stream",
     "text": [
      "https://samplebook.photos/img/4782c.jpg \n",
      " The photograph is a black and white image showcasing a person seated on a sailboat. The individual is wearing traditional attire, which includes a long, flowing garment that covers most of their body and a headscarf. They are positioned in the center of the composition, holding onto a section of the boat’s rigging, likely a part of the sail or its supporting structure. \n",
      "\n",
      "The person is seated on a wooden deck, with various parts of the sail and the mast visible around them. The sail appears to be made of a light, perhaps woven fabric, and is hoisted at an angle that suggests the boat is in motion, possibly catching the wind. The lines and ropes of the boat's rigging are also visible, indicating the complexity and intricacy of the sailboat's design.\n",
      "\n",
      "In the background, there is an expanse of open water, which adds to the maritime theme of the image. The horizon line is not clearly depicted, likely because the focus is on the person and the immediate details of the sailboat. The overall mood of the image is serene and reflective, capturing a moment of peaceful coexistence with nature.\n",
      "\n",
      "The photograph exudes a sense of timeless elegance, highlighting the simplicity and beauty of the maritime life. The monochromatic tone adds a layer of nostalgia and historical depth to the scene. \n",
      "\n",
      "\n"
     ]
    },
    {
     "name": "stderr",
     "output_type": "stream",
     "text": [
      "Setting `pad_token_id` to `eos_token_id`:128003 for open-end generation.\n"
     ]
    },
    {
     "name": "stdout",
     "output_type": "stream",
     "text": [
      "https://samplebook.photos/img/4783v.jpg \n",
      " The image depicts an open page from a photographic sample book. The photograph on the left page features two objects: a decorative vase and a small elephant statue. \n",
      "\n",
      "**Vase:**\n",
      "- The vase is tall and slender with an ornate pattern.\n",
      "- It appears to be made of a reflective material such as metal or a glossy ceramic.\n",
      "- The pattern includes intricate swirls and floral motifs that cover the entire surface.\n",
      "- The vase casts a shadow, indicating a light source to the left.\n",
      "\n",
      "**Small Elephant Statue:**\n",
      "- The elephant statue is placed to the right of the vase.\n",
      "- The statue is depicted in mid-motion, as if walking or stepping forward.\n",
      "- The elephant has its trunk raised slightly and its ears are perked up.\n",
      "- The surface of the statue also appears reflective, resembling a smooth, metallic finish.\n",
      "- Like the vase, this statue too casts a distinct shadow suggesting the direction of light.\n",
      "\n",
      "**Photograph Characteristics:**\n",
      "- The photograph is black-and-white, capturing a high level of detail and contrast.\n",
      "- There is an inscription in the lower-left corner of the photograph which reads \"AZO GRADE F\", likely referring to the type of photographic paper or process used.\n",
      "- The page is mounted onto the left side of the book with small metal prongs visible at the top.\n",
      "\n",
      "Overall, the photograph showcases a harmonious composition, effectively using light and shadow to highlight the features of the two objects. The meticulous detailing of both the vase and the elephant statue suggests an intent to display the capability of the photographic technique used. \n",
      "\n",
      "\n"
     ]
    },
    {
     "name": "stderr",
     "output_type": "stream",
     "text": [
      "Setting `pad_token_id` to `eos_token_id`:128003 for open-end generation.\n"
     ]
    },
    {
     "name": "stdout",
     "output_type": "stream",
     "text": [
      "https://samplebook.photos/img/4912gg.jpg \n",
      " In this image, the photograph situated in the photographic sample book displays a black-and-white image of what appears to be a large dam or structure related to water management. This conclusion is drawn from the curved, towering wall, characteristic of dam structures, which spans horizontally across the photograph. The dam wall reflects a sense of scale and engineering prowess typical of such constructions.\n",
      "\n",
      "At the bottom of the photograph, there is a body of water indicative of a reservoir or river contained by the dam. The water's surface is mostly flat with some reflections, suggesting that the environment at the time the photograph was taken was relatively calm. The dam itself is intricately detailed with visible textures and shadows, emphasizing its robust construction and the play of light across its curvature.\n",
      "\n",
      "Additionally, to the right side of the dam structure, there appears to be a series of platforms or walkways, possibly used for maintenance or operational purposes. These elements are integral to dam operations, providing access and control points for the structure.\n",
      "\n",
      "Text on the photograph identifies it as \"NEODUR No. 4\" and references \"Chute du Moulin\". This suggests that the photograph might be showcasing a particular model or innovation in dam construction or technology, possibly under the brand \"Neodur,\" and it is located at or near Chute du Moulin. This situates the photograph within a specific technological and geographical context, focusing on engineering achievements and water control systems.\n",
      "\n",
      "In essence, the photograph captures the grandeur and functionality of a dam structure, highlighting both its design and its operational components. \n",
      "\n",
      "\n"
     ]
    },
    {
     "name": "stderr",
     "output_type": "stream",
     "text": [
      "Setting `pad_token_id` to `eos_token_id`:128003 for open-end generation.\n"
     ]
    },
    {
     "name": "stdout",
     "output_type": "stream",
     "text": [
      "https://samplebook.photos/img/304h.jpg \n",
      " The photograph in the image appears to be an instructional or demonstration image, which is part of the Kodak Photographic Sample Book. Let's break down the details meticulously.\n",
      "\n",
      "**1. Title and Explanation:**\n",
      "   - The photograph is accompanied by descriptive text, although the full explanation isn’t entirely legible here, it typically would include a comprehensive guide to the techniques or products demonstrated within the image.\n",
      "\n",
      "**2. Equipment and Setting:**\n",
      "   - The photograph captures a person engaged in the process of operating or handling photographic equipment. The individual seems to be working with a larger format camera or similar apparatus.\n",
      "   - The equipment in the image features a cylindrical section, likely indicating a part of a camera, lens, or film loader.\n",
      "   - Given the appearance and the context provided by the adjacent text in the sample book, it appears to demonstrate an instructional or procedural guide, possibly related to loading, developing, or managing photographic film.\n",
      "\n",
      "**3. Visual Composition:**\n",
      "   - The person in the photograph is centrally aligned with the equipment, showing both hands actively engaged.\n",
      "   - The setting appears clean and orderly, consistent with a professional workshop or laboratory setup.\n",
      "\n",
      "**4. Text Annotations:**\n",
      "   - The lower portion of the image shows labels with additional details about how the image or the process can be applied:\n",
      "     1. **Kodak Panalure Rapid Paper P**\n",
      "     2. **Kodak Mural Paper R**\n",
      "     3. **Kodak Estalure Paper S**\n",
      "     4. **Kodak Portfolio Paper Q**\n",
      "   - These labels provide specific types of photographic paper, suggesting that the image is used to exemplify different methods or products designed for varied photographic outputs.\n",
      "\n",
      "**5. Context and Relevance:**\n",
      "   - The photograph is embedded within a larger narrative, presumably illustrating techniques or applications of Kodak products.\n",
      "   - It serves as an educational visual aid to guide users through processes essential to photography, such as film loading, developing, or paper selection, enhancing the practical understanding of Kodak’s offerings.\n",
      "\n",
      "**6. Design and Layout:**\n",
      "   - The image is presented in black and white, which was standard for instructional material, allowing clear visibility of the equipment and action without the distraction of color.\n",
      "   - The adjacent color checker suggests that color evaluation and calibration remain crucial, even if the instructional photograph itself is monochrome.\n",
      "\n",
      "In conclusion, this photograph effectively combines instructional content with specific product information, ensuring that readers can visually comprehend and apply the practices detailed in the accompanying text. It is a quintessential example of Kodak's comprehensive approach to educating users about their photographic equipment and processes. \n",
      "\n",
      "\n"
     ]
    },
    {
     "name": "stderr",
     "output_type": "stream",
     "text": [
      "Setting `pad_token_id` to `eos_token_id`:128003 for open-end generation.\n"
     ]
    },
    {
     "name": "stdout",
     "output_type": "stream",
     "text": [
      "https://samplebook.photos/img/2078i.jpg \n",
      " The photograph in the image is black and white and depicts an object that resembles a vintage camera. The camera is positioned in such a way that it is facing slightly to the right, showcasing its front and part of its side. The image is characterized by strong contrasts, with the camera's body appearing dark while its front lens and parts of its metallic surface reflect light, creating highlights.\n",
      "\n",
      "The camera is mounted on a flat surface, and it looks like an older or retro model. Below the photograph, there is text that reads \"ILFORD Plastika A.2,\" which likely refers to a type of photographic paper produced by the company Ilford. The text is clear, with a larger font used for \"ILFORD\" and a smaller font for \"Plastika A.2.\" The overall setting of the photograph is minimalist, with the camera being the primary subject, and there are no additional objects or backgrounds within the frame to divert attention. \n",
      "\n",
      "\n"
     ]
    },
    {
     "name": "stderr",
     "output_type": "stream",
     "text": [
      "Setting `pad_token_id` to `eos_token_id`:128003 for open-end generation.\n"
     ]
    },
    {
     "name": "stdout",
     "output_type": "stream",
     "text": [
      "https://samplebook.photos/img/2077q.jpg \n",
      " The image contains a color checker and an open photographic sample book. The sample book displays a photograph, and here is a detailed description:\n",
      "\n",
      "### Photograph Description:\n",
      "\n",
      "1. **Subject Matter**:\n",
      "   - The photograph features a mountainous landscape, likely from an aerial or high vantage point.\n",
      "   - The central focus is a winding river or glacier cutting through rugged terrain, surrounded by steep canyon walls or mountains.\n",
      "   - The setting appears desolate with no human presence or man-made structures, emphasizing the natural, untouched scenery.\n",
      "\n",
      "2. **Tone and Style**:\n",
      "   - The overall tone of the photograph is monochrome or grayscale.\n",
      "   - The contrast seems to be well-balanced, showcasing the textures and contours of the landscape clearly.\n",
      "   \n",
      "3. **Print Quality**:\n",
      "   - The photograph appears to be of professional quality with clear details and good print resolution.\n",
      "   - The gradation shades provide depth and dimensionality to the landscape, creating a realistic and immersive viewing experience.\n",
      "\n",
      "4. **Medium**:\n",
      "   - The photograph is part of the ILFORD sample book, indicating that it is a film or print processed using ILFORD products.\n",
      "   - It specifies the use of ILFORD PAN 100 film and processed using Bromofix and Ilofix chemistry, suggesting the use of traditional black-and-white photography techniques.\n",
      "\n",
      "### Context:\n",
      "- The sample book itself provides key details about the ILFORD products used, emphasizing the professional standard and reliability of their film and processing methods.\n",
      "- The presence of a color checker indicates the importance of color accuracy and consistency in professional photography.\n",
      "\n",
      "This detailed description covers the key elements and characteristics of the photograph within the ILFORD sample book, offering insights into its aesthetic and technical qualities. \n",
      "\n",
      "\n"
     ]
    },
    {
     "name": "stderr",
     "output_type": "stream",
     "text": [
      "Setting `pad_token_id` to `eos_token_id`:128003 for open-end generation.\n"
     ]
    },
    {
     "name": "stdout",
     "output_type": "stream",
     "text": [
      "https://samplebook.photos/img/3192h.jpg \n",
      " Certainly! Here's a detailed description of the photograph in the image:\n",
      "\n",
      "**Content of the Photograph**:\n",
      "- **Foreground**: The forefront of the image features an arched structure made of stone or concrete. The arch acts as a frame for the central visual element, suggesting classical architecture.\n",
      "- **Midground**: The arch looks out over a paved pathway leading away from the vantage point. This pathway cuts through what appears to be a garden or grassy field, suggesting the setting might be a landscaped park or cemetery.\n",
      "- **Background**: Further down the path, a tall, narrow column or obelisk rises prominently. This structure is thin and cylindrical, likely made of a similar material to the arch. Surrounding the obelisk are two tall, slender trees, contributing to the vertical emphasis in the composition.\n",
      "- **Background**: Beyond the column and trees, the vista opens up to a more distant landscape, likely a valley or open plain extending to the horizon.\n",
      "\n",
      "**Photographic Elements**:\n",
      "- **Black and White**: The photograph is in black and white, evoking a timeless or historical feel.\n",
      "- **Contrast**: The contrast in the image helps to highlight the shapes and forms, with the darker arch framing the lighter, sky-dominated background.\n",
      "- **Lighting**: The lighting is neutral, and the image appears to be shot during the daytime under even, diffused light, avoiding harsh shadows or high glare.\n",
      "- **Condition**: The photograph has a matte finish with no visible reflections, implying it is either an actual printed photograph or a high-quality representation of one.\n",
      "\n",
      "**General Impression**:\n",
      "- The scene depicted suggests tranquility and a sense of depth, drawing the viewer's attention toward the distant point marked by the obelisk. The careful placement of elements, from the framing arch to the ascending pathway and eventual vanishing point, creates a composition that emphasizes perspective and invites contemplation. The setting is serene, potentially evoking themes of remembrance or reflection.\n",
      "\n",
      "This detailed description should give a comprehensive understanding of the photograph present in the image. \n",
      "\n",
      "\n"
     ]
    },
    {
     "name": "stderr",
     "output_type": "stream",
     "text": [
      "Setting `pad_token_id` to `eos_token_id`:128003 for open-end generation.\n"
     ]
    },
    {
     "name": "stdout",
     "output_type": "stream",
     "text": [
      "https://samplebook.photos/img/904x.jpg \n",
      " The photograph in the sample book depicts a wintry landscape scene. The background is adorned with tall, bare trees, possibly deciduous trees that have shed their leaves in winter. The ground is covered with a thick layer of snow. This snowy backdrop extends throughout the image, creating a sense of depth and highlighting the serene, cold environment.\n",
      "\n",
      "In the foreground, there is a partially frozen stream or small river. The water is visible in places despite the snow cover. The stream’s pathway cuts through the snow-covered landscape, potentially suggesting the contrast between the coldness of the snow and the enduring flow of water.\n",
      "\n",
      "The photograph seems to be monochrome (black and white), emphasizing the textures and shades of the snowy scene without the distraction of color. This choice might be intending to focus on the interplay between light and shadow, with the snow providing a natural canvas for these interactions.\n",
      "\n",
      "The edges of the photograph are clean and sharp, indicating that it has been carefully mounted onto the page, without any visible fraying or damage. The page of the book around the photograph appears to be off-white or slightly aged, adding a vintage or historical feel to the entire presentation. \n",
      "\n",
      "\n"
     ]
    },
    {
     "name": "stderr",
     "output_type": "stream",
     "text": [
      "Setting `pad_token_id` to `eos_token_id`:128003 for open-end generation.\n"
     ]
    },
    {
     "name": "stdout",
     "output_type": "stream",
     "text": [
      "https://samplebook.photos/img/4792b.jpg \n",
      " The photograph in the sample book depicts a collection of metallic objects with a complex, symmetrical design. The objects are arranged in a circular formation on a flat surface and appear to be metallic due to the reflections and shadows. They are possibly parts of a machine or mechanical device, given the intricate patterns and circular motifs that resemble gears or part of a mechanical structure.\n",
      "\n",
      "The image is in black and white, offering a stark contrast which highlights the details and textures of the metallic objects. There appear to be multiple layers or tiers to the arrangement, providing depth and complexity to the composition. The background of the photograph is dark, making the metallic patterns stand out prominently. The objects possess circular designs, which might suggest functionality related to rotational movement.\n",
      "\n",
      "In summary, the photograph captures a detailed arrangement of metallic, circular objects, possibly mechanical parts, with a focus on intricate patterns and textures, accentuated by strong contrasts in a black and white scheme. \n",
      "\n",
      "\n"
     ]
    },
    {
     "name": "stderr",
     "output_type": "stream",
     "text": [
      "Setting `pad_token_id` to `eos_token_id`:128003 for open-end generation.\n"
     ]
    },
    {
     "name": "stdout",
     "output_type": "stream",
     "text": [
      "https://samplebook.photos/img/5301p.jpg \n",
      " The photograph features a monochromatic, black-and-white image of a person wearing a decorated cap, likely a traditional or military headdress. The person in the photograph appears to be engaging in a thoughtful or intense moment, as indicated by their clasped hands near their face. \n",
      "\n",
      "The setting around this individual adds a dramatic touch to the image. Positioned next to the person is a ceramic vase adorned with a detailed floral pattern. Below the vase, there is a piece of sheer, fluttering fabric. The play of light and shadow, particularly the way the light falls on the person’s face and the fabric, adds a rich contrast and depth to the photograph. \n",
      "\n",
      "Adjacent to the photo, on the same page as the image, is text that credits the photographer as \"Fredrick A. Meyer.\" Below the attribution is the name of a gallery, \"LIFEBROM GALERIE,\" followed by further details and a credit line to another person, \"Stuart. Double Weight,\" likely referencing the type of paper used for the print. This detailed and artistic presentation suggests a professional and thoughtful curation of the photograph and its inclusion in the sample book. \n",
      "\n",
      "\n"
     ]
    },
    {
     "name": "stderr",
     "output_type": "stream",
     "text": [
      "Setting `pad_token_id` to `eos_token_id`:128003 for open-end generation.\n"
     ]
    },
    {
     "name": "stdout",
     "output_type": "stream",
     "text": [
      "https://samplebook.photos/img/5207j.jpg \n",
      " Certainly! In this image, there are two objects: a color checker and a photographic sample book opened to a page with a photograph. Let’s delve into a detailed description of the photograph:\n",
      "\n",
      "### Description of the Photograph:\n",
      "1. **Content**: The photograph depicts a small bird, possibly a chick or a fledgling, nestled amidst some fabric and fibers, likely part of a nest or bed of material designed for young birds or animals. The bird appears to be looking straight at the camera with its beak slightly open, a typical pose in avian photography.\n",
      "   \n",
      "2. **Composition**: The bird is quite central in the composition, but its placement is slightly off-center to the right side of the image, creating a more dynamic and engaging frame. The background contains a mix of textures and shadows, adding depth to the photograph.\n",
      "\n",
      "3. **Color & Tone**: The image appears to be black and white, or it could be a high-contrast image where the colors have been desaturated to highlight textures and forms. The feathers and fur exhibit fine details and contrasting shades, lending a tactile quality to the photograph.\n",
      "\n",
      "4. **Lighting**: The lighting seems to come from the side or above, creating highlights and shadows on the bird and the surrounding material. This lighting enhances the three-dimensional effect, making the bird and the fabric appear lifelike.\n",
      "\n",
      "5. **Textural Details**: The textures of the feathers, fur, and fabric add to the richness of the image. The fur might be from an animal skin or a stuffed toy placed near the bird, possibly for comfort.\n",
      "\n",
      "6. **Expression & Mood**: The bird, with its partially open beak, conveys a sense of curiosity or possibly a peep of a call. The overall mood is gentle and tender, capturing a moment of innocence or vulnerability.\n",
      "\n",
      "7. **Contextual Elements**: The photograph likely aims to capture the intimate and care-intensive nature of a bird's early life, showing an aspect of nurturing and protection. The choice of black and white (or desaturated colors) could be to emphasize the purity and innocence of the subject.\n",
      "\n",
      "This photograph stands as a serene yet striking depiction of avian life, utilizing composition, lighting, and texture to create a vivid and emotional visual experience. \n",
      "\n",
      "\n"
     ]
    },
    {
     "name": "stderr",
     "output_type": "stream",
     "text": [
      "Setting `pad_token_id` to `eos_token_id`:128003 for open-end generation.\n"
     ]
    },
    {
     "name": "stdout",
     "output_type": "stream",
     "text": [
      "https://samplebook.photos/img/1007p.jpg \n",
      " Certainly! Here's a detailed description of the photograph found in the sample book, alongside additional contextual information based on the image:\n",
      "\n",
      "**Description of the Photograph:**\n",
      "\n",
      "The photograph depicts a young child standing and laughing joyfully. The child appears to be positioned slightly to the right, looking perhaps at a person or an object off-camera, which has prompted a moment of genuine laughter. Here are some detailed observations:\n",
      "\n",
      "1. **Child’s Appearance:**\n",
      "   - **Clothing:** The child is dressed in a simple and classic outfit. They are wearing a short-sleeved shirt buttoned up to the collar and dark shorts or trousers. A belt is also visible, helping to keep the shorts or trousers in place.\n",
      "   - **Footwear:** The child is wearing dark-colored shoes that look formal and polished, complementing the outfit.\n",
      "   - **Hair:** The child has curly hair, adding to the overall charming and lively presentation.\n",
      "\n",
      "2. **Posture and Expression:**\n",
      "   - **Posture:** The child is standing upright with a slightly bent left leg, suggesting movement or an expressive pose.\n",
      "   - **Expression:** The child's face is lit up with a broad smile, showcasing joy and happiness, likely captured in a candid moment of laughter.\n",
      "\n",
      "3. **Background and Setting:**\n",
      "   - **Background:** The background is plain, likely a studio backdrop designed to keep focus on the child without any distractions.\n",
      "   - **Setting:** Given the studio-like setting and the child’s posed position, it can be inferred that this photo was taken in a professional or semi-professional environment, possibly with the intent of creating a formal portrait. The presence of the shoes and the well-kept outfit indicates that the child might have been dressed specially for the photograph.\n",
      "\n",
      "4. **Photographic Quality and Frame:**\n",
      "   - **Photographic Style:** The photograph is in black and white, suggesting it might date back to a period when color photography was less common or to give a timeless or classic feel.\n",
      "   - **Frame:** The photograph is housed in an album or sample book, held in place by a clear, perhaps archival plastic sleeve. The borders of the photograph are crisp and well-aligned, hinting at good preservation.\n",
      "\n",
      "**Additional Information from the Surroundings:**\n",
      "\n",
      "- The color checker placed above the sample book may indicate this is for archival or presentation purposes, ensuring color accuracy and reference.\n",
      "- A small circular sticker, potentially a logo or stamp, is placed near the bottom right of the photograph (on the sample book page), which could denote the brand, studio, or some form of identification related to the photograph’s origin or context.\n",
      "\n",
      "**General Contextual Insight:**\n",
      "\n",
      "The combination of the child's joyful demeanor, classic attire, and professional studio setting suggests that this could be a vintage photograph, potentially from the mid-20th century, given the photographic style and technology implied by the black-and-white format. The image seems to evoke a sense of nostalgia and timeless innocence captured through the lens. \n",
      "\n",
      "\n"
     ]
    },
    {
     "name": "stderr",
     "output_type": "stream",
     "text": [
      "Setting `pad_token_id` to `eos_token_id`:128003 for open-end generation.\n"
     ]
    },
    {
     "name": "stdout",
     "output_type": "stream",
     "text": [
      "https://samplebook.photos/img/17l.jpg \n",
      " Certainly! Let's take a closer look at the photographic sample book and analyze the photograph depicted on the open page titled \"REKORD-RAPID 119\".\n",
      "\n",
      "**Overall Description:**\n",
      "\n",
      "The photograph is a monochrome (black and white) image. It features a woman, presumably in her mid-20s to early 40s, standing confidently in what appears to be an industrial setting. The composition is dynamic, with the woman positioned slightly off-center to the right, and the background and objects around her help to frame and add context to the image.\n",
      "\n",
      "**Details of the Woman:**\n",
      "\n",
      "1. **Pose and Attire:**\n",
      "   - The woman is standing with her left hand on her hip, projecting a strong and confident demeanor.\n",
      "   - She is dressed in a sleeveless dress that reaches her knees. The dress is fitted, likely a medium to light weight fabric.\n",
      "   - Her hair is short and styled in a manner typical of the mid-20th century, possibly indicating the photograph’s vintage context.\n",
      "\n",
      "2. **Facial Expression:**\n",
      "   - She is looking directly at the camera with a slight smile, which adds warmth to her presence in the photograph.\n",
      "   - The lighting on her face is even, suggesting a well-balanced exposure which is a testament to the photographic technique used.\n",
      "\n",
      "3. **Accessory:**\n",
      "   - On her left wrist, she wears a watch, which may indicate a sense of practicality or the importance of timekeeping in her profession or personal life.\n",
      "\n",
      "**Background Elements:**\n",
      "\n",
      "1. **Setting:**\n",
      "   - The scene is likely an industrial workspace, indicated by the machinery and metallic elements present in the background. The large cylindrical object behind her seems to be part of some industrial equipment.\n",
      "   \n",
      "2. **Machinery Detail:**\n",
      "   - The machinery behind her has a pipe or tube looping around, which adds to the industrial feel of the setting.\n",
      "\n",
      "**Photographic Technique:**\n",
      "\n",
      "1. **Lighting:**\n",
      "   - The lighting of the photograph suggests a controlled environmental setup, typical of studio photography. The light source appears to be coming from the front-left of the subject, casting subtle shadows that add depth to the image.\n",
      "\n",
      "2. **Composition:**\n",
      "   - The use of leading lines is evident. The pipe behind her leads the viewer’s eye towards her, enhancing the focus on the subject.\n",
      "\n",
      "3. **Framing:**\n",
      "   - The framing is well-executed, with the subject partially surrounded by elements of the machinery, which also helps to create a narrative or story for the viewer.\n",
      "\n",
      "**Overall Impression:**\n",
      "\n",
      "The photograph exudes a strong sense of confidence and professionalism, both in the subject's pose and expression and in the meticulous execution of the photographic elements. This image could be used as an advertisement for a product or service related to women's empowerment, industrial work, or even fashion, showcasing how women play integral roles in various sectors.\n",
      "\n",
      "In summary, the photograph on the open page titled \"REKORD-RAPID 119\" captures a compelling and dynamic image of a confident woman in an industrial setting, masterfully employing elements of composition, lighting, and subject engagement. \n",
      "\n",
      "\n"
     ]
    },
    {
     "name": "stderr",
     "output_type": "stream",
     "text": [
      "Setting `pad_token_id` to `eos_token_id`:128003 for open-end generation.\n"
     ]
    },
    {
     "name": "stdout",
     "output_type": "stream",
     "text": [
      "https://samplebook.photos/img/286t.jpg \n",
      " The photograph in the sample book features a young woman standing by a white picket fence. She is dressed in a light, possibly floral, dress with a fitted bodice and a full skirt that reaches her knees. Her hair is styled in a neat, medium-length bob, and she has a pleasant expression on her face, possibly smiling. \n",
      "\n",
      "The background shows a well-maintained garden with trees and shrubs, giving a sense of a suburban setting. The lighting in the photograph is natural, likely taken during the daytime, casting soft shadows and highlighting the details of the clothing and the foliage in the background.\n",
      "\n",
      "The image appears to be taken in black and white, with a focus on capturing the contrast and shades accurately. The photo is identified as being printed on ANSCO Convira (Violet D.W. Grades 7 1/4 x 5 3/4), which indicates the type of photographic paper used, suggesting a high-quality print.\n",
      "\n",
      "Overall, the photograph exemplifies classic mid-20th century portraiture with a focus on clarity, detail, and the aesthetic charm of the subject and the setting. \n",
      "\n",
      "\n"
     ]
    },
    {
     "name": "stderr",
     "output_type": "stream",
     "text": [
      "Setting `pad_token_id` to `eos_token_id`:128003 for open-end generation.\n"
     ]
    },
    {
     "name": "stdout",
     "output_type": "stream",
     "text": [
      "https://samplebook.photos/img/287g.jpg \n",
      " The photograph, located on an open page of a sample book, depicts two young women leaning against a large window with multiple panes. They are positioned side by side, with one of them sitting lower than the other. Both are dressed in a style reminiscent of punk or grunge fashion. \n",
      "\n",
      "The woman on the left is seated, her legs crossed, and she props her right arm on her raised knee. She has long, dark, slightly disheveled hair that falls over her face, partly obscuring it. She is wearing a dark-colored jacket with a patterned design, light-colored jeans, and black ankle boots. She gazes off into the distance, exuding a relaxed, contemplative demeanor.\n",
      "\n",
      "The woman on the right stands with her left knee slightly bent, one hand on her hip, and the other supporting herself against the window frame. She dons a black, textured leather jacket and distressed white jeans that are frayed and ripped at the knees. Her footwear consists of black ankle boots, similar in style to those worn by the seated woman. She poses confidently, with her dark hair styled in a sleek bob and her gaze directed forward. Her attire and posture suggest a sense of casual defiance.\n",
      "\n",
      "The backdrop of the photograph, a slightly weathered window with a rustic frame, adds to the urban, eclectic vibe of the scene. The interplay of light and shadow coming through the window panes creates a stark, high-contrast visual effect, emphasizing the textures of their clothing and the gritty ambiance.\n",
      "\n",
      "The open sample book is propped to the left side of the photograph, indicating various color information and specifications available on that page. A color checker chart sits at the top left corner of the image; it consists of an arrangement of colored squares and neutral gray shades to help in calibrating and ensuring color accuracy in photographic work.\n",
      "\n",
      "Overall, the photograph captures a raw, candid moment between the two women, embodying a fusion of style, attitude, and the authenticity of a moment frozen in time. \n",
      "\n",
      "\n"
     ]
    },
    {
     "name": "stderr",
     "output_type": "stream",
     "text": [
      "Setting `pad_token_id` to `eos_token_id`:128003 for open-end generation.\n"
     ]
    },
    {
     "name": "stdout",
     "output_type": "stream",
     "text": [
      "https://samplebook.photos/img/3189j.jpg \n",
      " The photograph in the image appears to be a vintage, black-and-white landscape image. It depicts a gravel road surrounded by open fields, with gentle hills stretching in the distance. People can be seen walking on the road, possibly engaged in agricultural activities, and there are utility poles lining the side of the road. The photograph is bordered with a thin, white frame and is presented on a page with a pale, textured background. Below the photograph, there is text that seems to reference a specific photograph or page number (possibly \"ROYAL VILLES - CONTP. No. 2\"), indicating its source or location in the photo book. This suggests it's part of a larger collection of images. \n",
      "\n",
      "\n"
     ]
    },
    {
     "name": "stderr",
     "output_type": "stream",
     "text": [
      "Setting `pad_token_id` to `eos_token_id`:128003 for open-end generation.\n"
     ]
    },
    {
     "name": "stdout",
     "output_type": "stream",
     "text": [
      "https://samplebook.photos/img/4911d.jpg \n",
      " The photograph in the sample book captures a pastoral scene set against a large, leafy tree which dominates the backdrop. The scene depicts a rustic environment, likely from a time in history characterized by simpler, rural lifestyles.\n",
      "\n",
      "In the foreground, two bovines are central to the image -- a cow and an ox, each exhibiting distinctive markings. The cow, positioned on the left side of the image, stands slightly behind the ox with its head turned towards the ox, revealing a gentle demeanor. The ox, on the right side, is in profile and appears to be calmly poised in front of the cow, with its large horns directed forwards. Both animals are depicted in a natural setting, which enhances the tranquil ambiance of the scene.\n",
      "\n",
      "Adjacent to the animals, on the left side, there is a small structure that resembles a thatched hut. The roof of the hut is indicative of traditional construction methods commonly used in rural or village settings. A few slender poles support the thatched roof, giving the structure a quaint and modest appearance. Behind the hut, a person is kneeling, engaged in an undetermined activity, perhaps working the land or attending to daily chores. The presence of this figure adds a human touch to the scene, suggesting a day-to-day life intertwined with the surrounding nature and animals.\n",
      "\n",
      "The overall setting is indicative of an agrarian lifestyle, with the towering tree standing as a testament to resilience and continuity through generations. The leafy canopy of the tree provides shade and a sense of enclosure, reinforcing the serene, almost timeless atmosphere of the scene. The composition of the photograph, with its clear focus on natural elements and rural life, portrays a snapshot of pastoral tranquility and the harmonious relationship between humans, animals, and nature.\n",
      "\n",
      "In summary, this photograph encapsulates a moment in a simplistic, agrarian era with its depiction of livestock, a thatched hut, a towering tree, and a human figure engaged in daily rural life, thereby capturing the essence of a serene, pastoral setting. \n",
      "\n",
      "\n"
     ]
    },
    {
     "name": "stderr",
     "output_type": "stream",
     "text": [
      "Setting `pad_token_id` to `eos_token_id`:128003 for open-end generation.\n"
     ]
    },
    {
     "name": "stdout",
     "output_type": "stream",
     "text": [
      "https://samplebook.photos/img/4785a.jpg \n",
      " The image showcases a photographic sample book opened to a page containing a photograph. Let's delve into the intricate details of the photograph:\n",
      "\n",
      "1. **Subject**:\n",
      "   - The photograph features a figure lying down in a relaxed, perhaps dreamlike or serene pose. This figure occupies a significant portion of the image and is the central focus. \n",
      "   - The face of the individual is visible, with delicate facial features and a calm expression, adding to the tranquil mood of the image.\n",
      "\n",
      "2. **Color and Tone**:\n",
      "   - The photograph predominantly employs muted, cool tones, including shades of blues, whites, and soft grays. These colors contribute to the ethereal and peaceful atmosphere of the image.\n",
      "   - The use of light and shadow enhances the visual depth, giving the photograph a slightly surreal quality. There is a delicate interplay between light areas and darker regions, emphasizing the contours and textures within the photograph.\n",
      "\n",
      "3. **Composition**:\n",
      "   - The composition is balanced and aesthetically pleasing, with the figure centrally placed but slightly off-center, leading the viewer’s eye towards the intricate details.\n",
      "   - The soft edges and blended colors suggest a gentle and smooth texture, which contrasts with the sharper details of the individual’s face.\n",
      "\n",
      "4. **Artistic Elements**:\n",
      "   - The photograph seems to incorporate artistic elements that make it more evocative than a straightforward portrait. The delicate overlay of colors and the dreamlike quality of the image give it a sense of mystery and introspection.\n",
      "   - It appears to be a carefully crafted composite or an artistically manipulated photograph, emphasizing mood and atmosphere over realism.\n",
      "\n",
      "5. **Medium and Technique**:\n",
      "   - The photograph appears to be a print on traditional photographic paper, as indicated by its inclusion in a sample book, which is often used to display the potential of different photographic techniques and styles.\n",
      "   - This photographic medium, combined with artistic methods, contributes to the image's distinctive and timeless quality.\n",
      "\n",
      "Overall, the photograph in the sample book is an evocative piece of visual art that captures a moment of tranquility and introspection through its careful composition, delicate use of color, and artistic techniques. \n",
      "\n",
      "\n"
     ]
    },
    {
     "name": "stderr",
     "output_type": "stream",
     "text": [
      "Setting `pad_token_id` to `eos_token_id`:128003 for open-end generation.\n"
     ]
    },
    {
     "name": "stdout",
     "output_type": "stream",
     "text": [
      "https://samplebook.photos/img/4793a.jpg \n",
      " The photograph in the sample book depicts a person engaged in a domestic activity. Here are the detailed observations:\n",
      "\n",
      "1. **Subject of the Photograph**: The main subject of the photograph is a seated individual, presumably a woman given the visible attire and hairstyle. She appears to be involved in laundry work.\n",
      "\n",
      "2. **Activity Depicted**: The individual is positioned over what looks like a washbasin or a large bucket, indicating that she is washing clothes. Her arms and upper body are involved in the movement, suggesting she might be wringing out or scrubbing the garments. The action captured seems vigorous, as evidenced by the water splashes around.\n",
      "\n",
      "3. **Attire**: The person is dressed in a light-colored, possibly striped garment. The attire looks practical, suitable for physical work and possibly made from a material that can endure getting wet.\n",
      "\n",
      "4. **Props and Environment**: The subject is using some form of a washboard or a scrubbing implement, held in her right hand, indicating the method she uses for washing. The washbasin or bucket is dark-colored and filled with water, evident from the splashes and the reflection of light.\n",
      "\n",
      "5. **Lighting and Composition**: The lighting in the photograph seems natural, possibly from an overhead light source given the visible highlights and contrast in shadows. This helps emphasize the details of the activity.\n",
      "\n",
      "6. **Photographic Technique**: The photograph is in black and white, providing a classic and timeless feel. The composition is centered on the subject, focusing on the action of washing rather than the broader environment.\n",
      "\n",
      "In summary, the photograph is a detailed depiction of manual laundry work from a bygone era, capturing the essence of hard domestic labor with practical clothing and minimalistic tools. \n",
      "\n",
      "\n"
     ]
    }
   ],
   "source": [
    "responses_intern = {}\n",
    "\n",
    "for url in urls:\n",
    "    response = get_response(url)\n",
    "    print(url,\"\\n\",response,\"\\n\\n\")\n",
    "    responses_intern[url] = {'OpenGVLab/InternVL2-Llama3-76B':response}"
   ]
  },
  {
   "cell_type": "code",
   "execution_count": 18,
   "id": "b17f8f17-4600-48ba-93d9-5dc7118ef4ee",
   "metadata": {},
   "outputs": [],
   "source": [
    "import pickle"
   ]
  },
  {
   "cell_type": "code",
   "execution_count": 19,
   "id": "a08b63bc-0c65-4970-9037-885b62b3f9cd",
   "metadata": {},
   "outputs": [],
   "source": [
    "with open(\"responses_intern.pkl\", \"wb\") as f:\n",
    "    pickle.dump(responses_intern, f)"
   ]
  }
 ],
 "metadata": {
  "kernelspec": {
   "display_name": "Python 3 (ipykernel)",
   "language": "python",
   "name": "python3"
  },
  "language_info": {
   "codemirror_mode": {
    "name": "ipython",
    "version": 3
   },
   "file_extension": ".py",
   "mimetype": "text/x-python",
   "name": "python",
   "nbconvert_exporter": "python",
   "pygments_lexer": "ipython3",
   "version": "3.10.4"
  }
 },
 "nbformat": 4,
 "nbformat_minor": 5
}
