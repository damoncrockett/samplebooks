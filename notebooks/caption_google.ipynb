{
 "cells": [
  {
   "cell_type": "code",
   "execution_count": 3,
   "id": "28f69add-57e6-42cb-96c0-0a212ff4f814",
   "metadata": {},
   "outputs": [],
   "source": [
    "import google.generativeai as genai\n",
    "import os\n",
    "import pickle\n",
    "from dotenv import load_dotenv"
   ]
  },
  {
   "cell_type": "code",
   "execution_count": 4,
   "id": "4641f403-c0be-49ac-82bf-9252692aef10",
   "metadata": {},
   "outputs": [],
   "source": [
    "load_dotenv()\n",
    "genai.configure(api_key=os.getenv(\"GOOGLE_API_KEY\"))"
   ]
  },
  {
   "cell_type": "code",
   "execution_count": 5,
   "id": "2c888a87-7a84-40aa-a37d-203a18d96f1b",
   "metadata": {},
   "outputs": [],
   "source": [
    "with open(\"responses_openai.pkl\", \"rb\") as file:\n",
    "    responses = pickle.load(file)"
   ]
  },
  {
   "cell_type": "code",
   "execution_count": 6,
   "id": "1d37bb16-9be4-44ce-9bf4-bd3d64a60c9a",
   "metadata": {},
   "outputs": [],
   "source": [
    "urls = list(responses.keys())"
   ]
  },
  {
   "cell_type": "code",
   "execution_count": 7,
   "id": "66f6487f-bc31-40c6-8a41-5190ac475d12",
   "metadata": {},
   "outputs": [],
   "source": [
    "with open(\"/Users/damoncrockett/samplebooks/src/assets/txt/modelrank_prompt.txt\", 'r') as f:\n",
    "    prompt = f.read()"
   ]
  },
  {
   "cell_type": "code",
   "execution_count": 16,
   "id": "4932ce7b-a04e-4825-b831-500943c00ab4",
   "metadata": {},
   "outputs": [],
   "source": [
    "def get_response(url):\n",
    "    \n",
    "    localpath = \"/Users/damoncrockett/samplebooks/src/assets/img/\" + os.path.basename(url)\n",
    "    myfile = genai.upload_file(localpath)    \n",
    "    \n",
    "    model = genai.GenerativeModel(\"gemini-1.5-pro\")\n",
    "    result = model.generate_content(\n",
    "        [myfile, \"\\n\\n\", prompt]\n",
    "    )\n",
    "\n",
    "    return result.text.replace(\"\\n\",\"\").rstrip(\" \")"
   ]
  },
  {
   "cell_type": "code",
   "execution_count": 18,
   "id": "e6ee7584-8619-4bbb-bab8-25012cd12008",
   "metadata": {},
   "outputs": [],
   "source": [
    "responses_google = {}\n",
    "\n",
    "for url in urls:\n",
    "    response = get_response(url)\n",
    "    responses_google[url] = {'gemini-1.5-pro':response}"
   ]
  },
  {
   "cell_type": "code",
   "execution_count": 19,
   "id": "f17f4d5f-5287-47d7-920b-4972088f50a2",
   "metadata": {},
   "outputs": [],
   "source": [
    "with open(\"responses_google.pkl\", \"wb\") as f:\n",
    "    pickle.dump(responses_google, f)"
   ]
  },
  {
   "cell_type": "code",
   "execution_count": null,
   "id": "58b356ce-5253-490e-aa9d-632cd6b9a8be",
   "metadata": {},
   "outputs": [],
   "source": []
  }
 ],
 "metadata": {
  "kernelspec": {
   "display_name": "Python 3 (ipykernel)",
   "language": "python",
   "name": "python3"
  },
  "language_info": {
   "codemirror_mode": {
    "name": "ipython",
    "version": 3
   },
   "file_extension": ".py",
   "mimetype": "text/x-python",
   "name": "python",
   "nbconvert_exporter": "python",
   "pygments_lexer": "ipython3",
   "version": "3.10.4"
  }
 },
 "nbformat": 4,
 "nbformat_minor": 5
}
