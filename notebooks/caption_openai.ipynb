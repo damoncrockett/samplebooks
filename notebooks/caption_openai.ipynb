{
 "cells": [
  {
   "cell_type": "code",
   "execution_count": 1,
   "id": "987061e4",
   "metadata": {},
   "outputs": [],
   "source": [
    "import glob,os\n",
    "import openai\n",
    "import pickle\n",
    "from dotenv import load_dotenv"
   ]
  },
  {
   "cell_type": "code",
   "execution_count": 2,
   "id": "a5a84ee8",
   "metadata": {},
   "outputs": [],
   "source": [
    "allims = glob.glob(os.path.join(\"/Users/damoncrockett/samplebooks/src/assets/img/_modelrank/\",\"*.jpg\"))"
   ]
  },
  {
   "cell_type": "code",
   "execution_count": 3,
   "id": "c5267c99",
   "metadata": {},
   "outputs": [],
   "source": [
    "basepaths = [os.path.basename(item) for item in allims]"
   ]
  },
  {
   "cell_type": "code",
   "execution_count": 4,
   "id": "eb30024f",
   "metadata": {},
   "outputs": [],
   "source": [
    "import sys\n",
    "sys.path.append(\"/Users/damoncrockett/ivpy/src\")\n",
    "from ivpy import *"
   ]
  },
  {
   "cell_type": "code",
   "execution_count": 5,
   "id": "8bf45e29",
   "metadata": {},
   "outputs": [],
   "source": [
    "AWS = \"https://samplebook.photos/img/\""
   ]
  },
  {
   "cell_type": "code",
   "execution_count": 6,
   "id": "581f4e5d",
   "metadata": {},
   "outputs": [],
   "source": [
    "imurls = [AWS+item for item in basepaths]"
   ]
  },
  {
   "cell_type": "markdown",
   "id": "7c02c98b",
   "metadata": {},
   "source": [
    "# API"
   ]
  },
  {
   "cell_type": "code",
   "execution_count": 7,
   "id": "1bfc48b0",
   "metadata": {},
   "outputs": [],
   "source": [
    "load_dotenv()\n",
    "openai.api_key = os.getenv(\"OPENAI_API_KEY\")"
   ]
  },
  {
   "cell_type": "code",
   "execution_count": 8,
   "id": "a8a5ea55",
   "metadata": {},
   "outputs": [],
   "source": [
    "client = openai.OpenAI()"
   ]
  },
  {
   "cell_type": "code",
   "execution_count": 9,
   "id": "addb9ebd",
   "metadata": {},
   "outputs": [],
   "source": [
    "with open(\"/Users/damoncrockett/samplebooks/src/assets/txt/modelrank_prompt.txt\", 'r') as f:\n",
    "    prompt = f.read()"
   ]
  },
  {
   "cell_type": "code",
   "execution_count": 10,
   "id": "b818ca7a",
   "metadata": {},
   "outputs": [],
   "source": [
    "def cleanup(s):\n",
    "    return s.replace(\"\\n\",\"\")"
   ]
  },
  {
   "cell_type": "code",
   "execution_count": 11,
   "id": "3267ae0d",
   "metadata": {},
   "outputs": [],
   "source": [
    "def get_and_clean_response(url):\n",
    "    \n",
    "    response = client.chat.completions.create(\n",
    "      model=\"gpt-4o\",\n",
    "      messages=[\n",
    "        {\n",
    "          \"role\": \"user\",\n",
    "          \"content\": [\n",
    "            {\"type\": \"text\", \"text\": prompt},\n",
    "            {\n",
    "              \"type\": \"image_url\",\n",
    "              \"image_url\": {\n",
    "                \"url\": url,\n",
    "              },\n",
    "            },\n",
    "          ],\n",
    "        }\n",
    "      ],\n",
    "      max_tokens=1024,\n",
    "    )\n",
    "    \n",
    "    return cleanup(response.choices[0].message.content)"
   ]
  },
  {
   "cell_type": "code",
   "execution_count": 12,
   "id": "4c4cc75b",
   "metadata": {},
   "outputs": [],
   "source": [
    "responses = []\n",
    "for url in imurls:\n",
    "    r = get_and_clean_response(url)\n",
    "    responses.append(r)"
   ]
  },
  {
   "cell_type": "code",
   "execution_count": 13,
   "id": "a2b5f426",
   "metadata": {},
   "outputs": [],
   "source": [
    "all_responses = {}\n",
    "\n",
    "for i,url in enumerate(imurls):\n",
    "    all_responses[url] = {\"gpt-4o-2024-08-06\":responses[i]}"
   ]
  },
  {
   "cell_type": "code",
   "execution_count": 15,
   "id": "a7aea103",
   "metadata": {},
   "outputs": [],
   "source": [
    "import pickle\n",
    "\n",
    "with open(\"responses_openai.pkl\", \"wb\") as f:\n",
    "    pickle.dump(all_responses, f)"
   ]
  }
 ],
 "metadata": {
  "kernelspec": {
   "display_name": "Python 3 (ipykernel)",
   "language": "python",
   "name": "python3"
  },
  "language_info": {
   "codemirror_mode": {
    "name": "ipython",
    "version": 3
   },
   "file_extension": ".py",
   "mimetype": "text/x-python",
   "name": "python",
   "nbconvert_exporter": "python",
   "pygments_lexer": "ipython3",
   "version": "3.10.4"
  }
 },
 "nbformat": 4,
 "nbformat_minor": 5
}
