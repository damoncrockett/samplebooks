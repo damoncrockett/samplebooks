{
 "cells": [
  {
   "cell_type": "code",
   "execution_count": 1,
   "id": "28f69add-57e6-42cb-96c0-0a212ff4f814",
   "metadata": {},
   "outputs": [],
   "source": [
    "import requests\n",
    "import os\n",
    "import pickle\n",
    "from dotenv import load_dotenv"
   ]
  },
  {
   "cell_type": "code",
   "execution_count": 2,
   "id": "4641f403-c0be-49ac-82bf-9252692aef10",
   "metadata": {},
   "outputs": [],
   "source": [
    "load_dotenv()\n",
    "api_key = os.getenv(\"ANTHROPIC_API_KEY\")"
   ]
  },
  {
   "cell_type": "code",
   "execution_count": 3,
   "id": "ec99b6ff-0345-4e0e-a78b-99bf9de70c31",
   "metadata": {},
   "outputs": [],
   "source": [
    "client = anthropic.Anthropic(\n",
    "    api_key=api_key,\n",
    ")"
   ]
  },
  {
   "cell_type": "code",
   "execution_count": 4,
   "id": "abec4ecf-689b-404a-a4cb-1b67a3f45195",
   "metadata": {},
   "outputs": [],
   "source": [
    "import base64\n",
    "import httpx"
   ]
  },
  {
   "cell_type": "code",
   "execution_count": 5,
   "id": "2c888a87-7a84-40aa-a37d-203a18d96f1b",
   "metadata": {},
   "outputs": [],
   "source": [
    "with open(\"responses_openai.pkl\", \"rb\") as file:\n",
    "    responses = pickle.load(file)"
   ]
  },
  {
   "cell_type": "code",
   "execution_count": 6,
   "id": "1d37bb16-9be4-44ce-9bf4-bd3d64a60c9a",
   "metadata": {},
   "outputs": [],
   "source": [
    "urls = list(responses.keys())"
   ]
  },
  {
   "cell_type": "code",
   "execution_count": 7,
   "id": "ab14f569-3912-4a3c-bab1-72f217a7a92e",
   "metadata": {},
   "outputs": [],
   "source": [
    "image_media_type = \"image/jpeg\""
   ]
  },
  {
   "cell_type": "code",
   "execution_count": 8,
   "id": "965780d6-7e6d-4756-b140-4b6392364b9f",
   "metadata": {},
   "outputs": [],
   "source": [
    "def encode_image(url):\n",
    "    return base64.b64encode(httpx.get(url).content).decode(\"utf-8\")"
   ]
  },
  {
   "cell_type": "code",
   "execution_count": 9,
   "id": "66f6487f-bc31-40c6-8a41-5190ac475d12",
   "metadata": {},
   "outputs": [],
   "source": [
    "with open(\"/Users/damoncrockett/samplebooks/src/assets/txt/modelrank_prompt.txt\", 'r') as f:\n",
    "    prompt = f.read()"
   ]
  },
  {
   "cell_type": "code",
   "execution_count": 10,
   "id": "4932ce7b-a04e-4825-b831-500943c00ab4",
   "metadata": {},
   "outputs": [],
   "source": [
    "def get_response(url):\n",
    "    message = client.messages.create(\n",
    "        model=\"claude-3-5-sonnet-20241022\",\n",
    "        max_tokens=1024,\n",
    "        messages=[\n",
    "            {\n",
    "                \"role\": \"user\",\n",
    "                \"content\": [\n",
    "                    {\n",
    "                        \"type\": \"image\",\n",
    "                        \"source\": {\n",
    "                            \"type\": \"base64\",\n",
    "                            \"media_type\": image_media_type,\n",
    "                            \"data\": encode_image(url),\n",
    "                        },\n",
    "                    },\n",
    "                    {\n",
    "                        \"type\": \"text\",\n",
    "                        \"text\": prompt\n",
    "                    }\n",
    "                ],\n",
    "            }\n",
    "        ],\n",
    "    )\n",
    "\n",
    "    return message.content[0].text"
   ]
  },
  {
   "cell_type": "code",
   "execution_count": 11,
   "id": "e6ee7584-8619-4bbb-bab8-25012cd12008",
   "metadata": {},
   "outputs": [],
   "source": [
    "responses_anthropic = {}\n",
    "\n",
    "for url in urls:\n",
    "    response = get_response(url)\n",
    "    responses_anthropic[url] = {'claude-3-5-sonnet-20241022':response}"
   ]
  },
  {
   "cell_type": "code",
   "execution_count": 13,
   "id": "f17f4d5f-5287-47d7-920b-4972088f50a2",
   "metadata": {},
   "outputs": [],
   "source": [
    "with open(\"responses_anthropic.pkl\", \"wb\") as f:\n",
    "    pickle.dump(responses_anthropic, f)"
   ]
  }
 ],
 "metadata": {
  "kernelspec": {
   "display_name": "Python 3 (ipykernel)",
   "language": "python",
   "name": "python3"
  },
  "language_info": {
   "codemirror_mode": {
    "name": "ipython",
    "version": 3
   },
   "file_extension": ".py",
   "mimetype": "text/x-python",
   "name": "python",
   "nbconvert_exporter": "python",
   "pygments_lexer": "ipython3",
   "version": "3.10.4"
  }
 },
 "nbformat": 4,
 "nbformat_minor": 5
}
