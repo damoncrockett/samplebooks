{
 "cells": [
  {
   "cell_type": "code",
   "execution_count": null,
   "id": "4684b305-048c-4422-abfe-66042c27fc86",
   "metadata": {},
   "outputs": [],
   "source": [
    "#!pip install einops accelerate"
   ]
  },
  {
   "cell_type": "code",
   "execution_count": null,
   "id": "cf1d6963-fcf3-41b7-bbec-0af10b61a3e4",
   "metadata": {},
   "outputs": [],
   "source": [
    "from transformers import AutoModelForCausalLM, AutoProcessor, GenerationConfig\n",
    "from PIL import Image\n",
    "import requests\n",
    "import torch"
   ]
  },
  {
   "cell_type": "code",
   "execution_count": null,
   "id": "66d9386b-8e09-4bbe-93f7-95256d54cf43",
   "metadata": {},
   "outputs": [],
   "source": [
    "processor = AutoProcessor.from_pretrained(\n",
    "    'allenai/Molmo-72B-0924',\n",
    "    trust_remote_code=True,\n",
    "    torch_dtype='auto',\n",
    "    device_map='auto'\n",
    ")"
   ]
  },
  {
   "cell_type": "code",
   "execution_count": null,
   "id": "4d6da39d-2f67-4411-a8e0-7caf1123654a",
   "metadata": {},
   "outputs": [],
   "source": [
    "model = AutoModelForCausalLM.from_pretrained(\n",
    "    'allenai/Molmo-72B-0924',\n",
    "    trust_remote_code=True,\n",
    "    torch_dtype='auto',\n",
    "    device_map='auto'\n",
    ")"
   ]
  },
  {
   "cell_type": "code",
   "execution_count": null,
   "id": "b5632a15-f313-40c1-bc2d-b353183e49bb",
   "metadata": {},
   "outputs": [],
   "source": [
    "urls = [\n",
    " 'https://samplebook.photos/img/4786a.jpg',\n",
    " 'https://samplebook.photos/img/284v.jpg',\n",
    " 'https://samplebook.photos/img/3193c.jpg',\n",
    " 'https://samplebook.photos/img/948d.jpg',\n",
    " 'https://samplebook.photos/img/3191i.jpg',\n",
    " 'https://samplebook.photos/img/4788oo.jpg',\n",
    " 'https://samplebook.photos/img/2086d.jpg',\n",
    " 'https://samplebook.photos/img/4781r.jpg',\n",
    " 'https://samplebook.photos/img/5521n.jpg',\n",
    " 'https://samplebook.photos/img/2073cc.jpg',\n",
    " 'https://samplebook.photos/img/2085b.jpg',\n",
    " 'https://samplebook.photos/img/4782c.jpg',\n",
    " 'https://samplebook.photos/img/4783v.jpg',\n",
    " 'https://samplebook.photos/img/4912gg.jpg',\n",
    " 'https://samplebook.photos/img/304h.jpg',\n",
    " 'https://samplebook.photos/img/2078i.jpg',\n",
    " 'https://samplebook.photos/img/2077q.jpg',\n",
    " 'https://samplebook.photos/img/3192h.jpg',\n",
    " 'https://samplebook.photos/img/904x.jpg',\n",
    " 'https://samplebook.photos/img/4792b.jpg',\n",
    " 'https://samplebook.photos/img/5301p.jpg',\n",
    " 'https://samplebook.photos/img/5207j.jpg',\n",
    " 'https://samplebook.photos/img/1007p.jpg',\n",
    " 'https://samplebook.photos/img/17l.jpg',\n",
    " 'https://samplebook.photos/img/286t.jpg',\n",
    " 'https://samplebook.photos/img/287g.jpg',\n",
    " 'https://samplebook.photos/img/3189j.jpg',\n",
    " 'https://samplebook.photos/img/4911d.jpg',\n",
    " 'https://samplebook.photos/img/4785a.jpg',\n",
    " 'https://samplebook.photos/img/4793a.jpg'\n",
    "]"
   ]
  },
  {
   "cell_type": "code",
   "execution_count": null,
   "id": "8daa0cab-6cb0-4a44-be82-8775e7f0e85b",
   "metadata": {},
   "outputs": [],
   "source": [
    "prompt = 'There are two objects in this image. One is a color checker, and the other is a photographic sample book, open to a page containing a photograph. Give a detailed description of the photograph.'"
   ]
  },
  {
   "cell_type": "code",
   "execution_count": null,
   "id": "36eba659-6c0c-42a4-890a-b63a1dd41d9a",
   "metadata": {},
   "outputs": [],
   "source": [
    "def get_response(url):\n",
    "    \n",
    "    inputs = processor.process(\n",
    "        images=[Image.open(requests.get(url, stream=True).raw)],\n",
    "        text=prompt\n",
    "    )\n",
    "\n",
    "    # move inputs to the correct device and make a batch of size 1\n",
    "    inputs = {k: v.to(model.device).unsqueeze(0) for k, v in inputs.items()}\n",
    "    \n",
    "    # generate output; stop generation when <|endoftext|> is generated\n",
    "    output = model.generate_from_batch(\n",
    "        inputs,\n",
    "        GenerationConfig(max_new_tokens=1024, stop_strings=\"<|endoftext|>\"),\n",
    "        tokenizer=processor.tokenizer\n",
    "    )\n",
    "    \n",
    "    # only get generated tokens; decode them to text\n",
    "    generated_tokens = output[0,inputs['input_ids'].size(1):]\n",
    "    generated_text = processor.tokenizer.decode(generated_tokens, skip_special_tokens=True)\n",
    "\n",
    "    return generated_text"
   ]
  },
  {
   "cell_type": "code",
   "execution_count": null,
   "id": "52bba860-a6e7-4f49-86eb-99deabd1ac1d",
   "metadata": {},
   "outputs": [],
   "source": [
    "responses_molmo = {}\n",
    "\n",
    "for url in urls:\n",
    "    response = get_response(url)\n",
    "    print(url,\"\\n\",response,\"\\n\\n\")\n",
    "    responses_molmo[url] = {'allenai/Molmo-72B-0924':response}"
   ]
  },
  {
   "cell_type": "code",
   "execution_count": null,
   "id": "9c9d78e4-3541-410d-8b31-4305c9cbbed5",
   "metadata": {},
   "outputs": [],
   "source": [
    "import pickle"
   ]
  },
  {
   "cell_type": "code",
   "execution_count": null,
   "id": "392d1b86-07a7-497e-bcb0-1c4a9096f761",
   "metadata": {},
   "outputs": [],
   "source": [
    "with open(\"responses_molmo.pkl\", \"wb\") as f:\n",
    "    pickle.dump(responses_molmo, f)"
   ]
  }
 ],
 "metadata": {
  "kernelspec": {
   "display_name": "Python 3 (ipykernel)",
   "language": "python",
   "name": "python3"
  },
  "language_info": {
   "codemirror_mode": {
    "name": "ipython",
    "version": 3
   },
   "file_extension": ".py",
   "mimetype": "text/x-python",
   "name": "python",
   "nbconvert_exporter": "python",
   "pygments_lexer": "ipython3",
   "version": "3.10.4"
  }
 },
 "nbformat": 4,
 "nbformat_minor": 5
}
