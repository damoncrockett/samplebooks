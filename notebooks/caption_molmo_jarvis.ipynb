{
 "cells": [
  {
   "cell_type": "code",
   "execution_count": 2,
   "id": "4684b305-048c-4422-abfe-66042c27fc86",
   "metadata": {},
   "outputs": [],
   "source": [
    "#!pip install einops accelerate"
   ]
  },
  {
   "cell_type": "code",
   "execution_count": 3,
   "id": "cf1d6963-fcf3-41b7-bbec-0af10b61a3e4",
   "metadata": {},
   "outputs": [],
   "source": [
    "from transformers import AutoModelForCausalLM, AutoProcessor, GenerationConfig\n",
    "from PIL import Image\n",
    "import requests\n",
    "import torch"
   ]
  },
  {
   "cell_type": "code",
   "execution_count": 4,
   "id": "66d9386b-8e09-4bbe-93f7-95256d54cf43",
   "metadata": {},
   "outputs": [
    {
     "data": {
      "application/vnd.jupyter.widget-view+json": {
       "model_id": "29d031a5e92c4ee88ab264925e9e866d",
       "version_major": 2,
       "version_minor": 0
      },
      "text/plain": [
       "processor_config.json:   0%|          | 0.00/121 [00:00<?, ?B/s]"
      ]
     },
     "metadata": {},
     "output_type": "display_data"
    },
    {
     "data": {
      "application/vnd.jupyter.widget-view+json": {
       "model_id": "47390c8134b84dcfb3531400102d0f9e",
       "version_major": 2,
       "version_minor": 0
      },
      "text/plain": [
       "preprocessing_molmo.py:   0%|          | 0.00/6.56k [00:00<?, ?B/s]"
      ]
     },
     "metadata": {},
     "output_type": "display_data"
    },
    {
     "data": {
      "application/vnd.jupyter.widget-view+json": {
       "model_id": "55e5f9f7c08b4cb68b1f47ad93de2c99",
       "version_major": 2,
       "version_minor": 0
      },
      "text/plain": [
       "image_preprocessing_molmo.py:   0%|          | 0.00/22.2k [00:00<?, ?B/s]"
      ]
     },
     "metadata": {},
     "output_type": "display_data"
    },
    {
     "name": "stderr",
     "output_type": "stream",
     "text": [
      "A new version of the following files was downloaded from https://huggingface.co/allenai/Molmo-72B-0924:\n",
      "- image_preprocessing_molmo.py\n",
      ". Make sure to double-check they do not contain any added malicious code. To avoid downloading new versions of the code file, you can pin a revision.\n",
      "A new version of the following files was downloaded from https://huggingface.co/allenai/Molmo-72B-0924:\n",
      "- preprocessing_molmo.py\n",
      "- image_preprocessing_molmo.py\n",
      ". Make sure to double-check they do not contain any added malicious code. To avoid downloading new versions of the code file, you can pin a revision.\n"
     ]
    },
    {
     "data": {
      "application/vnd.jupyter.widget-view+json": {
       "model_id": "d9351d32571345a38d004f0ef0948490",
       "version_major": 2,
       "version_minor": 0
      },
      "text/plain": [
       "preprocessor_config.json:   0%|          | 0.00/634 [00:00<?, ?B/s]"
      ]
     },
     "metadata": {},
     "output_type": "display_data"
    },
    {
     "data": {
      "application/vnd.jupyter.widget-view+json": {
       "model_id": "a59b199c37c943bb95d42ba095dabef5",
       "version_major": 2,
       "version_minor": 0
      },
      "text/plain": [
       "tokenizer_config.json:   0%|          | 0.00/92.2k [00:00<?, ?B/s]"
      ]
     },
     "metadata": {},
     "output_type": "display_data"
    },
    {
     "data": {
      "application/vnd.jupyter.widget-view+json": {
       "model_id": "c2b2c88553eb4d89acd9cae6a11bd338",
       "version_major": 2,
       "version_minor": 0
      },
      "text/plain": [
       "vocab.json:   0%|          | 0.00/2.78M [00:00<?, ?B/s]"
      ]
     },
     "metadata": {},
     "output_type": "display_data"
    },
    {
     "data": {
      "application/vnd.jupyter.widget-view+json": {
       "model_id": "0182b48dd050438f8be0c55efe8f74b7",
       "version_major": 2,
       "version_minor": 0
      },
      "text/plain": [
       "merges.txt:   0%|          | 0.00/1.67M [00:00<?, ?B/s]"
      ]
     },
     "metadata": {},
     "output_type": "display_data"
    },
    {
     "data": {
      "application/vnd.jupyter.widget-view+json": {
       "model_id": "6593f00450f5443a9d059914855cee1c",
       "version_major": 2,
       "version_minor": 0
      },
      "text/plain": [
       "tokenizer.json:   0%|          | 0.00/7.11M [00:00<?, ?B/s]"
      ]
     },
     "metadata": {},
     "output_type": "display_data"
    },
    {
     "data": {
      "application/vnd.jupyter.widget-view+json": {
       "model_id": "9e85ce8cae5441248b040137ef06eb69",
       "version_major": 2,
       "version_minor": 0
      },
      "text/plain": [
       "added_tokens.json:   0%|          | 0.00/14.3k [00:00<?, ?B/s]"
      ]
     },
     "metadata": {},
     "output_type": "display_data"
    },
    {
     "data": {
      "application/vnd.jupyter.widget-view+json": {
       "model_id": "99b37aa52c0444839020816ee7588c38",
       "version_major": 2,
       "version_minor": 0
      },
      "text/plain": [
       "special_tokens_map.json:   0%|          | 0.00/12.0k [00:00<?, ?B/s]"
      ]
     },
     "metadata": {},
     "output_type": "display_data"
    }
   ],
   "source": [
    "processor = AutoProcessor.from_pretrained(\n",
    "    'allenai/Molmo-72B-0924',\n",
    "    trust_remote_code=True,\n",
    "    torch_dtype='auto',\n",
    "    device_map='auto'\n",
    ")"
   ]
  },
  {
   "cell_type": "code",
   "execution_count": 5,
   "id": "4d6da39d-2f67-4411-a8e0-7caf1123654a",
   "metadata": {},
   "outputs": [
    {
     "data": {
      "application/vnd.jupyter.widget-view+json": {
       "model_id": "b0a7cd89af8a49118524a4f8f784ffc4",
       "version_major": 2,
       "version_minor": 0
      },
      "text/plain": [
       "config.json:   0%|          | 0.00/806 [00:00<?, ?B/s]"
      ]
     },
     "metadata": {},
     "output_type": "display_data"
    },
    {
     "data": {
      "application/vnd.jupyter.widget-view+json": {
       "model_id": "0c1d738e592d418ab97d08fb5244dc10",
       "version_major": 2,
       "version_minor": 0
      },
      "text/plain": [
       "config_molmo.py:   0%|          | 0.00/1.98k [00:00<?, ?B/s]"
      ]
     },
     "metadata": {},
     "output_type": "display_data"
    },
    {
     "name": "stderr",
     "output_type": "stream",
     "text": [
      "A new version of the following files was downloaded from https://huggingface.co/allenai/Molmo-72B-0924:\n",
      "- config_molmo.py\n",
      ". Make sure to double-check they do not contain any added malicious code. To avoid downloading new versions of the code file, you can pin a revision.\n"
     ]
    },
    {
     "data": {
      "application/vnd.jupyter.widget-view+json": {
       "model_id": "788169a8d0624b1cb890a065ee6f47fd",
       "version_major": 2,
       "version_minor": 0
      },
      "text/plain": [
       "modeling_molmo.py:   0%|          | 0.00/95.4k [00:00<?, ?B/s]"
      ]
     },
     "metadata": {},
     "output_type": "display_data"
    },
    {
     "name": "stderr",
     "output_type": "stream",
     "text": [
      "A new version of the following files was downloaded from https://huggingface.co/allenai/Molmo-72B-0924:\n",
      "- modeling_molmo.py\n",
      ". Make sure to double-check they do not contain any added malicious code. To avoid downloading new versions of the code file, you can pin a revision.\n"
     ]
    },
    {
     "data": {
      "application/vnd.jupyter.widget-view+json": {
       "model_id": "9c6e9f486b4b4c94890b496263e7bb55",
       "version_major": 2,
       "version_minor": 0
      },
      "text/plain": [
       "model.safetensors.index.json:   0%|          | 0.00/94.0k [00:00<?, ?B/s]"
      ]
     },
     "metadata": {},
     "output_type": "display_data"
    },
    {
     "data": {
      "application/vnd.jupyter.widget-view+json": {
       "model_id": "6dd42bcee79b4fa0abd76c0986a39fb7",
       "version_major": 2,
       "version_minor": 0
      },
      "text/plain": [
       "Downloading shards:   0%|          | 0/83 [00:00<?, ?it/s]"
      ]
     },
     "metadata": {},
     "output_type": "display_data"
    },
    {
     "data": {
      "application/vnd.jupyter.widget-view+json": {
       "model_id": "05d742dcfbf54014a77105c2dcf961e5",
       "version_major": 2,
       "version_minor": 0
      },
      "text/plain": [
       "model-00001-of-00083.safetensors:   0%|          | 0.00/4.99G [00:00<?, ?B/s]"
      ]
     },
     "metadata": {},
     "output_type": "display_data"
    },
    {
     "data": {
      "application/vnd.jupyter.widget-view+json": {
       "model_id": "dba85d163d7d4c42bb7090f8e41790c6",
       "version_major": 2,
       "version_minor": 0
      },
      "text/plain": [
       "model-00002-of-00083.safetensors:   0%|          | 0.00/4.75G [00:00<?, ?B/s]"
      ]
     },
     "metadata": {},
     "output_type": "display_data"
    },
    {
     "data": {
      "application/vnd.jupyter.widget-view+json": {
       "model_id": "4b7933960a2348f5b125e127d73eb6ce",
       "version_major": 2,
       "version_minor": 0
      },
      "text/plain": [
       "model-00003-of-00083.safetensors:   0%|          | 0.00/3.85G [00:00<?, ?B/s]"
      ]
     },
     "metadata": {},
     "output_type": "display_data"
    },
    {
     "data": {
      "application/vnd.jupyter.widget-view+json": {
       "model_id": "7a98f6c358c64fb3ba68675540bb8df3",
       "version_major": 2,
       "version_minor": 0
      },
      "text/plain": [
       "model-00004-of-00083.safetensors:   0%|          | 0.00/3.51G [00:00<?, ?B/s]"
      ]
     },
     "metadata": {},
     "output_type": "display_data"
    },
    {
     "data": {
      "application/vnd.jupyter.widget-view+json": {
       "model_id": "db83a2f661ea4dbbb1b79aabc2dba0ac",
       "version_major": 2,
       "version_minor": 0
      },
      "text/plain": [
       "model-00005-of-00083.safetensors:   0%|          | 0.00/3.51G [00:00<?, ?B/s]"
      ]
     },
     "metadata": {},
     "output_type": "display_data"
    },
    {
     "data": {
      "application/vnd.jupyter.widget-view+json": {
       "model_id": "b40ae502f1ab461fa803c8063dfc1f64",
       "version_major": 2,
       "version_minor": 0
      },
      "text/plain": [
       "model-00006-of-00083.safetensors:   0%|          | 0.00/3.51G [00:00<?, ?B/s]"
      ]
     },
     "metadata": {},
     "output_type": "display_data"
    },
    {
     "data": {
      "application/vnd.jupyter.widget-view+json": {
       "model_id": "d8114558ef5f4aedb977e32881d6df2b",
       "version_major": 2,
       "version_minor": 0
      },
      "text/plain": [
       "model-00007-of-00083.safetensors:   0%|          | 0.00/3.51G [00:00<?, ?B/s]"
      ]
     },
     "metadata": {},
     "output_type": "display_data"
    },
    {
     "data": {
      "application/vnd.jupyter.widget-view+json": {
       "model_id": "6edbc733efe84dc3878fb70455cda64e",
       "version_major": 2,
       "version_minor": 0
      },
      "text/plain": [
       "model-00008-of-00083.safetensors:   0%|          | 0.00/3.51G [00:00<?, ?B/s]"
      ]
     },
     "metadata": {},
     "output_type": "display_data"
    },
    {
     "data": {
      "application/vnd.jupyter.widget-view+json": {
       "model_id": "b5618178e5df424992fdd1e71415a66b",
       "version_major": 2,
       "version_minor": 0
      },
      "text/plain": [
       "model-00009-of-00083.safetensors:   0%|          | 0.00/3.51G [00:00<?, ?B/s]"
      ]
     },
     "metadata": {},
     "output_type": "display_data"
    },
    {
     "data": {
      "application/vnd.jupyter.widget-view+json": {
       "model_id": "87447f1302f244c795ba18d5ae52b742",
       "version_major": 2,
       "version_minor": 0
      },
      "text/plain": [
       "model-00010-of-00083.safetensors:   0%|          | 0.00/3.51G [00:00<?, ?B/s]"
      ]
     },
     "metadata": {},
     "output_type": "display_data"
    },
    {
     "data": {
      "application/vnd.jupyter.widget-view+json": {
       "model_id": "2157a46ccfed4298a4727ed946c099e2",
       "version_major": 2,
       "version_minor": 0
      },
      "text/plain": [
       "model-00011-of-00083.safetensors:   0%|          | 0.00/3.51G [00:00<?, ?B/s]"
      ]
     },
     "metadata": {},
     "output_type": "display_data"
    },
    {
     "data": {
      "application/vnd.jupyter.widget-view+json": {
       "model_id": "bcac8da170334fdebfd4f93b273fdc00",
       "version_major": 2,
       "version_minor": 0
      },
      "text/plain": [
       "model-00012-of-00083.safetensors:   0%|          | 0.00/3.51G [00:00<?, ?B/s]"
      ]
     },
     "metadata": {},
     "output_type": "display_data"
    },
    {
     "data": {
      "application/vnd.jupyter.widget-view+json": {
       "model_id": "737d093d51e6405da19ce8b6254017a2",
       "version_major": 2,
       "version_minor": 0
      },
      "text/plain": [
       "model-00013-of-00083.safetensors:   0%|          | 0.00/3.51G [00:00<?, ?B/s]"
      ]
     },
     "metadata": {},
     "output_type": "display_data"
    },
    {
     "data": {
      "application/vnd.jupyter.widget-view+json": {
       "model_id": "accb711285004f07a4ea64062dcbab46",
       "version_major": 2,
       "version_minor": 0
      },
      "text/plain": [
       "model-00014-of-00083.safetensors:   0%|          | 0.00/3.51G [00:00<?, ?B/s]"
      ]
     },
     "metadata": {},
     "output_type": "display_data"
    },
    {
     "data": {
      "application/vnd.jupyter.widget-view+json": {
       "model_id": "a08183c0ab2b4e68a35715755b56746c",
       "version_major": 2,
       "version_minor": 0
      },
      "text/plain": [
       "model-00015-of-00083.safetensors:   0%|          | 0.00/3.51G [00:00<?, ?B/s]"
      ]
     },
     "metadata": {},
     "output_type": "display_data"
    },
    {
     "data": {
      "application/vnd.jupyter.widget-view+json": {
       "model_id": "d3c8704432f74ca48157cfa7c74cd3a6",
       "version_major": 2,
       "version_minor": 0
      },
      "text/plain": [
       "model-00016-of-00083.safetensors:   0%|          | 0.00/3.51G [00:00<?, ?B/s]"
      ]
     },
     "metadata": {},
     "output_type": "display_data"
    },
    {
     "data": {
      "application/vnd.jupyter.widget-view+json": {
       "model_id": "c43b5b2e69bc4b89b06205317e2ef818",
       "version_major": 2,
       "version_minor": 0
      },
      "text/plain": [
       "model-00017-of-00083.safetensors:   0%|          | 0.00/3.51G [00:00<?, ?B/s]"
      ]
     },
     "metadata": {},
     "output_type": "display_data"
    },
    {
     "data": {
      "application/vnd.jupyter.widget-view+json": {
       "model_id": "5d35fcfd315e40d8b1df0437ae79a867",
       "version_major": 2,
       "version_minor": 0
      },
      "text/plain": [
       "model-00018-of-00083.safetensors:   0%|          | 0.00/3.51G [00:00<?, ?B/s]"
      ]
     },
     "metadata": {},
     "output_type": "display_data"
    },
    {
     "data": {
      "application/vnd.jupyter.widget-view+json": {
       "model_id": "f537ffa50df14403959f52c54bde70f9",
       "version_major": 2,
       "version_minor": 0
      },
      "text/plain": [
       "model-00019-of-00083.safetensors:   0%|          | 0.00/3.51G [00:00<?, ?B/s]"
      ]
     },
     "metadata": {},
     "output_type": "display_data"
    },
    {
     "data": {
      "application/vnd.jupyter.widget-view+json": {
       "model_id": "186e02a52e5949d6aec905b911913630",
       "version_major": 2,
       "version_minor": 0
      },
      "text/plain": [
       "model-00020-of-00083.safetensors:   0%|          | 0.00/3.51G [00:00<?, ?B/s]"
      ]
     },
     "metadata": {},
     "output_type": "display_data"
    },
    {
     "data": {
      "application/vnd.jupyter.widget-view+json": {
       "model_id": "513c999e819544538782586a1a5e4e67",
       "version_major": 2,
       "version_minor": 0
      },
      "text/plain": [
       "model-00021-of-00083.safetensors:   0%|          | 0.00/3.51G [00:00<?, ?B/s]"
      ]
     },
     "metadata": {},
     "output_type": "display_data"
    },
    {
     "data": {
      "application/vnd.jupyter.widget-view+json": {
       "model_id": "db6ae5b9cdcb4e22a73a5a7813a1d3f9",
       "version_major": 2,
       "version_minor": 0
      },
      "text/plain": [
       "model-00022-of-00083.safetensors:   0%|          | 0.00/3.51G [00:00<?, ?B/s]"
      ]
     },
     "metadata": {},
     "output_type": "display_data"
    },
    {
     "data": {
      "application/vnd.jupyter.widget-view+json": {
       "model_id": "574c8a24048143df820d877914e30a39",
       "version_major": 2,
       "version_minor": 0
      },
      "text/plain": [
       "model-00023-of-00083.safetensors:   0%|          | 0.00/3.51G [00:00<?, ?B/s]"
      ]
     },
     "metadata": {},
     "output_type": "display_data"
    },
    {
     "data": {
      "application/vnd.jupyter.widget-view+json": {
       "model_id": "62468d14b65347eaafc1cc7f02bd4a0c",
       "version_major": 2,
       "version_minor": 0
      },
      "text/plain": [
       "model-00024-of-00083.safetensors:   0%|          | 0.00/3.51G [00:00<?, ?B/s]"
      ]
     },
     "metadata": {},
     "output_type": "display_data"
    },
    {
     "data": {
      "application/vnd.jupyter.widget-view+json": {
       "model_id": "a62f595adea74a829860cc48fd7d1267",
       "version_major": 2,
       "version_minor": 0
      },
      "text/plain": [
       "model-00025-of-00083.safetensors:   0%|          | 0.00/3.51G [00:00<?, ?B/s]"
      ]
     },
     "metadata": {},
     "output_type": "display_data"
    },
    {
     "data": {
      "application/vnd.jupyter.widget-view+json": {
       "model_id": "48e4ad276662435eba94ded42a28300f",
       "version_major": 2,
       "version_minor": 0
      },
      "text/plain": [
       "model-00026-of-00083.safetensors:   0%|          | 0.00/3.51G [00:00<?, ?B/s]"
      ]
     },
     "metadata": {},
     "output_type": "display_data"
    },
    {
     "data": {
      "application/vnd.jupyter.widget-view+json": {
       "model_id": "9ad475fb9666491d9674ed2b50250379",
       "version_major": 2,
       "version_minor": 0
      },
      "text/plain": [
       "model-00027-of-00083.safetensors:   0%|          | 0.00/3.51G [00:00<?, ?B/s]"
      ]
     },
     "metadata": {},
     "output_type": "display_data"
    },
    {
     "data": {
      "application/vnd.jupyter.widget-view+json": {
       "model_id": "68c29904f4a8423aa498c36215d38d69",
       "version_major": 2,
       "version_minor": 0
      },
      "text/plain": [
       "model-00028-of-00083.safetensors:   0%|          | 0.00/3.51G [00:00<?, ?B/s]"
      ]
     },
     "metadata": {},
     "output_type": "display_data"
    },
    {
     "data": {
      "application/vnd.jupyter.widget-view+json": {
       "model_id": "c7b4a5588de8402295981e1e21bcb141",
       "version_major": 2,
       "version_minor": 0
      },
      "text/plain": [
       "model-00029-of-00083.safetensors:   0%|          | 0.00/3.51G [00:00<?, ?B/s]"
      ]
     },
     "metadata": {},
     "output_type": "display_data"
    },
    {
     "data": {
      "application/vnd.jupyter.widget-view+json": {
       "model_id": "780e75495b60424dab3391eef1eb4f09",
       "version_major": 2,
       "version_minor": 0
      },
      "text/plain": [
       "model-00030-of-00083.safetensors:   0%|          | 0.00/3.51G [00:00<?, ?B/s]"
      ]
     },
     "metadata": {},
     "output_type": "display_data"
    },
    {
     "data": {
      "application/vnd.jupyter.widget-view+json": {
       "model_id": "59c4552eefb54ab494967adba2874c99",
       "version_major": 2,
       "version_minor": 0
      },
      "text/plain": [
       "model-00031-of-00083.safetensors:   0%|          | 0.00/3.51G [00:00<?, ?B/s]"
      ]
     },
     "metadata": {},
     "output_type": "display_data"
    },
    {
     "data": {
      "application/vnd.jupyter.widget-view+json": {
       "model_id": "f1ae45eeed10455ab0f6987994c4e6c5",
       "version_major": 2,
       "version_minor": 0
      },
      "text/plain": [
       "model-00032-of-00083.safetensors:   0%|          | 0.00/3.51G [00:00<?, ?B/s]"
      ]
     },
     "metadata": {},
     "output_type": "display_data"
    },
    {
     "data": {
      "application/vnd.jupyter.widget-view+json": {
       "model_id": "5ce0604b2cdd45beac2f6b5dd342f3eb",
       "version_major": 2,
       "version_minor": 0
      },
      "text/plain": [
       "model-00033-of-00083.safetensors:   0%|          | 0.00/3.51G [00:00<?, ?B/s]"
      ]
     },
     "metadata": {},
     "output_type": "display_data"
    },
    {
     "data": {
      "application/vnd.jupyter.widget-view+json": {
       "model_id": "2d2a252701c44552be79416ffd25fcbf",
       "version_major": 2,
       "version_minor": 0
      },
      "text/plain": [
       "model-00034-of-00083.safetensors:   0%|          | 0.00/3.51G [00:00<?, ?B/s]"
      ]
     },
     "metadata": {},
     "output_type": "display_data"
    },
    {
     "data": {
      "application/vnd.jupyter.widget-view+json": {
       "model_id": "75958f0a4aa74297b803c2b1c0726a80",
       "version_major": 2,
       "version_minor": 0
      },
      "text/plain": [
       "model-00035-of-00083.safetensors:   0%|          | 0.00/3.51G [00:00<?, ?B/s]"
      ]
     },
     "metadata": {},
     "output_type": "display_data"
    },
    {
     "data": {
      "application/vnd.jupyter.widget-view+json": {
       "model_id": "0076c27a9a07435789509240cde08485",
       "version_major": 2,
       "version_minor": 0
      },
      "text/plain": [
       "model-00036-of-00083.safetensors:   0%|          | 0.00/3.51G [00:00<?, ?B/s]"
      ]
     },
     "metadata": {},
     "output_type": "display_data"
    },
    {
     "data": {
      "application/vnd.jupyter.widget-view+json": {
       "model_id": "30c33c455e4f48d5a93bbc9891761901",
       "version_major": 2,
       "version_minor": 0
      },
      "text/plain": [
       "model-00037-of-00083.safetensors:   0%|          | 0.00/3.51G [00:00<?, ?B/s]"
      ]
     },
     "metadata": {},
     "output_type": "display_data"
    },
    {
     "data": {
      "application/vnd.jupyter.widget-view+json": {
       "model_id": "66c74a4d215749f38cc4c863e07d3eab",
       "version_major": 2,
       "version_minor": 0
      },
      "text/plain": [
       "model-00038-of-00083.safetensors:   0%|          | 0.00/3.51G [00:00<?, ?B/s]"
      ]
     },
     "metadata": {},
     "output_type": "display_data"
    },
    {
     "data": {
      "application/vnd.jupyter.widget-view+json": {
       "model_id": "edcf9a16420e4566b9f7b4bb9345b4cd",
       "version_major": 2,
       "version_minor": 0
      },
      "text/plain": [
       "model-00039-of-00083.safetensors:   0%|          | 0.00/3.51G [00:00<?, ?B/s]"
      ]
     },
     "metadata": {},
     "output_type": "display_data"
    },
    {
     "data": {
      "application/vnd.jupyter.widget-view+json": {
       "model_id": "aaea0204c0d0430fa12c1396b61419f8",
       "version_major": 2,
       "version_minor": 0
      },
      "text/plain": [
       "model-00040-of-00083.safetensors:   0%|          | 0.00/3.51G [00:00<?, ?B/s]"
      ]
     },
     "metadata": {},
     "output_type": "display_data"
    },
    {
     "data": {
      "application/vnd.jupyter.widget-view+json": {
       "model_id": "7a81d074f9bf440ea24c668f46bca5c7",
       "version_major": 2,
       "version_minor": 0
      },
      "text/plain": [
       "model-00041-of-00083.safetensors:   0%|          | 0.00/3.51G [00:00<?, ?B/s]"
      ]
     },
     "metadata": {},
     "output_type": "display_data"
    },
    {
     "data": {
      "application/vnd.jupyter.widget-view+json": {
       "model_id": "9018079e52554ad4b5ce3003b55c93a7",
       "version_major": 2,
       "version_minor": 0
      },
      "text/plain": [
       "model-00042-of-00083.safetensors:   0%|          | 0.00/3.51G [00:00<?, ?B/s]"
      ]
     },
     "metadata": {},
     "output_type": "display_data"
    },
    {
     "data": {
      "application/vnd.jupyter.widget-view+json": {
       "model_id": "696f6b555d7c4492a898ba9a440d7eff",
       "version_major": 2,
       "version_minor": 0
      },
      "text/plain": [
       "model-00043-of-00083.safetensors:   0%|          | 0.00/3.51G [00:00<?, ?B/s]"
      ]
     },
     "metadata": {},
     "output_type": "display_data"
    },
    {
     "data": {
      "application/vnd.jupyter.widget-view+json": {
       "model_id": "f3b7137206634ce3a6ef3567a7cc3811",
       "version_major": 2,
       "version_minor": 0
      },
      "text/plain": [
       "model-00044-of-00083.safetensors:   0%|          | 0.00/3.51G [00:00<?, ?B/s]"
      ]
     },
     "metadata": {},
     "output_type": "display_data"
    },
    {
     "data": {
      "application/vnd.jupyter.widget-view+json": {
       "model_id": "2a5f670afac64edc8c142f18719b3d11",
       "version_major": 2,
       "version_minor": 0
      },
      "text/plain": [
       "model-00045-of-00083.safetensors:   0%|          | 0.00/3.51G [00:00<?, ?B/s]"
      ]
     },
     "metadata": {},
     "output_type": "display_data"
    },
    {
     "data": {
      "application/vnd.jupyter.widget-view+json": {
       "model_id": "93aae111f102400d97a9c47e69507b20",
       "version_major": 2,
       "version_minor": 0
      },
      "text/plain": [
       "model-00046-of-00083.safetensors:   0%|          | 0.00/3.51G [00:00<?, ?B/s]"
      ]
     },
     "metadata": {},
     "output_type": "display_data"
    },
    {
     "data": {
      "application/vnd.jupyter.widget-view+json": {
       "model_id": "490c57ddbd70432ea6d73b9cbe161981",
       "version_major": 2,
       "version_minor": 0
      },
      "text/plain": [
       "model-00047-of-00083.safetensors:   0%|          | 0.00/3.51G [00:00<?, ?B/s]"
      ]
     },
     "metadata": {},
     "output_type": "display_data"
    },
    {
     "data": {
      "application/vnd.jupyter.widget-view+json": {
       "model_id": "e66e9b30f83e42f9a6e11cc328a1f9b9",
       "version_major": 2,
       "version_minor": 0
      },
      "text/plain": [
       "model-00048-of-00083.safetensors:   0%|          | 0.00/3.51G [00:00<?, ?B/s]"
      ]
     },
     "metadata": {},
     "output_type": "display_data"
    },
    {
     "data": {
      "application/vnd.jupyter.widget-view+json": {
       "model_id": "ea3afe8f8d24440c96b3a915b2f36589",
       "version_major": 2,
       "version_minor": 0
      },
      "text/plain": [
       "model-00049-of-00083.safetensors:   0%|          | 0.00/3.51G [00:00<?, ?B/s]"
      ]
     },
     "metadata": {},
     "output_type": "display_data"
    },
    {
     "data": {
      "application/vnd.jupyter.widget-view+json": {
       "model_id": "ae7eef51db4a4bbcbebbea84648a5eea",
       "version_major": 2,
       "version_minor": 0
      },
      "text/plain": [
       "model-00050-of-00083.safetensors:   0%|          | 0.00/3.51G [00:00<?, ?B/s]"
      ]
     },
     "metadata": {},
     "output_type": "display_data"
    },
    {
     "data": {
      "application/vnd.jupyter.widget-view+json": {
       "model_id": "43530833c9ab48beb937cc57f5204744",
       "version_major": 2,
       "version_minor": 0
      },
      "text/plain": [
       "model-00051-of-00083.safetensors:   0%|          | 0.00/3.51G [00:00<?, ?B/s]"
      ]
     },
     "metadata": {},
     "output_type": "display_data"
    },
    {
     "data": {
      "application/vnd.jupyter.widget-view+json": {
       "model_id": "724e8c96b6754edd8e8c0dbb4117520d",
       "version_major": 2,
       "version_minor": 0
      },
      "text/plain": [
       "model-00052-of-00083.safetensors:   0%|          | 0.00/3.51G [00:00<?, ?B/s]"
      ]
     },
     "metadata": {},
     "output_type": "display_data"
    },
    {
     "data": {
      "application/vnd.jupyter.widget-view+json": {
       "model_id": "6ed51a01876148c4ba121b3264c8a13f",
       "version_major": 2,
       "version_minor": 0
      },
      "text/plain": [
       "model-00053-of-00083.safetensors:   0%|          | 0.00/3.51G [00:00<?, ?B/s]"
      ]
     },
     "metadata": {},
     "output_type": "display_data"
    },
    {
     "data": {
      "application/vnd.jupyter.widget-view+json": {
       "model_id": "b3e8e7ead8cf42cd87faffe669234676",
       "version_major": 2,
       "version_minor": 0
      },
      "text/plain": [
       "model-00054-of-00083.safetensors:   0%|          | 0.00/3.51G [00:00<?, ?B/s]"
      ]
     },
     "metadata": {},
     "output_type": "display_data"
    },
    {
     "data": {
      "application/vnd.jupyter.widget-view+json": {
       "model_id": "51bf3061213d411397d5f7d7ca3a4892",
       "version_major": 2,
       "version_minor": 0
      },
      "text/plain": [
       "model-00055-of-00083.safetensors:   0%|          | 0.00/3.51G [00:00<?, ?B/s]"
      ]
     },
     "metadata": {},
     "output_type": "display_data"
    },
    {
     "data": {
      "application/vnd.jupyter.widget-view+json": {
       "model_id": "b4fd4dafa0c044f1866ac6676faf2181",
       "version_major": 2,
       "version_minor": 0
      },
      "text/plain": [
       "model-00056-of-00083.safetensors:   0%|          | 0.00/3.51G [00:00<?, ?B/s]"
      ]
     },
     "metadata": {},
     "output_type": "display_data"
    },
    {
     "data": {
      "application/vnd.jupyter.widget-view+json": {
       "model_id": "10e371eff1444f17af05904b3172c094",
       "version_major": 2,
       "version_minor": 0
      },
      "text/plain": [
       "model-00057-of-00083.safetensors:   0%|          | 0.00/3.51G [00:00<?, ?B/s]"
      ]
     },
     "metadata": {},
     "output_type": "display_data"
    },
    {
     "data": {
      "application/vnd.jupyter.widget-view+json": {
       "model_id": "29d5d5c484114d47bfcdd7e91c31969c",
       "version_major": 2,
       "version_minor": 0
      },
      "text/plain": [
       "model-00058-of-00083.safetensors:   0%|          | 0.00/3.51G [00:00<?, ?B/s]"
      ]
     },
     "metadata": {},
     "output_type": "display_data"
    },
    {
     "data": {
      "application/vnd.jupyter.widget-view+json": {
       "model_id": "a37111c20bd14f11ad9bdaa210b15d43",
       "version_major": 2,
       "version_minor": 0
      },
      "text/plain": [
       "model-00059-of-00083.safetensors:   0%|          | 0.00/3.51G [00:00<?, ?B/s]"
      ]
     },
     "metadata": {},
     "output_type": "display_data"
    },
    {
     "data": {
      "application/vnd.jupyter.widget-view+json": {
       "model_id": "8d2fdb4110b14b798ede15a4cc760197",
       "version_major": 2,
       "version_minor": 0
      },
      "text/plain": [
       "model-00060-of-00083.safetensors:   0%|          | 0.00/3.51G [00:00<?, ?B/s]"
      ]
     },
     "metadata": {},
     "output_type": "display_data"
    },
    {
     "data": {
      "application/vnd.jupyter.widget-view+json": {
       "model_id": "c9e90957a94b4085b03da9cc1e03898f",
       "version_major": 2,
       "version_minor": 0
      },
      "text/plain": [
       "model-00061-of-00083.safetensors:   0%|          | 0.00/3.51G [00:00<?, ?B/s]"
      ]
     },
     "metadata": {},
     "output_type": "display_data"
    },
    {
     "data": {
      "application/vnd.jupyter.widget-view+json": {
       "model_id": "552d8c494ad54781a1b28048c7ffea29",
       "version_major": 2,
       "version_minor": 0
      },
      "text/plain": [
       "model-00062-of-00083.safetensors:   0%|          | 0.00/3.51G [00:00<?, ?B/s]"
      ]
     },
     "metadata": {},
     "output_type": "display_data"
    },
    {
     "data": {
      "application/vnd.jupyter.widget-view+json": {
       "model_id": "e4f0d53130c94e1197b85c1cb00ccacc",
       "version_major": 2,
       "version_minor": 0
      },
      "text/plain": [
       "model-00063-of-00083.safetensors:   0%|          | 0.00/3.51G [00:00<?, ?B/s]"
      ]
     },
     "metadata": {},
     "output_type": "display_data"
    },
    {
     "data": {
      "application/vnd.jupyter.widget-view+json": {
       "model_id": "6572e8a47ff846eeb1b67cef2aad6ad0",
       "version_major": 2,
       "version_minor": 0
      },
      "text/plain": [
       "model-00064-of-00083.safetensors:   0%|          | 0.00/3.51G [00:00<?, ?B/s]"
      ]
     },
     "metadata": {},
     "output_type": "display_data"
    },
    {
     "data": {
      "application/vnd.jupyter.widget-view+json": {
       "model_id": "a6a5d832ef9d4556abdec88e8e38e49e",
       "version_major": 2,
       "version_minor": 0
      },
      "text/plain": [
       "model-00065-of-00083.safetensors:   0%|          | 0.00/3.51G [00:00<?, ?B/s]"
      ]
     },
     "metadata": {},
     "output_type": "display_data"
    },
    {
     "data": {
      "application/vnd.jupyter.widget-view+json": {
       "model_id": "493ee05d2ad5425985c8956a054551d7",
       "version_major": 2,
       "version_minor": 0
      },
      "text/plain": [
       "model-00066-of-00083.safetensors:   0%|          | 0.00/3.51G [00:00<?, ?B/s]"
      ]
     },
     "metadata": {},
     "output_type": "display_data"
    },
    {
     "data": {
      "application/vnd.jupyter.widget-view+json": {
       "model_id": "991e4ed037734dfca64294cff9c54d3a",
       "version_major": 2,
       "version_minor": 0
      },
      "text/plain": [
       "model-00067-of-00083.safetensors:   0%|          | 0.00/3.51G [00:00<?, ?B/s]"
      ]
     },
     "metadata": {},
     "output_type": "display_data"
    },
    {
     "data": {
      "application/vnd.jupyter.widget-view+json": {
       "model_id": "739e44ef3f6d446383ca00dec1c2b628",
       "version_major": 2,
       "version_minor": 0
      },
      "text/plain": [
       "model-00068-of-00083.safetensors:   0%|          | 0.00/3.51G [00:00<?, ?B/s]"
      ]
     },
     "metadata": {},
     "output_type": "display_data"
    },
    {
     "data": {
      "application/vnd.jupyter.widget-view+json": {
       "model_id": "69d1c2038d754a1d96707598e80e8efa",
       "version_major": 2,
       "version_minor": 0
      },
      "text/plain": [
       "model-00069-of-00083.safetensors:   0%|          | 0.00/3.51G [00:00<?, ?B/s]"
      ]
     },
     "metadata": {},
     "output_type": "display_data"
    },
    {
     "data": {
      "application/vnd.jupyter.widget-view+json": {
       "model_id": "c8880597dab3426e8ddfb7dc5e19d501",
       "version_major": 2,
       "version_minor": 0
      },
      "text/plain": [
       "model-00070-of-00083.safetensors:   0%|          | 0.00/3.51G [00:00<?, ?B/s]"
      ]
     },
     "metadata": {},
     "output_type": "display_data"
    },
    {
     "data": {
      "application/vnd.jupyter.widget-view+json": {
       "model_id": "dcdf9b096d1b43daa6b50db30ff20fc3",
       "version_major": 2,
       "version_minor": 0
      },
      "text/plain": [
       "model-00071-of-00083.safetensors:   0%|          | 0.00/3.51G [00:00<?, ?B/s]"
      ]
     },
     "metadata": {},
     "output_type": "display_data"
    },
    {
     "data": {
      "application/vnd.jupyter.widget-view+json": {
       "model_id": "ce1fc294c9fb4a49aa6f892b5045ccdc",
       "version_major": 2,
       "version_minor": 0
      },
      "text/plain": [
       "model-00072-of-00083.safetensors:   0%|          | 0.00/3.51G [00:00<?, ?B/s]"
      ]
     },
     "metadata": {},
     "output_type": "display_data"
    },
    {
     "data": {
      "application/vnd.jupyter.widget-view+json": {
       "model_id": "316781ea4e9542caaee1d4e6bd5cfad8",
       "version_major": 2,
       "version_minor": 0
      },
      "text/plain": [
       "model-00073-of-00083.safetensors:   0%|          | 0.00/3.51G [00:00<?, ?B/s]"
      ]
     },
     "metadata": {},
     "output_type": "display_data"
    },
    {
     "data": {
      "application/vnd.jupyter.widget-view+json": {
       "model_id": "e028309a2fc248cd9d7a41ccde20ca38",
       "version_major": 2,
       "version_minor": 0
      },
      "text/plain": [
       "model-00074-of-00083.safetensors:   0%|          | 0.00/3.51G [00:00<?, ?B/s]"
      ]
     },
     "metadata": {},
     "output_type": "display_data"
    },
    {
     "data": {
      "application/vnd.jupyter.widget-view+json": {
       "model_id": "c6ed899abc404c47bd759b8ec6fda99c",
       "version_major": 2,
       "version_minor": 0
      },
      "text/plain": [
       "model-00075-of-00083.safetensors:   0%|          | 0.00/3.51G [00:00<?, ?B/s]"
      ]
     },
     "metadata": {},
     "output_type": "display_data"
    },
    {
     "data": {
      "application/vnd.jupyter.widget-view+json": {
       "model_id": "f9a0dc28a0224260b2e792add742d686",
       "version_major": 2,
       "version_minor": 0
      },
      "text/plain": [
       "model-00076-of-00083.safetensors:   0%|          | 0.00/3.51G [00:00<?, ?B/s]"
      ]
     },
     "metadata": {},
     "output_type": "display_data"
    },
    {
     "data": {
      "application/vnd.jupyter.widget-view+json": {
       "model_id": "bf4ca2d98de64697836890735c90011a",
       "version_major": 2,
       "version_minor": 0
      },
      "text/plain": [
       "model-00077-of-00083.safetensors:   0%|          | 0.00/3.51G [00:00<?, ?B/s]"
      ]
     },
     "metadata": {},
     "output_type": "display_data"
    },
    {
     "data": {
      "application/vnd.jupyter.widget-view+json": {
       "model_id": "92a03bab903f41a3a437193f3ea827b3",
       "version_major": 2,
       "version_minor": 0
      },
      "text/plain": [
       "model-00078-of-00083.safetensors:   0%|          | 0.00/3.51G [00:00<?, ?B/s]"
      ]
     },
     "metadata": {},
     "output_type": "display_data"
    },
    {
     "data": {
      "application/vnd.jupyter.widget-view+json": {
       "model_id": "114b41351ea14bc1879faef97a834cb3",
       "version_major": 2,
       "version_minor": 0
      },
      "text/plain": [
       "model-00079-of-00083.safetensors:   0%|          | 0.00/3.51G [00:00<?, ?B/s]"
      ]
     },
     "metadata": {},
     "output_type": "display_data"
    },
    {
     "data": {
      "application/vnd.jupyter.widget-view+json": {
       "model_id": "cdba0c44947447dc8199c4670ec04c9d",
       "version_major": 2,
       "version_minor": 0
      },
      "text/plain": [
       "model-00080-of-00083.safetensors:   0%|          | 0.00/3.51G [00:00<?, ?B/s]"
      ]
     },
     "metadata": {},
     "output_type": "display_data"
    },
    {
     "data": {
      "application/vnd.jupyter.widget-view+json": {
       "model_id": "86df27ee5a3140a488a3bf40d1661c1c",
       "version_major": 2,
       "version_minor": 0
      },
      "text/plain": [
       "model-00081-of-00083.safetensors:   0%|          | 0.00/1.94G [00:00<?, ?B/s]"
      ]
     },
     "metadata": {},
     "output_type": "display_data"
    },
    {
     "data": {
      "application/vnd.jupyter.widget-view+json": {
       "model_id": "c422094f42324044a51e182637c70ab1",
       "version_major": 2,
       "version_minor": 0
      },
      "text/plain": [
       "model-00082-of-00083.safetensors:   0%|          | 0.00/5.00G [00:00<?, ?B/s]"
      ]
     },
     "metadata": {},
     "output_type": "display_data"
    },
    {
     "data": {
      "application/vnd.jupyter.widget-view+json": {
       "model_id": "d125f47d8b5745719fee31ceb4eb0152",
       "version_major": 2,
       "version_minor": 0
      },
      "text/plain": [
       "model-00083-of-00083.safetensors:   0%|          | 0.00/2.39G [00:00<?, ?B/s]"
      ]
     },
     "metadata": {},
     "output_type": "display_data"
    },
    {
     "data": {
      "application/vnd.jupyter.widget-view+json": {
       "model_id": "a0999129785447989419ae213c517111",
       "version_major": 2,
       "version_minor": 0
      },
      "text/plain": [
       "Loading checkpoint shards:   0%|          | 0/83 [00:00<?, ?it/s]"
      ]
     },
     "metadata": {},
     "output_type": "display_data"
    },
    {
     "data": {
      "application/vnd.jupyter.widget-view+json": {
       "model_id": "ac70d53c69b84190b0131b672ec10b3a",
       "version_major": 2,
       "version_minor": 0
      },
      "text/plain": [
       "generation_config.json:   0%|          | 0.00/69.0 [00:00<?, ?B/s]"
      ]
     },
     "metadata": {},
     "output_type": "display_data"
    }
   ],
   "source": [
    "model = AutoModelForCausalLM.from_pretrained(\n",
    "    'allenai/Molmo-72B-0924',\n",
    "    trust_remote_code=True,\n",
    "    torch_dtype='auto',\n",
    "    device_map='auto'\n",
    ")"
   ]
  },
  {
   "cell_type": "code",
   "execution_count": 6,
   "id": "b5632a15-f313-40c1-bc2d-b353183e49bb",
   "metadata": {},
   "outputs": [],
   "source": [
    "urls = [\n",
    " 'https://samplebook.photos/img/4786a.jpg',\n",
    " 'https://samplebook.photos/img/284v.jpg',\n",
    " 'https://samplebook.photos/img/3193c.jpg',\n",
    " 'https://samplebook.photos/img/948d.jpg',\n",
    " 'https://samplebook.photos/img/3191i.jpg',\n",
    " 'https://samplebook.photos/img/4788oo.jpg',\n",
    " 'https://samplebook.photos/img/2086d.jpg',\n",
    " 'https://samplebook.photos/img/4781r.jpg',\n",
    " 'https://samplebook.photos/img/5521n.jpg',\n",
    " 'https://samplebook.photos/img/2073cc.jpg',\n",
    " 'https://samplebook.photos/img/2085b.jpg',\n",
    " 'https://samplebook.photos/img/4782c.jpg',\n",
    " 'https://samplebook.photos/img/4783v.jpg',\n",
    " 'https://samplebook.photos/img/4912gg.jpg',\n",
    " 'https://samplebook.photos/img/304h.jpg',\n",
    " 'https://samplebook.photos/img/2078i.jpg',\n",
    " 'https://samplebook.photos/img/2077q.jpg',\n",
    " 'https://samplebook.photos/img/3192h.jpg',\n",
    " 'https://samplebook.photos/img/904x.jpg',\n",
    " 'https://samplebook.photos/img/4792b.jpg',\n",
    " 'https://samplebook.photos/img/5301p.jpg',\n",
    " 'https://samplebook.photos/img/5207j.jpg',\n",
    " 'https://samplebook.photos/img/1007p.jpg',\n",
    " 'https://samplebook.photos/img/17l.jpg',\n",
    " 'https://samplebook.photos/img/286t.jpg',\n",
    " 'https://samplebook.photos/img/287g.jpg',\n",
    " 'https://samplebook.photos/img/3189j.jpg',\n",
    " 'https://samplebook.photos/img/4911d.jpg',\n",
    " 'https://samplebook.photos/img/4785a.jpg',\n",
    " 'https://samplebook.photos/img/4793a.jpg'\n",
    "]"
   ]
  },
  {
   "cell_type": "code",
   "execution_count": 7,
   "id": "8daa0cab-6cb0-4a44-be82-8775e7f0e85b",
   "metadata": {},
   "outputs": [],
   "source": [
    "prompt = 'There are two objects in this image. One is a color checker, and the other is a photographic sample book, open to a page containing a photograph. Give a detailed description of the photograph.'"
   ]
  },
  {
   "cell_type": "code",
   "execution_count": 8,
   "id": "36eba659-6c0c-42a4-890a-b63a1dd41d9a",
   "metadata": {},
   "outputs": [],
   "source": [
    "def get_response(url):\n",
    "    \n",
    "    inputs = processor.process(\n",
    "        images=[Image.open(requests.get(url, stream=True).raw)],\n",
    "        text=prompt\n",
    "    )\n",
    "\n",
    "    # move inputs to the correct device and make a batch of size 1\n",
    "    inputs = {k: v.to(model.device).unsqueeze(0) for k, v in inputs.items()}\n",
    "    \n",
    "    # generate output; stop generation when <|endoftext|> is generated\n",
    "    output = model.generate_from_batch(\n",
    "        inputs,\n",
    "        GenerationConfig(max_new_tokens=1024, stop_strings=\"<|endoftext|>\"),\n",
    "        tokenizer=processor.tokenizer\n",
    "    )\n",
    "    \n",
    "    # only get generated tokens; decode them to text\n",
    "    generated_tokens = output[0,inputs['input_ids'].size(1):]\n",
    "    generated_text = processor.tokenizer.decode(generated_tokens, skip_special_tokens=True)\n",
    "\n",
    "    return generated_text"
   ]
  },
  {
   "cell_type": "code",
   "execution_count": 9,
   "id": "52bba860-a6e7-4f49-86eb-99deabd1ac1d",
   "metadata": {},
   "outputs": [
    {
     "name": "stdout",
     "output_type": "stream",
     "text": [
      "https://samplebook.photos/img/4786a.jpg \n",
      "  The photograph in the open sample book appears to be a black and white image of a road. The road is flanked by grassy areas on both sides, creating a striking contrast between the dark pavement and the lighter vegetation. \n",
      "\n",
      "The composition of the photograph is interesting, as it's oriented vertically within the horizontal frame of the book. This creates a unique visual effect, drawing the viewer's eye along the length of the road.\n",
      "\n",
      "While the image is in grayscale, it likely showcases various shades and textures, from the deep blacks of the asphalt to the lighter grays and whites of the surrounding landscape. The use of black and white photography often adds a timeless quality to images, emphasizing form, contrast, and texture over color.\n",
      "\n",
      "This photograph seems to be a good example of how roads are often used in photography as a metaphor for journeys, paths in life, or the concept of moving forward. The straight, unwavering line of the road cutting through the landscape can create a sense of purpose and direction.\n",
      "\n",
      "The inclusion of this photograph in what appears to be a sample book suggests it might be used to demonstrate photographic techniques, printing quality, or perhaps to showcase the capabilities of a particular camera or film stock. \n",
      "\n",
      "\n",
      "https://samplebook.photos/img/284v.jpg \n",
      "  The photograph in the open sample book shows a row of large cylindrical tanks. These tanks are white in color and have black tops. They are arranged in a line, with the closest tank being the largest and the tanks appearing smaller as they recede into the distance.\n",
      "\n",
      "The tanks are set against a backdrop of metal structures, which appear to be power lines or electrical towers. This suggests that the photograph was taken at an industrial site, possibly a power plant or chemical facility.\n",
      "\n",
      "At the bottom of the photograph, there's text that reads \"VARILOUR\" in quotation marks, followed by \"WHITE GLOSSY\". This is likely the name or description of the paint or coating used on the tanks.\n",
      "\n",
      "The photograph is in black and white, which gives it a classic, industrial feel. It's mounted on a white page in the sample book, which is held in place by three silver rings on the left side of the black leather cover. \n",
      "\n",
      "\n",
      "https://samplebook.photos/img/3193c.jpg \n",
      "  The photograph in the sample book shows a living room interior. It's a black and white image featuring a chandelier hanging from the ceiling. The room contains a couch and a chair, both with floral patterns. There's also a table with a lamp visible in the scene.\n",
      "\n",
      "On the walls, you can see several framed pictures hanging. The floor is covered with a rug, and in one corner of the room, there's a plant adding a touch of nature to the interior.\n",
      "\n",
      "At the bottom of the photograph, there's text that reads \"VEGA K 203 Ferrania.\" This is likely information about the photograph or the camera used to capture it.\n",
      "\n",
      "The image provides a glimpse into what appears to be a cozy, well-decorated living space from possibly mid-20th century, given the style of furniture and decor. \n",
      "\n",
      "\n",
      "https://samplebook.photos/img/948d.jpg \n",
      "  The photograph in the sample book shows a serene outdoor scene. It features a tree with lush foliage and a road running alongside it. The image is printed on cream-colored paper, which gives it a vintage or artistic quality.\n",
      "\n",
      "The photograph is displayed sideways on the page, which is an interesting artistic choice. This presentation style adds a unique visual element to the sample book.\n",
      "\n",
      "The use of cream-colored paper for the photograph creates a warm, nostalgic atmosphere. This choice of paper color can enhance the overall aesthetic appeal of the image and is often used in fine art photography or vintage-style prints.\n",
      "\n",
      "The combination of the natural elements (the tree) with the man-made structure (the road) creates an interesting contrast in the photograph. This juxtaposition can evoke thoughts about the relationship between nature and human development.\n",
      "\n",
      "Overall, the photograph seems to capture a moment of tranquility, inviting the viewer to contemplate the beauty of the natural world alongside human presence. The sideways orientation and the cream-colored paper add to the artistic value of the image, making it a compelling sample in the photographic book. \n",
      "\n",
      "\n",
      "https://samplebook.photos/img/3191i.jpg \n",
      "  The photograph in the open sample book shows the iconic Trevi Fountain in Rome, Italy. This famous Baroque masterpiece is captured in all its grandeur, with its elaborate sculptural elements and cascading water.\n",
      "\n",
      "The fountain is framed by a city street, with buildings visible in the background, providing context to its urban setting. The image appears to be a vintage black and white photograph, which adds a timeless quality to the scene.\n",
      "\n",
      "The Trevi Fountain's central feature - a large seahorse-drawn chariot - is likely visible, though details may be somewhat obscured due to the nature of the photograph. The fountain's ornate architecture and the play of light on the water create a captivating visual composition.\n",
      "\n",
      "This photograph beautifully captures one of Rome's most beloved landmarks, showcasing its architectural splendor and the enchanting atmosphere it creates in the heart of the city. \n",
      "\n",
      "\n",
      "https://samplebook.photos/img/4788oo.jpg \n",
      "  The photograph in the sample book shows an older man with a distinctive appearance. He has a full beard and mustache, and is wearing a dark hat that covers his head. The man is dressed in a white shirt with a collar and a dark jacket.\n",
      "\n",
      "The most notable feature of the photograph is the man's pipe. He's holding it in his mouth, and there's a visible wisp of smoke coming from it, adding a dynamic element to the image.\n",
      "\n",
      "The photograph has a vintage quality to it, suggesting it might be from an earlier era. It's mounted on a page with a cream-colored background, which complements the tones of the photograph nicely.\n",
      "\n",
      "At the bottom of the photograph, there's some text visible. It reads \"Dufaycolor Adlux 60\", which likely refers to the photographic process or type used to create this image.\n",
      "\n",
      "Overall, it's a striking portrait that captures the character of the subject, with the smoking pipe being a focal point that adds personality to the image. \n",
      "\n",
      "\n",
      "https://samplebook.photos/img/2086d.jpg \n",
      "  The photograph in the sample book is a black and white image featuring a man and a woman. The man is seated, wearing a dark suit, and has dark hair. He's looking up at the woman with a smile on his face.\n",
      "\n",
      "The woman is standing above the man, wearing a light-colored dress. She's holding a doll in her left hand and is looking down at the man, also with a smile.\n",
      "\n",
      "The photograph has a white border, and at the bottom, there's text that reads \"Kodak Ektaralure Paper X\". This suggests it's a sample of photographic paper, likely showcasing the quality and tones achievable with this particular type of paper.\n",
      "\n",
      "The composition of the photograph creates an interesting dynamic between the seated man and the standing woman, with their smiles and eye contact conveying a sense of warmth and connection. The inclusion of the doll adds an intriguing element to the scene, possibly hinting at themes of family or childhood. \n",
      "\n",
      "\n",
      "https://samplebook.photos/img/4781r.jpg \n",
      "  The photograph in the sample book shows a young man, likely in his early 20s, with short dark hair. He's wearing a white long-sleeved shirt with the top button undone and has a warm, friendly smile on his face. The man is seated with his arms crossed in front of him, looking slightly to the right of the camera.\n",
      "\n",
      "The background of the photograph appears to be a wooden wall, giving the image a rustic or natural feel. The photograph is in black and white, which adds a classic or vintage quality to the image.\n",
      "\n",
      "Below the photograph, there's text that reads \"INDITONE K. Tended with Hanish Toner\". This information is likely related to the printing or toning process used to create this particular photograph, which aligns with the \"Print Toning Table\" visible on the left page of the open book. \n",
      "\n",
      "\n",
      "https://samplebook.photos/img/5521n.jpg \n",
      "  The photograph in the sample book shows a barrel standing upright on a wooden surface. The barrel is made of wood with metal bands encircling it. It has a black and white appearance, giving it a classic, monochromatic look.\n",
      "\n",
      "The barrel is positioned on what appears to be a wooden floor or table, which adds a rustic element to the composition. In the background, there's a plant visible, which provides a natural contrast to the geometric shape of the barrel.\n",
      "\n",
      "Below the photograph, there's text that reads \"Kodak Medalist Paper F, available in S&W and D&W\". This indicates that the image is likely showcasing the qualities of a specific type of photographic paper produced by Kodak.\n",
      "\n",
      "The photograph is displayed on a white page within the yellow spiral-bound sample book, which is open to show this particular image. This presentation style suggests that the book is used to demonstrate different photographic effects or paper types to potential customers or photographers. \n",
      "\n",
      "\n",
      "https://samplebook.photos/img/2073cc.jpg \n",
      "  The photograph in the sample book shows an aerial view of a cityscape. It's a black and white image that captures a diverse urban landscape. In the center of the photograph, there's a prominent road that runs through the city, serving as a main artery for traffic.\n",
      "\n",
      "To the left of this central road, there's a noticeable body of water, which could be a river or a lake. This adds an interesting element to the city's geography and likely influences its development.\n",
      "\n",
      "The right side of the image is densely populated with buildings, creating a classic urban skyline. This area appears to be the more developed part of the city, possibly containing commercial districts or high-density residential areas.\n",
      "\n",
      "The photograph is taken from a high vantage point, providing a comprehensive view of the city's layout and structure. It's mounted on a page with a green border, and there's some text visible, including the words \"WATERLOO\" and \"BROODWEG,\" which might indicate the location or provide context for the photograph.\n",
      "\n",
      "This aerial shot offers a fascinating glimpse into the urban planning and development of what seems to be a bustling city, showcasing its mix of natural features and man-made structures. \n",
      "\n",
      "\n",
      "https://samplebook.photos/img/2085b.jpg \n",
      "  The photograph in the open sample book shows a woman standing on a rocky shoreline. She's wearing a short-sleeved shirt and shorts, and is barefoot. The woman is holding a long stick or pole, which she's using to point at her own shadow cast on the ground.\n",
      "\n",
      "The scene is captured in black and white, creating a striking contrast between the woman, the rocky terrain, and her elongated shadow. The composition draws attention to the interplay between the subject and her shadow, emphasizing the relationship between the human figure and its environment.\n",
      "\n",
      "The rocky shoreline provides a textured backdrop, adding depth and interest to the image. The woman's casual attire and bare feet suggest a relaxed, possibly spontaneous moment, perhaps during a leisurely walk along the shore.\n",
      "\n",
      "This photograph effectively captures a simple yet intriguing moment, using the stick-pointing gesture to highlight the shadow and create a visually compelling scene. \n",
      "\n",
      "\n",
      "https://samplebook.photos/img/4782c.jpg \n",
      "  The photograph displayed in the open sample book is a striking black and white image of a woman sitting on the deck of a sailboat. The woman is wearing a long, white dress and a white headscarf, which gives her a timeless and elegant appearance. She's positioned in the center of the frame, looking directly at the camera with a neutral expression.\n",
      "\n",
      "The sailboat's deck is visible beneath her, and a large sail can be seen in the background. The sail appears to be white with some dark stripes, adding visual interest to the composition. The sky in the background is a light gray, which contrasts nicely with the darker elements of the boat and the woman's figure.\n",
      "\n",
      "The photograph has a vintage quality to it, possibly dating back to the 1950s or 1960s. It's printed on a page with a white border, and there's some text visible at the bottom of the page, though it's too small to read clearly from this perspective.\n",
      "\n",
      "Overall, it's a captivating portrait that combines elements of maritime life with classic photographic portraiture, creating a timeless and evocative image. \n",
      "\n",
      "\n",
      "https://samplebook.photos/img/4783v.jpg \n",
      "  The photograph in the open sample book shows a small, intricately carved elephant figurine. The elephant is positioned with its trunk raised high in the air and its mouth open, giving it a dynamic and lively appearance. The figurine is facing to the right, allowing us to see its profile clearly.\n",
      "\n",
      "Behind the elephant, there's a decorative vase visible. The vase appears to have a dark color with light-colored designs on it, adding an interesting contrast to the lighter-colored elephant in the foreground.\n",
      "\n",
      "The photograph itself has a vintage quality, with a slightly yellowed or aged appearance. It's mounted on a white page within the sample book, which is secured with a black ribbon in the center.\n",
      "\n",
      "At the bottom of the photograph, there's text that reads \"Auto Grade F,\" which might indicate some information about the photograph's quality or classification.\n",
      "\n",
      "Overall, the photograph captures a moment of delicate craftsmanship, showcasing both the elephant figurine and the decorative vase behind it in a visually appealing composition. \n",
      "\n",
      "\n",
      "https://samplebook.photos/img/4912gg.jpg \n",
      "  The photograph in the open sample book appears to be a black and white image of a bridge. The bridge spans across a body of water, creating a striking architectural focal point in the composition. While the details may not be entirely clear, the photograph likely showcases the bridge's structure and design against the contrasting backdrop of water and sky. This type of image is often used to demonstrate the capabilities of photographic paper or printing processes, highlighting how well they can capture and reproduce architectural details and tonal range in black and white photography. \n",
      "\n",
      "\n",
      "https://samplebook.photos/img/304h.jpg \n",
      "  The photograph on the open page of the photographic sample book shows a man working on a large camera. The man is wearing a white shirt and is leaning over the camera, which appears to be a professional-grade model with a prominent lens.\n",
      "\n",
      "The camera itself is quite substantial in size, suggesting it's likely used for high-quality photography, possibly in a studio setting. The man's posture and focus indicate he's carefully adjusting or inspecting some part of the camera.\n",
      "\n",
      "This image seems to be demonstrating a technique or piece of equipment related to photographic enlargement, which aligns with the text visible on the page mentioning \"enlarging computer.\"\n",
      "\n",
      "The photograph is presented in black and white, which is common for technical or instructional photography books, allowing the reader to focus on the subject matter without the distraction of color. \n",
      "\n",
      "\n",
      "https://samplebook.photos/img/2078i.jpg \n",
      "  The photograph in the open sample book shows an ILFORD PLASTIKA A2 camera. This black and white image captures the camera from a side angle, with its lens pointing towards the right side of the frame. The camera is positioned on a light-colored surface, likely a table or studio setup, and is casting a shadow to the right, indicating the light source is coming from the left.\n",
      "\n",
      "The ILFORD PLASTIKA A2 appears to be a compact, rectangular camera made of plastic. Its design suggests it's a simple point-and-shoot model, possibly from an earlier era of photography. The lens is visible on the front of the camera, and there may be a flash or other component on top, though it's not clearly discernible from this angle.\n",
      "\n",
      "The photograph in the sample book is presented on a white page, which contrasts nicely with the black and white image of the camera. This presentation style is typical of product photography, designed to showcase the camera's features and design clearly.\n",
      "\n",
      "ILFORD is a well-known brand in the photography world, famous for its high-quality black and white photographic films and papers. The inclusion of this camera in a photographic sample book suggests it may have been used to demonstrate the capabilities of ILFORD's photographic products. \n",
      "\n",
      "\n",
      "https://samplebook.photos/img/2077q.jpg \n",
      "  The photograph in the sample book is a striking black and white image that captures a dramatic landscape scene. It features a person sitting on the edge of a cliff, their legs dangling over the precipice. The individual is wearing a jacket and has their hands resting on their knees, conveying a sense of contemplation or perhaps daring.\n",
      "\n",
      "Below the cliff, a river can be seen winding its way through the valley, adding a dynamic element to the composition. The contrast between the rugged, stationary cliff and the flowing water creates a visually compelling scene.\n",
      "\n",
      "In the background, another cliff is visible, providing depth and scale to the image. The interplay of light and shadow across the landscape suggests a cloudy day, which adds to the moody atmosphere of the photograph.\n",
      "\n",
      "The image is printed on a page that's attached to the sample book with metal clips. Above the photograph, there's text that reads \"SEMI-MATT\" and \"2.24K\", which likely refers to the paper type or printing specifications.\n",
      "\n",
      "This powerful image effectively demonstrates the capabilities of the photographic process, showcasing excellent detail, contrast, and tonal range. It's an impressive example of how photography can capture both the grandeur of nature and the human element within it. \n",
      "\n",
      "\n",
      "https://samplebook.photos/img/3192h.jpg \n",
      "  The photograph displayed in the sample book is a striking black and white image captured from within an arched doorway. This architectural framing device creates a powerful visual effect, drawing the viewer's eye into the scene beyond.\n",
      "\n",
      "Through the archway, we see a landscape dominated by tall, slender trees that resemble cypress or Italian cypress. These trees are arranged in a formal, symmetrical pattern, creating a sense of order and tranquility in the composition. Their dark silhouettes stand in stark contrast to the lighter sky behind them, which is dotted with clouds.\n",
      "\n",
      "The foreground of the photograph includes a set of steps leading down from the doorway, suggesting that the photographer was positioned on an elevated terrace or balcony. This vantage point adds depth to the image and creates a sense of looking out over the landscape.\n",
      "\n",
      "The overall composition is reminiscent of classical landscape paintings, with the archway serving as a natural frame and the carefully arranged trees creating a sense of harmony and balance. The black and white treatment emphasizes the strong lines and contrasts in the scene, lending it a timeless quality.\n",
      "\n",
      "At the bottom of the page, there's text that reads \"ILFORD Bromide B. 24K\", which likely refers to the type of photographic paper or process used to create this print. \n",
      "\n",
      "\n",
      "https://samplebook.photos/img/904x.jpg \n",
      "  The photograph displayed in the open sample book shows a serene winter landscape. It's a black and white image capturing a snow-covered forest scene. The trees are bare, their branches stark against the winter sky, and the ground is blanketed in a thick layer of snow.\n",
      "\n",
      "In the foreground, there's a small stream or creek cutting through the snowy terrain. The water appears dark and contrasts sharply with the surrounding white landscape. This creates a focal point in the image and adds depth to the scene.\n",
      "\n",
      "The composition of the photograph is well-balanced, with the trees framing the scene on both sides and the stream leading the viewer's eye through the center. The use of black and white photography emphasizes the contrast between the dark trees, the white snow, and the flowing water.\n",
      "\n",
      "Overall, it's a peaceful and tranquil winter scene that captures the quiet beauty of nature in its frozen state. The photograph exemplifies how black and white imagery can be used to create a striking and evocative representation of a landscape. \n",
      "\n",
      "\n",
      "https://samplebook.photos/img/4792b.jpg \n",
      "  The photograph in the sample book appears to be a black and white image of a typewriter keyboard. The image is taken from a slightly elevated angle, providing a view of the keys and the space bar.\n",
      "\n",
      "The keyboard layout is clearly visible, with the individual keys arranged in the standard QWERTY configuration typical of typewriters from the early to mid-20th century. The space bar, which is typically the longest key on a typewriter, is prominently displayed at the bottom of the keyboard.\n",
      "\n",
      "The photograph has a vintage quality to it, likely due to its black and white nature and the subject matter. The lighting seems to be even, allowing for good visibility of the keyboard's details without creating harsh shadows.\n",
      "\n",
      "At the bottom of the photograph, there's a white border with the text \"BROVIRA 1\" printed in black. This could be the title of the photograph or possibly a reference number for the sample book.\n",
      "\n",
      "The overall composition of the photograph within the sample book gives it a professional, archival appearance, suggesting it might be used for reference or study purposes in typography or design. \n",
      "\n",
      "\n",
      "https://samplebook.photos/img/5301p.jpg \n",
      "  The photograph displayed in the sample book is a striking black and white composition. It features a white vase as the central subject, adorned with a black design. The vase is positioned on a table, creating an elegant focal point.\n",
      "\n",
      "In front of the vase, there's a black necklace artfully arranged in a zig-zag pattern. This adds an interesting visual element and contrasts beautifully with the white vase.\n",
      "\n",
      "The background of the photograph is predominantly white, but it's not plain. There are diagonal lines running from the top left to the bottom right, adding depth and texture to the image. These lines appear to be shadows, possibly from window blinds, which creates an intriguing interplay of light and shadow.\n",
      "\n",
      "In the top right corner of the photograph, there's a partial view of a woman's face. Only her eye and eyebrow are visible, peeking over the top of the image. This subtle inclusion of a human element adds an element of mystery and draws the viewer's gaze.\n",
      "\n",
      "The composition is well-balanced and visually appealing, demonstrating the high quality of Ilford's photographic paper. The use of light, shadow, and contrast in this black and white image is particularly effective, showcasing the paper's ability to capture intricate details and tones. \n",
      "\n",
      "\n",
      "https://samplebook.photos/img/5207j.jpg \n",
      "  The photograph in the open sample book is a black and white image of a dog lying on a bed. The dog is wearing a bow on its head, adding a charming and playful element to the scene. The bed is covered with a polka dot blanket, which creates an interesting visual contrast with the dog's fur.\n",
      "\n",
      "The dog appears to be relaxed and comfortable, with its head resting on the pillow. The use of black and white photography gives the image a classic, timeless quality, emphasizing the textures and shapes in the scene rather than relying on color.\n",
      "\n",
      "The composition of the photograph seems to focus on the dog as the main subject, with the bed and bedding serving as a cozy backdrop. The polka dot pattern of the blanket likely adds a nice visual interest to the image, creating a pleasing contrast with the dog's form.\n",
      "\n",
      "Overall, this photograph seems to capture a peaceful, intimate moment of a pet at rest in a comfortable home environment. The combination of the dog with the bow and the polka dot bedding gives the image a whimsical and endearing quality. \n",
      "\n",
      "\n",
      "https://samplebook.photos/img/1007p.jpg \n",
      "  The photograph in the sample book shows a young child, likely around two years old, standing and laughing. The child has curly blonde hair and is wearing a short-sleeved dress with a collar and buttons down the front. They're also wearing black shoes that appear too large for their feet.\n",
      "\n",
      "The child is standing on what looks like a light-colored floor, possibly tile, against a darker gray background. Their arms are outstretched, and they're looking down and to the left with a joyful expression.\n",
      "\n",
      "This black and white photograph captures a candid, happy moment of childhood. The child's posture and expression convey a sense of innocence and spontaneity, making it a charming and engaging image.\n",
      "\n",
      "Below the photograph, there's text that reads \"Hairbronze Enlarging Grade Single Weight,\" which might indicate the type of photographic paper or process used for this print. \n",
      "\n",
      "\n",
      "https://samplebook.photos/img/17l.jpg \n",
      "  The photograph in the sample book shows a young blonde woman with short hair. She's wearing a white dress and has a watch on her left wrist. Her left hand is placed on her hip, giving her a confident pose. The woman is looking directly at the camera with a slight smile.\n",
      "\n",
      "The background of the photograph is dark, which creates a striking contrast with the subject. There's a black border around the image, and at the top, there's text that reads \"REKORD-RAPID 119\" in white letters.\n",
      "\n",
      "The composition of the photograph is well-balanced, with the woman positioned centrally in the frame. The lighting appears to be professional, highlighting the subject's features and the details of her dress effectively.\n",
      "\n",
      "This photograph seems to be a portrait or fashion shot, showcasing the woman's style and personality. The inclusion of this image in a photographic sample book suggests it may be used to demonstrate the quality of the camera or photographic equipment being advertised. \n",
      "\n",
      "\n",
      "https://samplebook.photos/img/286t.jpg \n",
      "  The photograph in the sample book shows a woman standing in a garden setting. She's wearing a white dress and white shoes, and is positioned in front of a white picket fence. The woman is holding the fence with her right hand and looking directly at the camera with a smile.\n",
      "\n",
      "Behind the woman, there's a brick wall and a brick pillar visible. The scene is surrounded by trees and bushes, creating a lush garden atmosphere. The ground appears to be grassy.\n",
      "\n",
      "The photograph is in black and white, which is typical for a photographic sample book from this era. It's a well-composed image that showcases the capabilities of the Ansco Lupex photographic paper, demonstrating its ability to capture fine details and create a pleasant, natural-looking image. \n",
      "\n",
      "\n",
      "https://samplebook.photos/img/287g.jpg \n",
      "  The photograph in the sample book shows two women leaning against a white wall with a window. The window has a grid pattern, and the women are standing on a gray concrete floor.\n",
      "\n",
      "Both women are wearing white pants and black jackets, creating a striking contrast against the white wall behind them. The woman on the left has long black hair and is leaning against the wall with her right arm. She's wearing black boots and has her left leg bent, with her foot resting against the wall.\n",
      "\n",
      "The woman on the right has short black hair and is also leaning against the wall, but with her left arm. She's wearing black high heels and has her right leg bent, with her foot resting against the wall.\n",
      "\n",
      "Both women are looking directly at the camera, creating a powerful and engaging image. The composition, with the two figures against the white background and grid-patterned window, has a strong visual impact.\n",
      "\n",
      "At the bottom of the photograph, there's text that reads \"Aga Porta Haps 11/11 Boy\", which might be the title of the photograph or information about the models or photographer. \n",
      "\n",
      "\n",
      "https://samplebook.photos/img/3189j.jpg \n",
      "  The photograph in the sample book shows a dirt road stretching into the distance. On the right side of the road, two people can be seen riding horses, adding a sense of movement and life to the scene. The landscape surrounding the road is predominantly flat, with grassy areas visible on both sides.\n",
      "\n",
      "In the background, a mountain range is visible on the horizon, providing a stunning natural backdrop to the scene. The sky above appears to be clear, contributing to the overall serene atmosphere of the image.\n",
      "\n",
      "The photograph is presented in black and white, which gives it a classic, timeless quality. It's framed with a gold border, enhancing its visual appeal within the sample book. Below the photograph, there's some text, likely providing information about the image or its photographer.\n",
      "\n",
      "This photograph captures a moment of rural tranquility, showcasing both the beauty of the natural landscape and the traditional mode of transportation in what seems to be a bygone era. The combination of the dirt road, horseback riders, expansive grasslands, and distant mountains creates a compelling narrative of a journey through a picturesque countryside. \n",
      "\n",
      "\n",
      "https://samplebook.photos/img/4911d.jpg \n",
      "  The photograph in the open sample book appears to be a sepia-toned image depicting a rural scene. It shows a small hut or cottage with a thatched roof, surrounded by trees. In front of the hut, there's a horse-drawn carriage, with the horse standing in front of it. The scene has a nostalgic, old-fashioned quality, reminiscent of a bygone era.\n",
      "\n",
      "The image is framed by a brown border, which complements the sepia tones of the photograph itself. The overall composition suggests a peaceful, pastoral setting, offering a glimpse into rural life from perhaps the 19th or early 20th century.\n",
      "\n",
      "The sepia tone of the photograph gives it a warm, vintage feel, enhancing its historical atmosphere and adding to its charm as a sample image in what seems to be a collection of photographic prints or illustrations. \n",
      "\n",
      "\n",
      "https://samplebook.photos/img/4785a.jpg \n",
      "  The photograph in the open sample book appears to be a striking portrait of a woman. She's wearing a white headband and a white dress, complemented by a pearl necklace. The woman's head is tilted to the left, and she's gazing directly at the camera with a neutral expression.\n",
      "\n",
      "The portrait has an artistic quality, with the woman's face and upper body in sharp focus against a blurred background. This selective focus technique draws attention to her facial features and creates a sense of depth in the image.\n",
      "\n",
      "The photograph is printed on a white page and is surrounded by a black border, which helps to frame the image and make it stand out. The book itself appears to be old and worn, with a brown cover that's peeling at the edges, suggesting it has been well-used over time.\n",
      "\n",
      "Overall, the photograph has a classic, timeless quality that fits well with the vintage appearance of the sample book. \n",
      "\n",
      "\n",
      "https://samplebook.photos/img/4793a.jpg \n",
      "  The photograph in the sample book shows a woman in a white hat and striped shirt. She's pouring water from a large metal pot into her mouth, with water streaming down her face. The image is in black and white, giving it a vintage feel. The woman's eyes are closed, and her head is tilted back as she drinks. The photograph is oriented sideways on the page, with the woman's head pointing to the left and her feet to the right. \n",
      "\n",
      "\n"
     ]
    }
   ],
   "source": [
    "responses_molmo = {}\n",
    "\n",
    "for url in urls:\n",
    "    response = get_response(url)\n",
    "    print(url,\"\\n\",response,\"\\n\\n\")\n",
    "    responses_molmo[url] = {'allenai/Molmo-72B-0924':response}"
   ]
  },
  {
   "cell_type": "code",
   "execution_count": 10,
   "id": "9c9d78e4-3541-410d-8b31-4305c9cbbed5",
   "metadata": {},
   "outputs": [],
   "source": [
    "import pickle"
   ]
  },
  {
   "cell_type": "code",
   "execution_count": 11,
   "id": "392d1b86-07a7-497e-bcb0-1c4a9096f761",
   "metadata": {},
   "outputs": [],
   "source": [
    "with open(\"responses_molmo.pkl\", \"wb\") as f:\n",
    "    pickle.dump(responses_molmo, f)"
   ]
  }
 ],
 "metadata": {
  "kernelspec": {
   "display_name": "Python 3 (ipykernel)",
   "language": "python",
   "name": "python3"
  },
  "language_info": {
   "codemirror_mode": {
    "name": "ipython",
    "version": 3
   },
   "file_extension": ".py",
   "mimetype": "text/x-python",
   "name": "python",
   "nbconvert_exporter": "python",
   "pygments_lexer": "ipython3",
   "version": "3.10.4"
  }
 },
 "nbformat": 4,
 "nbformat_minor": 5
}
